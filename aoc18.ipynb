{
 "cells": [
  {
   "cell_type": "markdown",
   "metadata": {},
   "source": [
    "# Advent of Code Day 18: RAM Run - Part 1 & 2\n",
    "Read the coordinates of falling bytes from the input file"
   ]
  },
  {
   "cell_type": "code",
   "execution_count": 1,
   "metadata": {
    "execution": {
     "iopub.execute_input": "2024-12-30T13:53:34.589608Z",
     "iopub.status.busy": "2024-12-30T13:53:34.589425Z",
     "iopub.status.idle": "2024-12-30T13:53:34.597150Z",
     "shell.execute_reply": "2024-12-30T13:53:34.596581Z"
    }
   },
   "outputs": [],
   "source": [
    "def read_coordinates(filename):\n",
    "    with open(filename, 'r') as f:\n",
    "        return [tuple(map(int, line.strip().split(','))) for line in f]\n",
    "        \n",
    "bytes_positions = read_coordinates('aoc18.txt')"
   ]
  },
  {
   "cell_type": "markdown",
   "metadata": {},
   "source": [
    "Implement pathfinding and check if path exists"
   ]
  },
  {
   "cell_type": "code",
   "execution_count": 2,
   "metadata": {
    "execution": {
     "iopub.execute_input": "2024-12-30T13:53:34.599081Z",
     "iopub.status.busy": "2024-12-30T13:53:34.598734Z",
     "iopub.status.idle": "2024-12-30T13:53:34.653944Z",
     "shell.execute_reply": "2024-12-30T13:53:34.653414Z"
    }
   },
   "outputs": [],
   "source": [
    "import numpy as np\n",
    "from collections import deque\n",
    "\n",
    "def has_path_to_exit(grid):\n",
    "    rows, cols = grid.shape\n",
    "    start, end = (0, 0), (rows-1, cols-1)\n",
    "    queue = deque([start])\n",
    "    visited = {start}\n",
    "    directions = [(0, 1), (1, 0), (0, -1), (-1, 0)]\n",
    "    \n",
    "    while queue:\n",
    "        y, x = queue.popleft()\n",
    "        if (y, x) == end:\n",
    "            return True\n",
    "        for dy, dx in directions:\n",
    "            ny, nx = y + dy, x + dx\n",
    "            if (0 <= ny < rows and 0 <= nx < cols and \n",
    "                grid[ny, nx] == 0 and (ny, nx) not in visited):\n",
    "                visited.add((ny, nx))\n",
    "                queue.append((ny, nx))\n",
    "    return False"
   ]
  },
  {
   "cell_type": "markdown",
   "metadata": {},
   "source": [
    "Find first byte that blocks the path"
   ]
  },
  {
   "cell_type": "code",
   "execution_count": 3,
   "metadata": {
    "execution": {
     "iopub.execute_input": "2024-12-30T13:53:34.656733Z",
     "iopub.status.busy": "2024-12-30T13:53:34.656474Z",
     "iopub.status.idle": "2024-12-30T13:53:48.704449Z",
     "shell.execute_reply": "2024-12-30T13:53:48.703789Z"
    }
   },
   "outputs": [],
   "source": [
    "def find_blocking_byte(positions, size=71):\n",
    "    grid = np.zeros((size, size), dtype=np.uint8)\n",
    "    \n",
    "    for i, (x, y) in enumerate(positions):\n",
    "        grid[y, x] = 1\n",
    "        if not has_path_to_exit(grid):\n",
    "            return x, y\n",
    "    return None\n",
    "\n",
    "blocking_x, blocking_y = find_blocking_byte(bytes_positions)\n",
    "with open('result.txt', 'w') as f:\n",
    "    f.write(f\"{blocking_x},{blocking_y}\")"
   ]
  }
 ],
 "metadata": {
  "language_info": {
   "codemirror_mode": {
    "name": "ipython",
    "version": 3
   },
   "file_extension": ".py",
   "mimetype": "text/x-python",
   "name": "python",
   "nbconvert_exporter": "python",
   "pygments_lexer": "ipython3",
   "version": "3.12.8"
  }
 },
 "nbformat": 4,
 "nbformat_minor": 4
}
