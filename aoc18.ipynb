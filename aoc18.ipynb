{
 "cells": [
  {
   "cell_type": "markdown",
   "metadata": {},
   "source": [
    "# Advent of Code Day 18: RAM Run\n",
    "First, let's read and parse the input file containing byte coordinates."
   ]
  },
  {
   "cell_type": "code",
   "execution_count": 1,
   "metadata": {
    "execution": {
     "iopub.execute_input": "2024-12-30T13:49:28.193897Z",
     "iopub.status.busy": "2024-12-30T13:49:28.193728Z",
     "iopub.status.idle": "2024-12-30T13:49:28.200633Z",
     "shell.execute_reply": "2024-12-30T13:49:28.200086Z"
    }
   },
   "outputs": [],
   "source": [
    "def read_coordinates(filename):\n",
    "    coordinates = []\n",
    "    with open(filename, 'r') as f:\n",
    "        for line in f:\n",
    "            x, y = map(int, line.strip().split(','))\n",
    "            coordinates.append((x, y))\n",
    "    return coordinates\n",
    "\n",
    "bytes_positions = read_coordinates('aoc18.txt')"
   ]
  },
  {
   "cell_type": "markdown",
   "metadata": {},
   "source": [
    "Create a memory grid and mark corrupted positions"
   ]
  },
  {
   "cell_type": "code",
   "execution_count": 2,
   "metadata": {
    "execution": {
     "iopub.execute_input": "2024-12-30T13:49:28.202533Z",
     "iopub.status.busy": "2024-12-30T13:49:28.202201Z",
     "iopub.status.idle": "2024-12-30T13:49:28.899938Z",
     "shell.execute_reply": "2024-12-30T13:49:28.899370Z"
    }
   },
   "outputs": [],
   "source": [
    "import numpy as np\n",
    "\n",
    "def create_memory_grid(coordinates, size=71):\n",
    "    grid = np.zeros((size, size), dtype=np.uint8)\n",
    "    for x, y in coordinates[:1024]:  # simulate first kilobyte\n",
    "        grid[y, x] = 1\n",
    "    return grid\n",
    "\n",
    "memory_grid = create_memory_grid(bytes_positions)\n",
    "# Save grid visualization\n",
    "import matplotlib.pyplot as plt\n",
    "plt.imshow(memory_grid)\n",
    "plt.savefig('memory_grid.png')\n",
    "plt.close()"
   ]
  },
  {
   "cell_type": "markdown",
   "metadata": {},
   "source": [
    "Implement shortest path finding using BFS"
   ]
  },
  {
   "cell_type": "code",
   "execution_count": 3,
   "metadata": {
    "execution": {
     "iopub.execute_input": "2024-12-30T13:49:28.902235Z",
     "iopub.status.busy": "2024-12-30T13:49:28.901820Z",
     "iopub.status.idle": "2024-12-30T13:49:28.913088Z",
     "shell.execute_reply": "2024-12-30T13:49:28.912635Z"
    }
   },
   "outputs": [
    {
     "name": "stdout",
     "output_type": "stream",
     "text": [
      "Minimum steps needed: 324\n"
     ]
    }
   ],
   "source": [
    "from collections import deque\n",
    "\n",
    "def find_shortest_path(grid):\n",
    "    rows, cols = grid.shape\n",
    "    start = (0, 0)\n",
    "    end = (rows-1, cols-1)\n",
    "    \n",
    "    queue = deque([(start, 0)])\n",
    "    visited = {start}\n",
    "    \n",
    "    directions = [(0, 1), (1, 0), (0, -1), (-1, 0)]\n",
    "    \n",
    "    while queue:\n",
    "        (y, x), steps = queue.popleft()\n",
    "        \n",
    "        if (y, x) == end:\n",
    "            return steps\n",
    "            \n",
    "        for dy, dx in directions:\n",
    "            ny, nx = y + dy, x + dx\n",
    "            if (0 <= ny < rows and 0 <= nx < cols and \n",
    "                grid[ny, nx] == 0 and (ny, nx) not in visited):\n",
    "                visited.add((ny, nx))\n",
    "                queue.append(((ny, nx), steps + 1))\n",
    "    \n",
    "    return -1  # No path found\n",
    "\n",
    "min_steps = find_shortest_path(memory_grid)\n",
    "print(f\"Minimum steps needed: {min_steps}\")"
   ]
  }
 ],
 "metadata": {
  "language_info": {
   "codemirror_mode": {
    "name": "ipython",
    "version": 3
   },
   "file_extension": ".py",
   "mimetype": "text/x-python",
   "name": "python",
   "nbconvert_exporter": "python",
   "pygments_lexer": "ipython3",
   "version": "3.12.8"
  }
 },
 "nbformat": 4,
 "nbformat_minor": 4
}
