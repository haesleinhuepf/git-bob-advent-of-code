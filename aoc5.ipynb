{
 "cells": [
  {
   "cell_type": "markdown",
   "metadata": {},
   "source": [
    "# Advent of Code Day 5: Print Queue\n",
    "First, let's read the input data from the file."
   ]
  },
  {
   "cell_type": "code",
   "execution_count": 1,
   "metadata": {
    "execution": {
     "iopub.execute_input": "2024-12-07T20:07:01.588177Z",
     "iopub.status.busy": "2024-12-07T20:07:01.587996Z",
     "iopub.status.idle": "2024-12-07T20:07:01.595409Z",
     "shell.execute_reply": "2024-12-07T20:07:01.594986Z"
    }
   },
   "outputs": [],
   "source": [
    "def read_input(filename):\n",
    "    rules = []\n",
    "    updates = []\n",
    "    with open(filename, 'r') as f:\n",
    "        lines = f.read().strip().split('\\n')\n",
    "        # Find empty line that separates rules from updates\n",
    "        split_idx = lines.index('')\n",
    "        \n",
    "        # Parse rules\n",
    "        for line in lines[:split_idx]:\n",
    "            before, after = map(int, line.split('|'))\n",
    "            rules.append((before, after))\n",
    "            \n",
    "        # Parse updates\n",
    "        for line in lines[split_idx+1:]:\n",
    "            update = list(map(int, line.split(',')))\n",
    "            updates.append(update)\n",
    "            \n",
    "    return rules, updates\n",
    "\n",
    "rules, updates = read_input('aoc5.txt')"
   ]
  },
  {
   "cell_type": "markdown",
   "metadata": {},
   "source": [
    "Now, let's implement a function to check if an update is in correct order according to the rules."
   ]
  },
  {
   "cell_type": "code",
   "execution_count": 2,
   "metadata": {
    "execution": {
     "iopub.execute_input": "2024-12-07T20:07:01.597081Z",
     "iopub.status.busy": "2024-12-07T20:07:01.596885Z",
     "iopub.status.idle": "2024-12-07T20:07:01.600032Z",
     "shell.execute_reply": "2024-12-07T20:07:01.599575Z"
    }
   },
   "outputs": [],
   "source": [
    "def is_valid_order(update, rules):\n",
    "    # Check each rule\n",
    "    for before, after in rules:\n",
    "        # If both pages are in the update\n",
    "        if before in update and after in update:\n",
    "            # Check if 'before' comes before 'after'\n",
    "            if update.index(before) > update.index(after):\n",
    "                return False\n",
    "    return True"
   ]
  },
  {
   "cell_type": "markdown",
   "metadata": {},
   "source": [
    "Finally, let's find the valid updates and calculate the sum of their middle page numbers."
   ]
  },
  {
   "cell_type": "code",
   "execution_count": 3,
   "metadata": {
    "execution": {
     "iopub.execute_input": "2024-12-07T20:07:01.601760Z",
     "iopub.status.busy": "2024-12-07T20:07:01.601579Z",
     "iopub.status.idle": "2024-12-07T20:07:01.641467Z",
     "shell.execute_reply": "2024-12-07T20:07:01.641034Z"
    }
   },
   "outputs": [],
   "source": [
    "def solve_puzzle(rules, updates):\n",
    "    valid_updates = [update for update in updates if is_valid_order(update, rules)]\n",
    "    \n",
    "    # Get middle numbers and sum them\n",
    "    middle_sum = sum(update[len(update)//2] for update in valid_updates)\n",
    "    \n",
    "    # Save results\n",
    "    with open('result.txt', 'w') as f:\n",
    "        f.write(f'Number of valid updates: {len(valid_updates)}\\n')\n",
    "        f.write(f'Sum of middle numbers: {middle_sum}\\n')\n",
    "        f.write('Valid updates:\\n')\n",
    "        for update in valid_updates:\n",
    "            f.write(f'{update}\\n')\n",
    "    \n",
    "    return middle_sum\n",
    "\n",
    "result = solve_puzzle(rules, updates)"
   ]
  }
 ],
 "metadata": {
  "language_info": {
   "codemirror_mode": {
    "name": "ipython",
    "version": 3
   },
   "file_extension": ".py",
   "mimetype": "text/x-python",
   "name": "python",
   "nbconvert_exporter": "python",
   "pygments_lexer": "ipython3",
   "version": "3.12.7"
  }
 },
 "nbformat": 4,
 "nbformat_minor": 4
}
