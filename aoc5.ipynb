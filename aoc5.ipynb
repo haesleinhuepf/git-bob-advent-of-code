{
 "cells": [
  {
   "cell_type": "markdown",
   "metadata": {},
   "source": [
    "# Advent of Code Day 5: Print Queue - Part 2\n",
    "First, let's read and parse the input data from the file."
   ]
  },
  {
   "cell_type": "code",
   "execution_count": 1,
   "metadata": {
    "execution": {
     "iopub.execute_input": "2024-12-07T20:14:15.750292Z",
     "iopub.status.busy": "2024-12-07T20:14:15.750097Z",
     "iopub.status.idle": "2024-12-07T20:14:15.757851Z",
     "shell.execute_reply": "2024-12-07T20:14:15.757405Z"
    }
   },
   "outputs": [],
   "source": [
    "def read_input(filename):\n",
    "    rules = []\n",
    "    updates = []\n",
    "    with open(filename, 'r') as f:\n",
    "        lines = f.read().strip().split('\\n')\n",
    "        split_idx = lines.index('')\n",
    "        for line in lines[:split_idx]:\n",
    "            before, after = map(int, line.split('|'))\n",
    "            rules.append((before, after))\n",
    "        for line in lines[split_idx+1:]:\n",
    "            update = list(map(int, line.split(',')))\n",
    "            updates.append(update)\n",
    "    return rules, updates\n",
    "\n",
    "rules, updates = read_input('aoc5.txt')"
   ]
  },
  {
   "cell_type": "markdown",
   "metadata": {},
   "source": [
    "Implement functions to check order validity and sort updates according to rules"
   ]
  },
  {
   "cell_type": "code",
   "execution_count": 2,
   "metadata": {
    "execution": {
     "iopub.execute_input": "2024-12-07T20:14:15.759740Z",
     "iopub.status.busy": "2024-12-07T20:14:15.759385Z",
     "iopub.status.idle": "2024-12-07T20:14:15.763779Z",
     "shell.execute_reply": "2024-12-07T20:14:15.763312Z"
    }
   },
   "outputs": [],
   "source": [
    "def is_valid_order(update, rules):\n",
    "    for before, after in rules:\n",
    "        if before in update and after in update:\n",
    "            if update.index(before) > update.index(after):\n",
    "                return False\n",
    "    return True\n",
    "\n",
    "def sort_update(update, rules):\n",
    "    sorted_update = list(update)\n",
    "    changed = True\n",
    "    while changed:\n",
    "        changed = False\n",
    "        for before, after in rules:\n",
    "            if before in sorted_update and after in sorted_update:\n",
    "                i_before = sorted_update.index(before)\n",
    "                i_after = sorted_update.index(after)\n",
    "                if i_before > i_after:\n",
    "                    sorted_update[i_before], sorted_update[i_after] = sorted_update[i_after], sorted_update[i_before]\n",
    "                    changed = True\n",
    "    return sorted_update"
   ]
  },
  {
   "cell_type": "markdown",
   "metadata": {},
   "source": [
    "Process invalid updates and calculate result"
   ]
  },
  {
   "cell_type": "code",
   "execution_count": 3,
   "metadata": {
    "execution": {
     "iopub.execute_input": "2024-12-07T20:14:15.765696Z",
     "iopub.status.busy": "2024-12-07T20:14:15.765264Z",
     "iopub.status.idle": "2024-12-07T20:14:15.946877Z",
     "shell.execute_reply": "2024-12-07T20:14:15.946331Z"
    }
   },
   "outputs": [],
   "source": [
    "def solve_part2(rules, updates):\n",
    "    invalid_updates = [update for update in updates if not is_valid_order(update, rules)]\n",
    "    corrected_updates = [sort_update(update, rules) for update in invalid_updates]\n",
    "    middle_sum = sum(update[len(update)//2] for update in corrected_updates)\n",
    "    \n",
    "    with open('result_part2.txt', 'w') as f:\n",
    "        f.write(f'Number of invalid updates: {len(invalid_updates)}\\n')\n",
    "        f.write(f'Sum of middle numbers after correction: {middle_sum}\\n')\n",
    "        f.write('Corrected updates:\\n')\n",
    "        for orig, corr in zip(invalid_updates, corrected_updates):\n",
    "            f.write(f'{orig} -> {corr}\\n')\n",
    "    \n",
    "    return middle_sum\n",
    "\n",
    "result = solve_part2(rules, updates)"
   ]
  }
 ],
 "metadata": {
  "language_info": {
   "codemirror_mode": {
    "name": "ipython",
    "version": 3
   },
   "file_extension": ".py",
   "mimetype": "text/x-python",
   "name": "python",
   "nbconvert_exporter": "python",
   "pygments_lexer": "ipython3",
   "version": "3.12.7"
  }
 },
 "nbformat": 4,
 "nbformat_minor": 4
}
