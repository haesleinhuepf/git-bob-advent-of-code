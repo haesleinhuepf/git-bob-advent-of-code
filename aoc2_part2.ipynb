{
 "cells": [
  {
   "cell_type": "markdown",
   "metadata": {},
   "source": [
    "# Advent of Code Day 2 Part 2: Red-Nosed Reports with Problem Dampener\n",
    "Analysis of reactor level reports considering the Problem Dampener that can remove one problematic level."
   ]
  },
  {
   "cell_type": "markdown",
   "metadata": {},
   "source": [
    "First, let's read the input file again"
   ]
  },
  {
   "cell_type": "code",
   "execution_count": 1,
   "metadata": {
    "execution": {
     "iopub.execute_input": "2024-12-07T19:18:42.770956Z",
     "iopub.status.busy": "2024-12-07T19:18:42.770770Z",
     "iopub.status.idle": "2024-12-07T19:18:42.777494Z",
     "shell.execute_reply": "2024-12-07T19:18:42.777068Z"
    }
   },
   "outputs": [],
   "source": [
    "def read_reports(filename):\n",
    "    with open(filename, 'r') as f:\n",
    "        reports = [[int(x) for x in line.strip().split()] for line in f]\n",
    "    return reports\n",
    "\n",
    "reports = read_reports('aoc2.txt')"
   ]
  },
  {
   "cell_type": "markdown",
   "metadata": {},
   "source": [
    "Check if a report is safe (same as part 1)"
   ]
  },
  {
   "cell_type": "code",
   "execution_count": 2,
   "metadata": {
    "execution": {
     "iopub.execute_input": "2024-12-07T19:18:42.779176Z",
     "iopub.status.busy": "2024-12-07T19:18:42.778991Z",
     "iopub.status.idle": "2024-12-07T19:18:42.782405Z",
     "shell.execute_reply": "2024-12-07T19:18:42.781972Z"
    }
   },
   "outputs": [],
   "source": [
    "def is_safe_report(levels):\n",
    "    diffs = [levels[i+1] - levels[i] for i in range(len(levels)-1)]\n",
    "    all_increasing = all(d > 0 for d in diffs)\n",
    "    all_decreasing = all(d < 0 for d in diffs)\n",
    "    valid_diffs = all(1 <= abs(d) <= 3 for d in diffs)\n",
    "    return (all_increasing or all_decreasing) and valid_diffs"
   ]
  },
  {
   "cell_type": "markdown",
   "metadata": {},
   "source": [
    "Try removing each level one at a time to see if the report becomes safe"
   ]
  },
  {
   "cell_type": "code",
   "execution_count": 3,
   "metadata": {
    "execution": {
     "iopub.execute_input": "2024-12-07T19:18:42.784186Z",
     "iopub.status.busy": "2024-12-07T19:18:42.783836Z",
     "iopub.status.idle": "2024-12-07T19:18:42.786908Z",
     "shell.execute_reply": "2024-12-07T19:18:42.786485Z"
    }
   },
   "outputs": [],
   "source": [
    "def is_safe_with_dampener(report):\n",
    "    if is_safe_report(report):\n",
    "        return True\n",
    "    \n",
    "    for i in range(len(report)):\n",
    "        test_report = report[:i] + report[i+1:]\n",
    "        if is_safe_report(test_report):\n",
    "            return True\n",
    "    return False"
   ]
  },
  {
   "cell_type": "markdown",
   "metadata": {},
   "source": [
    "Count safe reports with Problem Dampener"
   ]
  },
  {
   "cell_type": "code",
   "execution_count": 4,
   "metadata": {
    "execution": {
     "iopub.execute_input": "2024-12-07T19:18:42.788602Z",
     "iopub.status.busy": "2024-12-07T19:18:42.788285Z",
     "iopub.status.idle": "2024-12-07T19:18:42.802952Z",
     "shell.execute_reply": "2024-12-07T19:18:42.802396Z"
    }
   },
   "outputs": [],
   "source": [
    "safe_count = sum(1 for report in reports if is_safe_with_dampener(report))\n",
    "\n",
    "with open('result_part2.txt', 'w') as f:\n",
    "    f.write(f\"Number of safe reports with Problem Dampener: {safe_count}\")"
   ]
  }
 ],
 "metadata": {
  "language_info": {
   "codemirror_mode": {
    "name": "ipython",
    "version": 3
   },
   "file_extension": ".py",
   "mimetype": "text/x-python",
   "name": "python",
   "nbconvert_exporter": "python",
   "pygments_lexer": "ipython3",
   "version": "3.12.7"
  }
 },
 "nbformat": 4,
 "nbformat_minor": 4
}
