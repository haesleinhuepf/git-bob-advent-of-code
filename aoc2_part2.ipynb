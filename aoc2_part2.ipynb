{
 "cells": [
  {
   "cell_type": "markdown",
   "metadata": {},
   "source": [
    "# Advent of Code Day 2 Part 2 - Red-Nosed Reports with Problem Dampener"
   ]
  },
  {
   "cell_type": "markdown",
   "metadata": {},
   "source": [
    "Read input data"
   ]
  },
  {
   "cell_type": "code",
   "execution_count": 1,
   "metadata": {
    "execution": {
     "iopub.execute_input": "2024-12-07T19:39:11.960690Z",
     "iopub.status.busy": "2024-12-07T19:39:11.960475Z",
     "iopub.status.idle": "2024-12-07T19:39:11.966944Z",
     "shell.execute_reply": "2024-12-07T19:39:11.966405Z"
    }
   },
   "outputs": [],
   "source": [
    "def read_reports(filename):\n",
    "    with open(filename, 'r') as f:\n",
    "        return [[int(x) for x in line.strip().split()] for line in f]\n",
    "\n",
    "reports = read_reports('aoc2.txt')"
   ]
  },
  {
   "cell_type": "markdown",
   "metadata": {},
   "source": [
    "Check if a sequence is valid (must be strictly increasing or decreasing with differences 1-3)"
   ]
  },
  {
   "cell_type": "code",
   "execution_count": 2,
   "metadata": {
    "execution": {
     "iopub.execute_input": "2024-12-07T19:39:11.969157Z",
     "iopub.status.busy": "2024-12-07T19:39:11.968726Z",
     "iopub.status.idle": "2024-12-07T19:39:11.972494Z",
     "shell.execute_reply": "2024-12-07T19:39:11.972058Z"
    }
   },
   "outputs": [],
   "source": [
    "def is_valid_sequence(levels):\n",
    "    if len(levels) < 2:\n",
    "        return True\n",
    "        \n",
    "    diffs = [levels[i+1] - levels[i] for i in range(len(levels)-1)]\n",
    "    \n",
    "    increasing = all(d > 0 for d in diffs)\n",
    "    decreasing = all(d < 0 for d in diffs)\n",
    "    valid_diffs = all(1 <= abs(d) <= 3 for d in diffs)\n",
    "    \n",
    "    return (increasing or decreasing) and valid_diffs"
   ]
  },
  {
   "cell_type": "markdown",
   "metadata": {},
   "source": [
    "Check if a report can be made safe by removing one value"
   ]
  },
  {
   "cell_type": "code",
   "execution_count": 3,
   "metadata": {
    "execution": {
     "iopub.execute_input": "2024-12-07T19:39:11.974422Z",
     "iopub.status.busy": "2024-12-07T19:39:11.974064Z",
     "iopub.status.idle": "2024-12-07T19:39:11.977317Z",
     "shell.execute_reply": "2024-12-07T19:39:11.976777Z"
    }
   },
   "outputs": [],
   "source": [
    "def is_safe_with_dampener(report):\n",
    "    # First check if already safe\n",
    "    if is_valid_sequence(report):\n",
    "        return True\n",
    "    \n",
    "    # Try removing each number to see if it becomes safe\n",
    "    for i in range(len(report)):\n",
    "        test_report = report[:i] + report[i+1:]\n",
    "        if is_valid_sequence(test_report):\n",
    "            return True\n",
    "    return False"
   ]
  },
  {
   "cell_type": "markdown",
   "metadata": {},
   "source": [
    "Count safe reports and save result"
   ]
  },
  {
   "cell_type": "code",
   "execution_count": 4,
   "metadata": {
    "execution": {
     "iopub.execute_input": "2024-12-07T19:39:11.979383Z",
     "iopub.status.busy": "2024-12-07T19:39:11.978921Z",
     "iopub.status.idle": "2024-12-07T19:39:11.993720Z",
     "shell.execute_reply": "2024-12-07T19:39:11.993300Z"
    }
   },
   "outputs": [],
   "source": [
    "safe_count = sum(1 for report in reports if is_safe_with_dampener(report))\n",
    "\n",
    "with open('result_part2.txt', 'w') as f:\n",
    "    f.write(f\"{safe_count}\\n\")"
   ]
  }
 ],
 "metadata": {
  "language_info": {
   "codemirror_mode": {
    "name": "ipython",
    "version": 3
   },
   "file_extension": ".py",
   "mimetype": "text/x-python",
   "name": "python",
   "nbconvert_exporter": "python",
   "pygments_lexer": "ipython3",
   "version": "3.12.7"
  }
 },
 "nbformat": 4,
 "nbformat_minor": 4
}
