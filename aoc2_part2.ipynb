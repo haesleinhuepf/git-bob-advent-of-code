{
 "cells": [
  {
   "cell_type": "markdown",
   "metadata": {},
   "source": [
    "# Advent of Code Day 2 Part 2 - Red-Nosed Reports with Problem Dampener"
   ]
  },
  {
   "cell_type": "markdown",
   "metadata": {},
   "source": [
    "Read input data from file"
   ]
  },
  {
   "cell_type": "code",
   "execution_count": 1,
   "metadata": {
    "execution": {
     "iopub.execute_input": "2024-12-07T19:24:29.556995Z",
     "iopub.status.busy": "2024-12-07T19:24:29.556540Z",
     "iopub.status.idle": "2024-12-07T19:24:29.563244Z",
     "shell.execute_reply": "2024-12-07T19:24:29.562822Z"
    }
   },
   "outputs": [],
   "source": [
    "def read_reports(filename):\n",
    "    with open(filename, 'r') as f:\n",
    "        return [[int(x) for x in line.strip().split()] for line in f]\n",
    "\n",
    "reports = read_reports('aoc2.txt')"
   ]
  },
  {
   "cell_type": "markdown",
   "metadata": {},
   "source": [
    "Function to check if sequence is valid (increasing or decreasing by 1-3)"
   ]
  },
  {
   "cell_type": "code",
   "execution_count": 2,
   "metadata": {
    "execution": {
     "iopub.execute_input": "2024-12-07T19:24:29.565056Z",
     "iopub.status.busy": "2024-12-07T19:24:29.564705Z",
     "iopub.status.idle": "2024-12-07T19:24:29.568687Z",
     "shell.execute_reply": "2024-12-07T19:24:29.568126Z"
    }
   },
   "outputs": [],
   "source": [
    "def is_valid_sequence(levels):\n",
    "    if len(levels) < 2:\n",
    "        return True\n",
    "    \n",
    "    diffs = [levels[i+1] - levels[i] for i in range(len(levels)-1)]\n",
    "    \n",
    "    # Check if all differences are positive or all negative\n",
    "    if not (all(d > 0 for d in diffs) or all(d < 0 for d in diffs)):\n",
    "        return False\n",
    "    \n",
    "    # Check if all differences are between 1 and 3\n",
    "    return all(1 <= abs(d) <= 3 for d in diffs)"
   ]
  },
  {
   "cell_type": "markdown",
   "metadata": {},
   "source": [
    "Function to test report with Problem Dampener"
   ]
  },
  {
   "cell_type": "code",
   "execution_count": 3,
   "metadata": {
    "execution": {
     "iopub.execute_input": "2024-12-07T19:24:29.570454Z",
     "iopub.status.busy": "2024-12-07T19:24:29.570147Z",
     "iopub.status.idle": "2024-12-07T19:24:29.573334Z",
     "shell.execute_reply": "2024-12-07T19:24:29.572788Z"
    }
   },
   "outputs": [],
   "source": [
    "def is_safe_with_dampener(report):\n",
    "    if is_valid_sequence(report):\n",
    "        return True\n",
    "        \n",
    "    # Try removing each number\n",
    "    return any(is_valid_sequence(report[:i] + report[i+1:]) \n",
    "              for i in range(len(report)))"
   ]
  },
  {
   "cell_type": "markdown",
   "metadata": {},
   "source": [
    "Count and save results"
   ]
  },
  {
   "cell_type": "code",
   "execution_count": 4,
   "metadata": {
    "execution": {
     "iopub.execute_input": "2024-12-07T19:24:29.575319Z",
     "iopub.status.busy": "2024-12-07T19:24:29.575006Z",
     "iopub.status.idle": "2024-12-07T19:24:29.588020Z",
     "shell.execute_reply": "2024-12-07T19:24:29.587444Z"
    }
   },
   "outputs": [],
   "source": [
    "safe_count = sum(1 for report in reports if is_safe_with_dampener(report))\n",
    "\n",
    "with open('result_part2.txt', 'w') as f:\n",
    "    f.write(str(safe_count))"
   ]
  }
 ],
 "metadata": {
  "language_info": {
   "codemirror_mode": {
    "name": "ipython",
    "version": 3
   },
   "file_extension": ".py",
   "mimetype": "text/x-python",
   "name": "python",
   "nbconvert_exporter": "python",
   "pygments_lexer": "ipython3",
   "version": "3.12.7"
  }
 },
 "nbformat": 4,
 "nbformat_minor": 4
}
