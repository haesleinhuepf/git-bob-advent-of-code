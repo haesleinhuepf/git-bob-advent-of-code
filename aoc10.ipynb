{
 "cells": [
  {
   "cell_type": "markdown",
   "id": "7df1d7d2",
   "metadata": {},
   "source": [
    "# Advent of Code Day 10 - Hiking Trail Scoring\n",
    "First, let's read the input data and parse it into a 2D numpy array."
   ]
  },
  {
   "cell_type": "code",
   "execution_count": 1,
   "id": "fd413522",
   "metadata": {
    "execution": {
     "iopub.execute_input": "2024-12-13T12:14:16.969724Z",
     "iopub.status.busy": "2024-12-13T12:14:16.969527Z",
     "iopub.status.idle": "2024-12-13T12:14:17.024147Z",
     "shell.execute_reply": "2024-12-13T12:14:17.023667Z"
    }
   },
   "outputs": [],
   "source": [
    "import numpy as np\n",
    "\n",
    "with open('aoc10.txt', 'r') as f:\n",
    "    lines = f.readlines()\n",
    "    heightmap = np.array([[int(c) for c in line.strip()] for line in lines])"
   ]
  },
  {
   "cell_type": "markdown",
   "id": "b655815e",
   "metadata": {},
   "source": [
    "Define a function to find valid paths from a trailhead (height 0) to peaks (height 9)"
   ]
  },
  {
   "cell_type": "code",
   "execution_count": 2,
   "id": "877bb0cc",
   "metadata": {
    "execution": {
     "iopub.execute_input": "2024-12-13T12:14:17.026548Z",
     "iopub.status.busy": "2024-12-13T12:14:17.026312Z",
     "iopub.status.idle": "2024-12-13T12:14:17.032264Z",
     "shell.execute_reply": "2024-12-13T12:14:17.031771Z"
    }
   },
   "outputs": [],
   "source": [
    "def find_paths(heightmap, start_pos):\n",
    "    rows, cols = heightmap.shape\n",
    "    visited = set()\n",
    "    reachable_peaks = set()\n",
    "    \n",
    "    def dfs(pos, height):\n",
    "        if height == 9:\n",
    "            reachable_peaks.add(pos)\n",
    "            return\n",
    "        \n",
    "        r, c = pos\n",
    "        for dr, dc in [(0,1), (1,0), (0,-1), (-1,0)]:\n",
    "            new_r, new_c = r + dr, c + dc\n",
    "            new_pos = (new_r, new_c)\n",
    "            \n",
    "            if (0 <= new_r < rows and 0 <= new_c < cols and \n",
    "                new_pos not in visited and \n",
    "                heightmap[new_r, new_c] == height + 1):\n",
    "                visited.add(new_pos)\n",
    "                dfs(new_pos, height + 1)\n",
    "                visited.remove(new_pos)\n",
    "    \n",
    "    visited.add(start_pos)\n",
    "    dfs(start_pos, 0)\n",
    "    return len(reachable_peaks)"
   ]
  },
  {
   "cell_type": "markdown",
   "id": "76244d9d",
   "metadata": {},
   "source": [
    "Find all trailheads and calculate their scores"
   ]
  },
  {
   "cell_type": "code",
   "execution_count": 3,
   "id": "4c5ef98c",
   "metadata": {
    "execution": {
     "iopub.execute_input": "2024-12-13T12:14:17.035217Z",
     "iopub.status.busy": "2024-12-13T12:14:17.034444Z",
     "iopub.status.idle": "2024-12-13T12:14:17.067535Z",
     "shell.execute_reply": "2024-12-13T12:14:17.067084Z"
    }
   },
   "outputs": [
    {
     "name": "stdout",
     "output_type": "stream",
     "text": [
      "Sum of trailhead scores: 820\n"
     ]
    }
   ],
   "source": [
    "total_score = 0\n",
    "trailheads = np.where(heightmap == 0)\n",
    "\n",
    "for r, c in zip(trailheads[0], trailheads[1]):\n",
    "    score = find_paths(heightmap, (r, c))\n",
    "    total_score += score\n",
    "\n",
    "print(f\"Sum of trailhead scores: {total_score}\")\n",
    "with open('result.txt', 'w') as f:\n",
    "    f.write(str(total_score))"
   ]
  }
 ],
 "metadata": {
  "language_info": {
   "codemirror_mode": {
    "name": "ipython",
    "version": 3
   },
   "file_extension": ".py",
   "mimetype": "text/x-python",
   "name": "python",
   "nbconvert_exporter": "python",
   "pygments_lexer": "ipython3",
   "version": "3.12.8"
  }
 },
 "nbformat": 4,
 "nbformat_minor": 5
}
