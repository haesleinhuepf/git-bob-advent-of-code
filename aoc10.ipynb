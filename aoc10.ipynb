{
 "cells": [
  {
   "cell_type": "markdown",
   "metadata": {},
   "source": [
    "# Advent of Code Day 10 - Part 2\n",
    "Read the input data"
   ]
  },
  {
   "cell_type": "code",
   "execution_count": 1,
   "metadata": {
    "execution": {
     "iopub.execute_input": "2024-12-13T12:16:41.886303Z",
     "iopub.status.busy": "2024-12-13T12:16:41.885859Z",
     "iopub.status.idle": "2024-12-13T12:16:41.940731Z",
     "shell.execute_reply": "2024-12-13T12:16:41.940227Z"
    }
   },
   "outputs": [],
   "source": [
    "import numpy as np\n",
    "\n",
    "with open('aoc10.txt', 'r') as f:\n",
    "    heightmap = np.array([[int(c) for c in line.strip()] for line in f.readlines()])"
   ]
  },
  {
   "cell_type": "markdown",
   "metadata": {},
   "source": [
    "Function to count distinct hiking trails from a trailhead"
   ]
  },
  {
   "cell_type": "code",
   "execution_count": 2,
   "metadata": {
    "execution": {
     "iopub.execute_input": "2024-12-13T12:16:41.942879Z",
     "iopub.status.busy": "2024-12-13T12:16:41.942650Z",
     "iopub.status.idle": "2024-12-13T12:16:41.948040Z",
     "shell.execute_reply": "2024-12-13T12:16:41.947528Z"
    }
   },
   "outputs": [],
   "source": [
    "def count_trails(heightmap, start_pos):\n",
    "    rows, cols = heightmap.shape\n",
    "    paths = 0\n",
    "    visited = set()\n",
    "    \n",
    "    def dfs(pos, height):\n",
    "        nonlocal paths\n",
    "        if height == 9:\n",
    "            paths += 1\n",
    "            return\n",
    "        \n",
    "        r, c = pos\n",
    "        for dr, dc in [(0,1), (1,0), (0,-1), (-1,0)]:\n",
    "            new_r, new_c = r + dr, c + dc\n",
    "            new_pos = (new_r, new_c)\n",
    "            \n",
    "            if (0 <= new_r < rows and 0 <= new_c < cols and \n",
    "                new_pos not in visited and \n",
    "                heightmap[new_r, new_c] == height + 1):\n",
    "                visited.add(new_pos)\n",
    "                dfs(new_pos, height + 1)\n",
    "                visited.remove(new_pos)\n",
    "    \n",
    "    visited.add(start_pos)\n",
    "    dfs(start_pos, 0)\n",
    "    return paths"
   ]
  },
  {
   "cell_type": "markdown",
   "metadata": {},
   "source": [
    "Calculate ratings for all trailheads"
   ]
  },
  {
   "cell_type": "code",
   "execution_count": 3,
   "metadata": {
    "execution": {
     "iopub.execute_input": "2024-12-13T12:16:41.951009Z",
     "iopub.status.busy": "2024-12-13T12:16:41.950249Z",
     "iopub.status.idle": "2024-12-13T12:16:41.981010Z",
     "shell.execute_reply": "2024-12-13T12:16:41.980517Z"
    }
   },
   "outputs": [],
   "source": [
    "total_rating = 0\n",
    "trailheads = np.where(heightmap == 0)\n",
    "\n",
    "for r, c in zip(trailheads[0], trailheads[1]):\n",
    "    rating = count_trails(heightmap, (r, c))\n",
    "    total_rating += rating\n",
    "\n",
    "with open('result2.txt', 'w') as f:\n",
    "    f.write(str(total_rating))"
   ]
  }
 ],
 "metadata": {
  "language_info": {
   "codemirror_mode": {
    "name": "ipython",
    "version": 3
   },
   "file_extension": ".py",
   "mimetype": "text/x-python",
   "name": "python",
   "nbconvert_exporter": "python",
   "pygments_lexer": "ipython3",
   "version": "3.12.8"
  }
 },
 "nbformat": 4,
 "nbformat_minor": 4
}
