{
 "cells": [
  {
   "cell_type": "markdown",
   "metadata": {},
   "source": [
    "# Advent of Code - Day 13 Part 2: Claw Contraption with Adjusted Coordinates\n",
    "Handling large coordinate shifts and finding optimal button presses"
   ]
  },
  {
   "cell_type": "markdown",
   "metadata": {},
   "source": [
    "First, we'll implement the function to read and parse input with large coordinate adjustment"
   ]
  },
  {
   "cell_type": "code",
   "execution_count": 1,
   "metadata": {
    "execution": {
     "iopub.execute_input": "2024-12-13T12:35:59.203379Z",
     "iopub.status.busy": "2024-12-13T12:35:59.202952Z",
     "iopub.status.idle": "2024-12-13T12:35:59.208626Z",
     "shell.execute_reply": "2024-12-13T12:35:59.208220Z"
    }
   },
   "outputs": [],
   "source": [
    "def read_input(filename):\n",
    "    machines = []\n",
    "    SHIFT = 10000000000000\n",
    "    with open(filename, 'r') as f:\n",
    "        lines = f.readlines()\n",
    "        for i in range(0, len(lines), 4):\n",
    "            if i + 2 >= len(lines):\n",
    "                break\n",
    "            a = lines[i].strip().split(': ')[1].replace('X+', '').replace('Y+', '').split(', ')\n",
    "            b = lines[i+1].strip().split(': ')[1].replace('X+', '').replace('Y+', '').split(', ')\n",
    "            p = lines[i+2].strip().split(': ')[1].replace('X=', '').replace('Y=', '').split(', ')\n",
    "            machines.append({\n",
    "                'A': (int(a[0]), int(a[1])),\n",
    "                'B': (int(b[0]), int(b[1])),\n",
    "                'prize': (int(p[0]) + SHIFT, int(p[1]) + SHIFT)\n",
    "            })\n",
    "    return machines"
   ]
  },
  {
   "cell_type": "markdown",
   "metadata": {},
   "source": [
    "Function to solve the linear Diophantine equations"
   ]
  },
  {
   "cell_type": "code",
   "execution_count": 2,
   "metadata": {
    "execution": {
     "iopub.execute_input": "2024-12-13T12:35:59.210487Z",
     "iopub.status.busy": "2024-12-13T12:35:59.210169Z",
     "iopub.status.idle": "2024-12-13T12:35:59.213045Z",
     "shell.execute_reply": "2024-12-13T12:35:59.212605Z"
    }
   },
   "outputs": [],
   "source": [
    "def extended_gcd(a, b):\n",
    "    if a == 0:\n",
    "        return b, 0, 1\n",
    "    gcd, x1, y1 = extended_gcd(b % a, a)\n",
    "    x = y1 - (b // a) * x1\n",
    "    y = x1\n",
    "    return gcd, x, y"
   ]
  },
  {
   "cell_type": "markdown",
   "metadata": {},
   "source": [
    "Implement prize winning check function using linear Diophantine equations"
   ]
  },
  {
   "cell_type": "code",
   "execution_count": 3,
   "metadata": {
    "execution": {
     "iopub.execute_input": "2024-12-13T12:35:59.214622Z",
     "iopub.status.busy": "2024-12-13T12:35:59.214466Z",
     "iopub.status.idle": "2024-12-13T12:35:59.217991Z",
     "shell.execute_reply": "2024-12-13T12:35:59.217525Z"
    }
   },
   "outputs": [],
   "source": [
    "def can_win_prize(machine):\n",
    "    ax, ay = machine['A']\n",
    "    bx, by = machine['B']\n",
    "    px, py = machine['prize']\n",
    "    \n",
    "    gcd_x, mx, nx = extended_gcd(ax, bx)\n",
    "    if px % gcd_x != 0:\n",
    "        return None\n",
    "        \n",
    "    gcd_y, my, ny = extended_gcd(ay, by)\n",
    "    if py % gcd_y != 0:\n",
    "        return None\n",
    "        \n",
    "    k = px // gcd_x\n",
    "    a = mx * k\n",
    "    b = nx * k\n",
    "    \n",
    "    if a >= 0 and b >= 0:\n",
    "        return a * 3 + b\n",
    "    return None"
   ]
  },
  {
   "cell_type": "markdown",
   "metadata": {},
   "source": [
    "Process all machines and calculate total tokens needed"
   ]
  },
  {
   "cell_type": "code",
   "execution_count": 4,
   "metadata": {
    "execution": {
     "iopub.execute_input": "2024-12-13T12:35:59.219684Z",
     "iopub.status.busy": "2024-12-13T12:35:59.219367Z",
     "iopub.status.idle": "2024-12-13T12:35:59.224632Z",
     "shell.execute_reply": "2024-12-13T12:35:59.224097Z"
    }
   },
   "outputs": [],
   "source": [
    "machines = read_input('aoc13.txt')\n",
    "total_tokens = 0\n",
    "winnable_prizes = 0\n",
    "\n",
    "for i, machine in enumerate(machines):\n",
    "    tokens = can_win_prize(machine)\n",
    "    if tokens is not None:\n",
    "        total_tokens += tokens\n",
    "        winnable_prizes += 1\n",
    "\n",
    "with open('results_part2.txt', 'w') as f:\n",
    "    f.write(f\"Winnable prizes: {winnable_prizes}\\nTotal tokens needed: {total_tokens}\")"
   ]
  }
 ],
 "metadata": {
  "language_info": {
   "codemirror_mode": {
    "name": "ipython",
    "version": 3
   },
   "file_extension": ".py",
   "mimetype": "text/x-python",
   "name": "python",
   "nbconvert_exporter": "python",
   "pygments_lexer": "ipython3",
   "version": "3.12.8"
  }
 },
 "nbformat": 4,
 "nbformat_minor": 4
}
