{
 "cells": [
  {
   "cell_type": "markdown",
   "metadata": {},
   "source": [
    "# Advent of Code - Day 13: Claw Contraption\n",
    "Solve both parts with an efficient mathematical approach"
   ]
  },
  {
   "cell_type": "code",
   "execution_count": 1,
   "metadata": {
    "execution": {
     "iopub.execute_input": "2024-12-13T12:44:07.535900Z",
     "iopub.status.busy": "2024-12-13T12:44:07.535700Z",
     "iopub.status.idle": "2024-12-13T12:44:07.590601Z",
     "shell.execute_reply": "2024-12-13T12:44:07.590094Z"
    }
   },
   "outputs": [],
   "source": [
    "import math\n",
    "import numpy as np\n",
    "\n",
    "def read_input(filename):\n",
    "    machines = []\n",
    "    with open(filename, 'r') as f:\n",
    "        lines = f.readlines()\n",
    "        for i in range(0, len(lines), 4):\n",
    "            if i + 2 >= len(lines):\n",
    "                break\n",
    "            a = lines[i].strip().split(': ')[1].replace('X+', '').replace('Y+', '').split(', ')\n",
    "            b = lines[i+1].strip().split(': ')[1].replace('X+', '').replace('Y+', '').split(', ')\n",
    "            p = lines[i+2].strip().split(': ')[1].replace('X=', '').replace('Y=', '').split(', ')\n",
    "            machines.append({\n",
    "                'A': (int(a[0]), int(a[1])),\n",
    "                'B': (int(b[0]), int(b[1])),\n",
    "                'prize': (int(p[0]), int(p[1]))\n",
    "            })\n",
    "    return machines"
   ]
  },
  {
   "cell_type": "markdown",
   "metadata": {},
   "source": [
    "Function to find GCD and solve Bezout's identity"
   ]
  },
  {
   "cell_type": "code",
   "execution_count": 2,
   "metadata": {
    "execution": {
     "iopub.execute_input": "2024-12-13T12:44:07.593153Z",
     "iopub.status.busy": "2024-12-13T12:44:07.592899Z",
     "iopub.status.idle": "2024-12-13T12:44:07.597813Z",
     "shell.execute_reply": "2024-12-13T12:44:07.597292Z"
    }
   },
   "outputs": [],
   "source": [
    "def extended_gcd(a, b):\n",
    "    if a == 0:\n",
    "        return b, 0, 1\n",
    "    gcd, x1, y1 = extended_gcd(b % a, a)\n",
    "    x = y1 - (b // a) * x1\n",
    "    y = x1\n",
    "    return gcd, x, y\n",
    "\n",
    "def solve_linear_equation(a, b, target):\n",
    "    gcd, x0, y0 = extended_gcd(a, b)\n",
    "    if target % gcd != 0:\n",
    "        return None\n",
    "    \n",
    "    x = x0 * (target // gcd)\n",
    "    y = y0 * (target // gcd)\n",
    "    return x, y"
   ]
  },
  {
   "cell_type": "markdown",
   "metadata": {},
   "source": [
    "Process machines and calculate token costs for both parts"
   ]
  },
  {
   "cell_type": "code",
   "execution_count": 3,
   "metadata": {
    "execution": {
     "iopub.execute_input": "2024-12-13T12:44:07.600835Z",
     "iopub.status.busy": "2024-12-13T12:44:07.600052Z",
     "iopub.status.idle": "2024-12-13T12:44:07.612320Z",
     "shell.execute_reply": "2024-12-13T12:44:07.611860Z"
    }
   },
   "outputs": [],
   "source": [
    "def solve_machine(machine, shift=0):\n",
    "    ax, ay = machine['A']\n",
    "    bx, by = machine['B']\n",
    "    px = machine['prize'][0] + shift\n",
    "    py = machine['prize'][1] + shift\n",
    "\n",
    "    sol_x = solve_linear_equation(ax, bx, px)\n",
    "    sol_y = solve_linear_equation(ay, by, py)\n",
    "    \n",
    "    if sol_x and sol_y:\n",
    "        a, b = sol_x[0], sol_x[1]\n",
    "        if a >= 0 and b >= 0:\n",
    "            return a * 3 + b\n",
    "    return None\n",
    "\n",
    "# Process Part 1\n",
    "machines = read_input('aoc13.txt')\n",
    "tokens1 = sum(solve_machine(m) or 0 for m in machines)\n",
    "winnable1 = sum(1 for m in machines if solve_machine(m) is not None)\n",
    "\n",
    "# Process Part 2\n",
    "tokens2 = sum(solve_machine(m, 10000000000000) or 0 for m in machines)\n",
    "winnable2 = sum(1 for m in machines if solve_machine(m, 10000000000000) is not None)\n",
    "\n",
    "# Save results\n",
    "with open('results.txt', 'w') as f:\n",
    "    f.write(f\"Part 1: {winnable1} prizes, {tokens1} tokens\\n\")\n",
    "    f.write(f\"Part 2: {winnable2} prizes, {tokens2} tokens\")"
   ]
  }
 ],
 "metadata": {
  "language_info": {
   "codemirror_mode": {
    "name": "ipython",
    "version": 3
   },
   "file_extension": ".py",
   "mimetype": "text/x-python",
   "name": "python",
   "nbconvert_exporter": "python",
   "pygments_lexer": "ipython3",
   "version": "3.12.8"
  }
 },
 "nbformat": 4,
 "nbformat_minor": 4
}
