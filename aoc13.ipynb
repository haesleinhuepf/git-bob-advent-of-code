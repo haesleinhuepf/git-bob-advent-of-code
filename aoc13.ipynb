{
 "cells": [
  {
   "cell_type": "markdown",
   "metadata": {},
   "source": [
    "# Advent of Code - Day 13: Claw Contraption\n",
    "Solution for both parts using mathematical approach with Extended Euclidean Algorithm"
   ]
  },
  {
   "cell_type": "code",
   "execution_count": 1,
   "metadata": {
    "execution": {
     "iopub.execute_input": "2024-12-13T12:41:00.321030Z",
     "iopub.status.busy": "2024-12-13T12:41:00.320855Z",
     "iopub.status.idle": "2024-12-13T12:41:00.326953Z",
     "shell.execute_reply": "2024-12-13T12:41:00.326422Z"
    }
   },
   "outputs": [],
   "source": [
    "def read_input(filename):\n",
    "    machines = []\n",
    "    with open(filename, 'r') as f:\n",
    "        lines = f.readlines()\n",
    "        for i in range(0, len(lines), 4):\n",
    "            if i + 2 >= len(lines):\n",
    "                break\n",
    "            a = lines[i].strip().split(': ')[1].replace('X+', '').replace('Y+', '').split(', ')\n",
    "            b = lines[i+1].strip().split(': ')[1].replace('X+', '').replace('Y+', '').split(', ')\n",
    "            p = lines[i+2].strip().split(': ')[1].replace('X=', '').replace('Y=', '').split(', ')\n",
    "            machines.append({\n",
    "                'A': (int(a[0]), int(a[1])),\n",
    "                'B': (int(b[0]), int(b[1])),\n",
    "                'prize': (int(p[0]), int(p[1]))\n",
    "            })\n",
    "    return machines"
   ]
  },
  {
   "cell_type": "markdown",
   "metadata": {},
   "source": [
    "Extended Euclidean algorithm to solve Diophantine equations"
   ]
  },
  {
   "cell_type": "code",
   "execution_count": 2,
   "metadata": {
    "execution": {
     "iopub.execute_input": "2024-12-13T12:41:00.328974Z",
     "iopub.status.busy": "2024-12-13T12:41:00.328551Z",
     "iopub.status.idle": "2024-12-13T12:41:00.331490Z",
     "shell.execute_reply": "2024-12-13T12:41:00.331038Z"
    }
   },
   "outputs": [],
   "source": [
    "def extended_gcd(a, b):\n",
    "    if a == 0:\n",
    "        return (b, 0, 1)\n",
    "    gcd, x1, y1 = extended_gcd(b % a, a)\n",
    "    x = y1 - (b // a) * x1\n",
    "    y = x1\n",
    "    return (gcd, x, y)"
   ]
  },
  {
   "cell_type": "markdown",
   "metadata": {},
   "source": [
    "Solve equation system for each coordinate"
   ]
  },
  {
   "cell_type": "code",
   "execution_count": 3,
   "metadata": {
    "execution": {
     "iopub.execute_input": "2024-12-13T12:41:00.333082Z",
     "iopub.status.busy": "2024-12-13T12:41:00.332912Z",
     "iopub.status.idle": "2024-12-13T12:41:00.335991Z",
     "shell.execute_reply": "2024-12-13T12:41:00.335439Z"
    }
   },
   "outputs": [],
   "source": [
    "def find_solution(a, b, c):\n",
    "    gcd, x0, y0 = extended_gcd(a, b)\n",
    "    if c % gcd != 0:\n",
    "        return None\n",
    "    x = x0 * (c // gcd)\n",
    "    y = y0 * (c // gcd)\n",
    "    return (x, y)"
   ]
  },
  {
   "cell_type": "markdown",
   "metadata": {},
   "source": [
    "Process machines and calculate total cost"
   ]
  },
  {
   "cell_type": "code",
   "execution_count": 4,
   "metadata": {
    "execution": {
     "iopub.execute_input": "2024-12-13T12:41:00.337864Z",
     "iopub.status.busy": "2024-12-13T12:41:00.337547Z",
     "iopub.status.idle": "2024-12-13T12:41:00.341554Z",
     "shell.execute_reply": "2024-12-13T12:41:00.341085Z"
    }
   },
   "outputs": [],
   "source": [
    "def solve_for_part(machines, add_shift=False):\n",
    "    shift = 10000000000000 if add_shift else 0\n",
    "    total_tokens = 0\n",
    "    winnable = 0\n",
    "    \n",
    "    for m in machines:\n",
    "        ax, ay = m['A']\n",
    "        bx, by = m['B']\n",
    "        px = m['prize'][0] + shift\n",
    "        py = m['prize'][1] + shift\n",
    "        \n",
    "        sol_x = find_solution(ax, bx, px)\n",
    "        sol_y = find_solution(ay, by, py)\n",
    "        \n",
    "        if sol_x and sol_y and sol_x[0] >= 0 and sol_x[1] >= 0 and sol_y[0] >= 0 and sol_y[1] >= 0:\n",
    "            tokens = min(sol_x[0], sol_y[0]) * 3 + min(sol_x[1], sol_y[1])\n",
    "            total_tokens += tokens\n",
    "            winnable += 1\n",
    "    \n",
    "    return winnable, total_tokens"
   ]
  },
  {
   "cell_type": "markdown",
   "metadata": {},
   "source": [
    "Solve both parts"
   ]
  },
  {
   "cell_type": "code",
   "execution_count": 5,
   "metadata": {
    "execution": {
     "iopub.execute_input": "2024-12-13T12:41:00.343075Z",
     "iopub.status.busy": "2024-12-13T12:41:00.342907Z",
     "iopub.status.idle": "2024-12-13T12:41:00.349056Z",
     "shell.execute_reply": "2024-12-13T12:41:00.348513Z"
    }
   },
   "outputs": [],
   "source": [
    "machines = read_input('aoc13.txt')\n",
    "\n",
    "# Part 1\n",
    "winnable1, tokens1 = solve_for_part(machines)\n",
    "with open('results.txt', 'w') as f:\n",
    "    f.write(f\"Part 1:\\nWinnable prizes: {winnable1}\\nTotal tokens: {tokens1}\\n\")\n",
    "\n",
    "# Part 2\n",
    "winnable2, tokens2 = solve_for_part(machines, add_shift=True)\n",
    "with open('results.txt', 'a') as f:\n",
    "    f.write(f\"\\nPart 2:\\nWinnable prizes: {winnable2}\\nTotal tokens: {tokens2}\")"
   ]
  }
 ],
 "metadata": {
  "language_info": {
   "codemirror_mode": {
    "name": "ipython",
    "version": 3
   },
   "file_extension": ".py",
   "mimetype": "text/x-python",
   "name": "python",
   "nbconvert_exporter": "python",
   "pygments_lexer": "ipython3",
   "version": "3.12.8"
  }
 },
 "nbformat": 4,
 "nbformat_minor": 4
}
