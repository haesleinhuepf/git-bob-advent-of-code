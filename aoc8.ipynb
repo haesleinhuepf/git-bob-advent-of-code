{
 "cells": [
  {
   "cell_type": "markdown",
   "metadata": {},
   "source": [
    "# Advent of Code 8 - Part 2: Resonant Harmonics\n",
    "This solution considers the updated model where antinodes occur at any grid position exactly in line with at least two antennas of the same frequency."
   ]
  },
  {
   "cell_type": "code",
   "execution_count": 1,
   "metadata": {
    "execution": {
     "iopub.execute_input": "2024-12-08T19:34:19.688737Z",
     "iopub.status.busy": "2024-12-08T19:34:19.688236Z",
     "iopub.status.idle": "2024-12-08T19:34:19.691893Z",
     "shell.execute_reply": "2024-12-08T19:34:19.691480Z"
    }
   },
   "outputs": [],
   "source": [
    "def read_map(filename):\n",
    "    with open(filename, 'r') as f:\n",
    "        return [list(line.strip()) for line in f.readlines()]"
   ]
  },
  {
   "cell_type": "markdown",
   "metadata": {},
   "source": [
    "Function to find all antenna positions by frequency"
   ]
  },
  {
   "cell_type": "code",
   "execution_count": 2,
   "metadata": {
    "execution": {
     "iopub.execute_input": "2024-12-08T19:34:19.693725Z",
     "iopub.status.busy": "2024-12-08T19:34:19.693383Z",
     "iopub.status.idle": "2024-12-08T19:34:19.696735Z",
     "shell.execute_reply": "2024-12-08T19:34:19.696313Z"
    }
   },
   "outputs": [],
   "source": [
    "def find_antennas(grid):\n",
    "    antennas = {}\n",
    "    for y in range(len(grid)):\n",
    "        for x in range(len(grid[0])):\n",
    "            if grid[y][x] not in '.#':\n",
    "                freq = grid[y][x]\n",
    "                if freq not in antennas:\n",
    "                    antennas[freq] = []\n",
    "                antennas[freq].append((x, y))\n",
    "    return antennas"
   ]
  },
  {
   "cell_type": "markdown",
   "metadata": {},
   "source": [
    "Check if three points are collinear"
   ]
  },
  {
   "cell_type": "code",
   "execution_count": 3,
   "metadata": {
    "execution": {
     "iopub.execute_input": "2024-12-08T19:34:19.698573Z",
     "iopub.status.busy": "2024-12-08T19:34:19.698239Z",
     "iopub.status.idle": "2024-12-08T19:34:19.701045Z",
     "shell.execute_reply": "2024-12-08T19:34:19.700630Z"
    }
   },
   "outputs": [],
   "source": [
    "def are_collinear(p1, p2, p3):\n",
    "    x1, y1 = p1\n",
    "    x2, y2 = p2\n",
    "    x3, y3 = p3\n",
    "    return (y2-y1)*(x3-x1) == (y3-y1)*(x2-x1)"
   ]
  },
  {
   "cell_type": "markdown",
   "metadata": {},
   "source": [
    "Find all antinode positions in the grid"
   ]
  },
  {
   "cell_type": "code",
   "execution_count": 4,
   "metadata": {
    "execution": {
     "iopub.execute_input": "2024-12-08T19:34:19.702820Z",
     "iopub.status.busy": "2024-12-08T19:34:19.702462Z",
     "iopub.status.idle": "2024-12-08T19:34:19.707675Z",
     "shell.execute_reply": "2024-12-08T19:34:19.707081Z"
    }
   },
   "outputs": [],
   "source": [
    "def find_all_antinodes(grid, antennas):\n",
    "    antinodes = set()\n",
    "    height = len(grid)\n",
    "    width = len(grid[0])\n",
    "    \n",
    "    for freq, positions in antennas.items():\n",
    "        if len(positions) < 2:\n",
    "            continue\n",
    "            \n",
    "        # Add antenna positions as antinodes\n",
    "        for pos in positions:\n",
    "            antinodes.add(pos)\n",
    "            \n",
    "        # Check all grid positions for collinearity\n",
    "        for y in range(height):\n",
    "            for x in range(width):\n",
    "                point = (x, y)\n",
    "                for i in range(len(positions)):\n",
    "                    for j in range(i+1, len(positions)):\n",
    "                        if are_collinear(point, positions[i], positions[j]):\n",
    "                            antinodes.add(point)\n",
    "                            \n",
    "    return antinodes"
   ]
  },
  {
   "cell_type": "markdown",
   "metadata": {},
   "source": [
    "Main solution"
   ]
  },
  {
   "cell_type": "code",
   "execution_count": 5,
   "metadata": {
    "execution": {
     "iopub.execute_input": "2024-12-08T19:34:19.709518Z",
     "iopub.status.busy": "2024-12-08T19:34:19.709191Z",
     "iopub.status.idle": "2024-12-08T19:34:19.713390Z",
     "shell.execute_reply": "2024-12-08T19:34:19.712818Z"
    }
   },
   "outputs": [
    {
     "name": "stdout",
     "output_type": "stream",
     "text": [
      "Number of unique antinode locations: 34\n"
     ]
    }
   ],
   "source": [
    "# Solve the puzzle\n",
    "grid = read_map('aoc8.txt')\n",
    "antennas = find_antennas(grid)\n",
    "antinodes = find_all_antinodes(grid, antennas)\n",
    "result = len(antinodes)\n",
    "\n",
    "print(f\"Number of unique antinode locations: {result}\")"
   ]
  }
 ],
 "metadata": {
  "language_info": {
   "codemirror_mode": {
    "name": "ipython",
    "version": 3
   },
   "file_extension": ".py",
   "mimetype": "text/x-python",
   "name": "python",
   "nbconvert_exporter": "python",
   "pygments_lexer": "ipython3",
   "version": "3.12.7"
  }
 },
 "nbformat": 4,
 "nbformat_minor": 4
}
