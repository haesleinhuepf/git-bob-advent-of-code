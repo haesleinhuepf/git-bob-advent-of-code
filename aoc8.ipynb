{
 "cells": [
  {
   "cell_type": "markdown",
   "metadata": {},
   "source": [
    "# Advent of Code 8: Resonant Collinearity\n",
    "Let's solve this step by step by reading the input, finding antenna pairs and calculating antinodes."
   ]
  },
  {
   "cell_type": "code",
   "execution_count": 1,
   "metadata": {
    "execution": {
     "iopub.execute_input": "2024-12-08T19:31:09.954422Z",
     "iopub.status.busy": "2024-12-08T19:31:09.953963Z",
     "iopub.status.idle": "2024-12-08T19:31:09.957875Z",
     "shell.execute_reply": "2024-12-08T19:31:09.957461Z"
    }
   },
   "outputs": [],
   "source": [
    "def read_antenna_map(filename):\n",
    "    with open(filename, 'r') as f:\n",
    "        return [list(line.strip()) for line in f.readlines()]"
   ]
  },
  {
   "cell_type": "markdown",
   "metadata": {},
   "source": [
    "Find all antennas of the same frequency and their coordinates"
   ]
  },
  {
   "cell_type": "code",
   "execution_count": 2,
   "metadata": {
    "execution": {
     "iopub.execute_input": "2024-12-08T19:31:09.959742Z",
     "iopub.status.busy": "2024-12-08T19:31:09.959381Z",
     "iopub.status.idle": "2024-12-08T19:31:09.962812Z",
     "shell.execute_reply": "2024-12-08T19:31:09.962379Z"
    }
   },
   "outputs": [],
   "source": [
    "def find_antennas(grid):\n",
    "    antennas = {}\n",
    "    for y in range(len(grid)):\n",
    "        for x in range(len(grid[0])):\n",
    "            if grid[y][x] != '.':\n",
    "                freq = grid[y][x]\n",
    "                if freq not in antennas:\n",
    "                    antennas[freq] = []\n",
    "                antennas[freq].append((x, y))\n",
    "    return antennas"
   ]
  },
  {
   "cell_type": "markdown",
   "metadata": {},
   "source": [
    "Calculate antinode positions for antenna pairs with same frequency"
   ]
  },
  {
   "cell_type": "code",
   "execution_count": 3,
   "metadata": {
    "execution": {
     "iopub.execute_input": "2024-12-08T19:31:09.964564Z",
     "iopub.status.busy": "2024-12-08T19:31:09.964344Z",
     "iopub.status.idle": "2024-12-08T19:31:09.969255Z",
     "shell.execute_reply": "2024-12-08T19:31:09.968668Z"
    }
   },
   "outputs": [],
   "source": [
    "def find_antinodes(antennas):\n",
    "    antinodes = set()\n",
    "    for freq, positions in antennas.items():\n",
    "        for i in range(len(positions)):\n",
    "            for j in range(i + 1, len(positions)):\n",
    "                x1, y1 = positions[i]\n",
    "                x2, y2 = positions[j]\n",
    "                dx = x2 - x1\n",
    "                dy = y2 - y1\n",
    "                # Calculate both antinode positions\n",
    "                antinodes.add((x1 - dx, y1 - dy))\n",
    "                antinodes.add((x2 + dx, y2 + dy))\n",
    "    return antinodes"
   ]
  },
  {
   "cell_type": "markdown",
   "metadata": {},
   "source": [
    "Main solution"
   ]
  },
  {
   "cell_type": "code",
   "execution_count": 4,
   "metadata": {
    "execution": {
     "iopub.execute_input": "2024-12-08T19:31:09.971126Z",
     "iopub.status.busy": "2024-12-08T19:31:09.970937Z",
     "iopub.status.idle": "2024-12-08T19:31:09.975985Z",
     "shell.execute_reply": "2024-12-08T19:31:09.975384Z"
    }
   },
   "outputs": [
    {
     "name": "stdout",
     "output_type": "stream",
     "text": [
      "Number of unique antinode locations: 240\n"
     ]
    }
   ],
   "source": [
    "def count_valid_antinodes(grid, antinodes):\n",
    "    height = len(grid)\n",
    "    width = len(grid[0])\n",
    "    return sum(1 for x, y in antinodes if 0 <= x < width and 0 <= y < height)\n",
    "\n",
    "# Solve the puzzle\n",
    "grid = read_antenna_map('aoc8.txt')\n",
    "antennas = find_antennas(grid)\n",
    "antinodes = find_antinodes(antennas)\n",
    "result = count_valid_antinodes(grid, antinodes)\n",
    "\n",
    "print(f\"Number of unique antinode locations: {result}\")"
   ]
  }
 ],
 "metadata": {
  "language_info": {
   "codemirror_mode": {
    "name": "ipython",
    "version": 3
   },
   "file_extension": ".py",
   "mimetype": "text/x-python",
   "name": "python",
   "nbconvert_exporter": "python",
   "pygments_lexer": "ipython3",
   "version": "3.12.7"
  }
 },
 "nbformat": 4,
 "nbformat_minor": 4
}
