{
 "cells": [
  {
   "cell_type": "markdown",
   "metadata": {},
   "source": [
    "# Advent of Code Day 8: Resonant Collinearity\n",
    "Find antinodes in a grid of antennas"
   ]
  },
  {
   "cell_type": "code",
   "execution_count": 1,
   "metadata": {
    "execution": {
     "iopub.execute_input": "2024-12-08T19:37:49.544612Z",
     "iopub.status.busy": "2024-12-08T19:37:49.544413Z",
     "iopub.status.idle": "2024-12-08T19:37:49.610272Z",
     "shell.execute_reply": "2024-12-08T19:37:49.609628Z"
    }
   },
   "outputs": [],
   "source": [
    "import numpy as np"
   ]
  },
  {
   "cell_type": "markdown",
   "metadata": {},
   "source": [
    "Read input grid and find antenna positions"
   ]
  },
  {
   "cell_type": "code",
   "execution_count": 2,
   "metadata": {
    "execution": {
     "iopub.execute_input": "2024-12-08T19:37:49.613374Z",
     "iopub.status.busy": "2024-12-08T19:37:49.612487Z",
     "iopub.status.idle": "2024-12-08T19:37:49.618775Z",
     "shell.execute_reply": "2024-12-08T19:37:49.618239Z"
    }
   },
   "outputs": [],
   "source": [
    "def read_grid():\n",
    "    with open('aoc8.txt') as f:\n",
    "        return [list(line.strip()) for line in f if line.strip()]\n",
    "\n",
    "def find_antennas(grid):\n",
    "    antennas = {}\n",
    "    for y in range(len(grid)):\n",
    "        for x in range(len(grid[0])):\n",
    "            if grid[y][x] != '.':\n",
    "                freq = grid[y][x]\n",
    "                if freq not in antennas:\n",
    "                    antennas[freq] = []\n",
    "                antennas[freq].append((x, y))\n",
    "    return antennas\n",
    "\n",
    "grid = read_grid()\n",
    "antennas = find_antennas(grid)"
   ]
  },
  {
   "cell_type": "markdown",
   "metadata": {},
   "source": [
    "Function to check if points are collinear"
   ]
  },
  {
   "cell_type": "code",
   "execution_count": 3,
   "metadata": {
    "execution": {
     "iopub.execute_input": "2024-12-08T19:37:49.621932Z",
     "iopub.status.busy": "2024-12-08T19:37:49.621094Z",
     "iopub.status.idle": "2024-12-08T19:37:49.625315Z",
     "shell.execute_reply": "2024-12-08T19:37:49.624789Z"
    }
   },
   "outputs": [],
   "source": [
    "def are_collinear(p1, p2, p3):\n",
    "    x1, y1 = p1\n",
    "    x2, y2 = p2\n",
    "    x3, y3 = p3\n",
    "    return (y2-y1)*(x3-x1) == (y3-y1)*(x2-x1)"
   ]
  },
  {
   "cell_type": "markdown",
   "metadata": {},
   "source": [
    "Find all antinodes for Part 2"
   ]
  },
  {
   "cell_type": "code",
   "execution_count": 4,
   "metadata": {
    "execution": {
     "iopub.execute_input": "2024-12-08T19:37:49.628429Z",
     "iopub.status.busy": "2024-12-08T19:37:49.627626Z",
     "iopub.status.idle": "2024-12-08T19:37:49.850804Z",
     "shell.execute_reply": "2024-12-08T19:37:49.850256Z"
    }
   },
   "outputs": [
    {
     "name": "stdout",
     "output_type": "stream",
     "text": [
      "Total antinodes: 955\n"
     ]
    }
   ],
   "source": [
    "def find_antinodes(grid, antennas):\n",
    "    antinodes = set()\n",
    "    height = len(grid)\n",
    "    width = len(grid[0])\n",
    "    \n",
    "    for freq, positions in antennas.items():\n",
    "        if len(positions) < 2:\n",
    "            continue\n",
    "            \n",
    "        for y in range(height):\n",
    "            for x in range(width):\n",
    "                point = (x, y)\n",
    "                for i, p1 in enumerate(positions):\n",
    "                    for p2 in positions[i+1:]:\n",
    "                        if are_collinear(point, p1, p2):\n",
    "                            antinodes.add(point)\n",
    "    return antinodes\n",
    "\n",
    "antinodes = find_antinodes(grid, antennas)\n",
    "print(f\"Total antinodes: {len(antinodes)}\")"
   ]
  }
 ],
 "metadata": {
  "language_info": {
   "codemirror_mode": {
    "name": "ipython",
    "version": 3
   },
   "file_extension": ".py",
   "mimetype": "text/x-python",
   "name": "python",
   "nbconvert_exporter": "python",
   "pygments_lexer": "ipython3",
   "version": "3.12.7"
  }
 },
 "nbformat": 4,
 "nbformat_minor": 4
}
