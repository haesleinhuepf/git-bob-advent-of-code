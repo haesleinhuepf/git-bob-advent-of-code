{
 "cells": [
  {
   "cell_type": "markdown",
   "metadata": {},
   "source": [
    "# Advent of Code Day 2: Red-Nosed Reports Analysis\n",
    "Part 1 and 2 of analyzing reactor level reports"
   ]
  },
  {
   "cell_type": "markdown",
   "metadata": {},
   "source": [
    "Read input data"
   ]
  },
  {
   "cell_type": "code",
   "execution_count": 1,
   "metadata": {
    "execution": {
     "iopub.execute_input": "2024-12-07T19:24:08.975902Z",
     "iopub.status.busy": "2024-12-07T19:24:08.975466Z",
     "iopub.status.idle": "2024-12-07T19:24:08.981921Z",
     "shell.execute_reply": "2024-12-07T19:24:08.981487Z"
    }
   },
   "outputs": [],
   "source": [
    "def read_reports(filename):\n",
    "    with open(filename, 'r') as f:\n",
    "        return [[int(x) for x in line.strip().split()] for line in f]\n",
    "\n",
    "reports = read_reports('aoc2.txt')"
   ]
  },
  {
   "cell_type": "markdown",
   "metadata": {},
   "source": [
    "Check if a sequence is valid (Part 1)"
   ]
  },
  {
   "cell_type": "code",
   "execution_count": 2,
   "metadata": {
    "execution": {
     "iopub.execute_input": "2024-12-07T19:24:08.983711Z",
     "iopub.status.busy": "2024-12-07T19:24:08.983432Z",
     "iopub.status.idle": "2024-12-07T19:24:08.986846Z",
     "shell.execute_reply": "2024-12-07T19:24:08.986390Z"
    }
   },
   "outputs": [],
   "source": [
    "def is_valid_sequence(levels):\n",
    "    if len(levels) < 2:\n",
    "        return True\n",
    "    \n",
    "    diffs = [levels[i+1] - levels[i] for i in range(len(levels)-1)]\n",
    "    if not all(1 <= abs(d) <= 3 for d in diffs):\n",
    "        return False\n",
    "        \n",
    "    return all(d > 0 for d in diffs) or all(d < 0 for d in diffs)"
   ]
  },
  {
   "cell_type": "markdown",
   "metadata": {},
   "source": [
    "Part 1: Count safe reports"
   ]
  },
  {
   "cell_type": "code",
   "execution_count": 3,
   "metadata": {
    "execution": {
     "iopub.execute_input": "2024-12-07T19:24:08.988624Z",
     "iopub.status.busy": "2024-12-07T19:24:08.988279Z",
     "iopub.status.idle": "2024-12-07T19:24:08.993711Z",
     "shell.execute_reply": "2024-12-07T19:24:08.993260Z"
    }
   },
   "outputs": [],
   "source": [
    "safe_count = sum(1 for report in reports if is_valid_sequence(report))\n",
    "with open('result_part1.txt', 'w') as f:\n",
    "    f.write(f\"{safe_count}\\n\")"
   ]
  },
  {
   "cell_type": "markdown",
   "metadata": {},
   "source": [
    "Part 2: Check with Problem Dampener"
   ]
  },
  {
   "cell_type": "code",
   "execution_count": 4,
   "metadata": {
    "execution": {
     "iopub.execute_input": "2024-12-07T19:24:08.995603Z",
     "iopub.status.busy": "2024-12-07T19:24:08.995268Z",
     "iopub.status.idle": "2024-12-07T19:24:09.006334Z",
     "shell.execute_reply": "2024-12-07T19:24:09.005886Z"
    }
   },
   "outputs": [],
   "source": [
    "def is_safe_with_dampener(report):\n",
    "    if is_valid_sequence(report):\n",
    "        return True\n",
    "    return any(is_valid_sequence(report[:i] + report[i+1:]) \n",
    "              for i in range(len(report)))\n",
    "\n",
    "safe_count_2 = sum(1 for report in reports if is_safe_with_dampener(report))\n",
    "with open('result_part2.txt', 'w') as f:\n",
    "    f.write(f\"{safe_count_2}\\n\")"
   ]
  }
 ],
 "metadata": {
  "language_info": {
   "codemirror_mode": {
    "name": "ipython",
    "version": 3
   },
   "file_extension": ".py",
   "mimetype": "text/x-python",
   "name": "python",
   "nbconvert_exporter": "python",
   "pygments_lexer": "ipython3",
   "version": "3.12.7"
  }
 },
 "nbformat": 4,
 "nbformat_minor": 4
}
