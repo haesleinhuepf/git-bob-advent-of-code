{
 "cells": [
  {
   "cell_type": "markdown",
   "metadata": {},
   "source": [
    "# Advent of Code Day 2: Red-Nosed Reports Analysis"
   ]
  },
  {
   "cell_type": "markdown",
   "metadata": {},
   "source": [
    "Read the input data from file"
   ]
  },
  {
   "cell_type": "code",
   "execution_count": 1,
   "metadata": {
    "execution": {
     "iopub.execute_input": "2024-12-07T19:38:50.760381Z",
     "iopub.status.busy": "2024-12-07T19:38:50.760201Z",
     "iopub.status.idle": "2024-12-07T19:38:50.766347Z",
     "shell.execute_reply": "2024-12-07T19:38:50.765871Z"
    }
   },
   "outputs": [],
   "source": [
    "def read_reports(filename):\n",
    "    with open(filename, 'r') as f:\n",
    "        return [[int(x) for x in line.strip().split()] for line in f]\n",
    "\n",
    "reports = read_reports('aoc2.txt')"
   ]
  },
  {
   "cell_type": "markdown",
   "metadata": {},
   "source": [
    "Function to check if a sequence is valid (consistently increasing/decreasing by 1-3)"
   ]
  },
  {
   "cell_type": "code",
   "execution_count": 2,
   "metadata": {
    "execution": {
     "iopub.execute_input": "2024-12-07T19:38:50.768262Z",
     "iopub.status.busy": "2024-12-07T19:38:50.767858Z",
     "iopub.status.idle": "2024-12-07T19:38:50.771627Z",
     "shell.execute_reply": "2024-12-07T19:38:50.771058Z"
    }
   },
   "outputs": [],
   "source": [
    "def is_valid_sequence(levels):\n",
    "    diffs = [levels[i+1] - levels[i] for i in range(len(levels)-1)]\n",
    "    if not diffs:\n",
    "        return True\n",
    "    \n",
    "    if not all(1 <= abs(d) <= 3 for d in diffs):\n",
    "        return False\n",
    "    \n",
    "    return all(d > 0 for d in diffs) or all(d < 0 for d in diffs)"
   ]
  },
  {
   "cell_type": "markdown",
   "metadata": {},
   "source": [
    "Count and save safe reports (Part 1)"
   ]
  },
  {
   "cell_type": "code",
   "execution_count": 3,
   "metadata": {
    "execution": {
     "iopub.execute_input": "2024-12-07T19:38:50.773478Z",
     "iopub.status.busy": "2024-12-07T19:38:50.773159Z",
     "iopub.status.idle": "2024-12-07T19:38:50.778514Z",
     "shell.execute_reply": "2024-12-07T19:38:50.778074Z"
    }
   },
   "outputs": [],
   "source": [
    "safe_count = sum(1 for report in reports if is_valid_sequence(report))\n",
    "\n",
    "with open('result.txt', 'w') as f:\n",
    "    f.write(str(safe_count))"
   ]
  },
  {
   "cell_type": "markdown",
   "metadata": {},
   "source": [
    "Part 2: Problem Dampener functionality"
   ]
  },
  {
   "cell_type": "code",
   "execution_count": 4,
   "metadata": {
    "execution": {
     "iopub.execute_input": "2024-12-07T19:38:50.780121Z",
     "iopub.status.busy": "2024-12-07T19:38:50.779937Z",
     "iopub.status.idle": "2024-12-07T19:38:50.790950Z",
     "shell.execute_reply": "2024-12-07T19:38:50.790532Z"
    }
   },
   "outputs": [],
   "source": [
    "def is_safe_with_dampener(report):\n",
    "    if is_valid_sequence(report):\n",
    "        return True\n",
    "    return any(is_valid_sequence(report[:i] + report[i+1:]) \n",
    "              for i in range(len(report)))\n",
    "\n",
    "safe_count_2 = sum(1 for report in reports if is_safe_with_dampener(report))\n",
    "\n",
    "with open('result_part2.txt', 'w') as f:\n",
    "    f.write(str(safe_count_2))"
   ]
  }
 ],
 "metadata": {
  "language_info": {
   "codemirror_mode": {
    "name": "ipython",
    "version": 3
   },
   "file_extension": ".py",
   "mimetype": "text/x-python",
   "name": "python",
   "nbconvert_exporter": "python",
   "pygments_lexer": "ipython3",
   "version": "3.12.7"
  }
 },
 "nbformat": 4,
 "nbformat_minor": 4
}
