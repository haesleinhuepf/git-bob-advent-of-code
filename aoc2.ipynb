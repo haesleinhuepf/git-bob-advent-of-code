{
 "cells": [
  {
   "cell_type": "markdown",
   "metadata": {},
   "source": [
    "# Advent of Code Day 2: Red-Nosed Reports Analysis\n",
    "Analysis of reactor level reports to determine which ones are safe."
   ]
  },
  {
   "cell_type": "markdown",
   "metadata": {},
   "source": [
    "First, let's read the input file and parse the reports"
   ]
  },
  {
   "cell_type": "code",
   "execution_count": 1,
   "metadata": {
    "execution": {
     "iopub.execute_input": "2024-12-07T19:13:35.270183Z",
     "iopub.status.busy": "2024-12-07T19:13:35.269992Z",
     "iopub.status.idle": "2024-12-07T19:13:35.276405Z",
     "shell.execute_reply": "2024-12-07T19:13:35.275862Z"
    }
   },
   "outputs": [],
   "source": [
    "def read_reports(filename):\n",
    "    with open(filename, 'r') as f:\n",
    "        reports = [[int(x) for x in line.strip().split()] for line in f]\n",
    "    return reports\n",
    "\n",
    "reports = read_reports('aoc2.txt')"
   ]
  },
  {
   "cell_type": "markdown",
   "metadata": {},
   "source": [
    "Function to check if levels are consistently increasing or decreasing with valid differences"
   ]
  },
  {
   "cell_type": "code",
   "execution_count": 2,
   "metadata": {
    "execution": {
     "iopub.execute_input": "2024-12-07T19:13:35.278277Z",
     "iopub.status.busy": "2024-12-07T19:13:35.277846Z",
     "iopub.status.idle": "2024-12-07T19:13:35.281696Z",
     "shell.execute_reply": "2024-12-07T19:13:35.281150Z"
    }
   },
   "outputs": [],
   "source": [
    "def is_safe_report(levels):\n",
    "    # Check differences between adjacent numbers\n",
    "    diffs = [levels[i+1] - levels[i] for i in range(len(levels)-1)]\n",
    "    \n",
    "    # All differences must be positive (increasing) or negative (decreasing)\n",
    "    all_increasing = all(d > 0 for d in diffs)\n",
    "    all_decreasing = all(d < 0 for d in diffs)\n",
    "    \n",
    "    # Check if differences are between 1 and 3 (absolute value)\n",
    "    valid_diffs = all(1 <= abs(d) <= 3 for d in diffs)\n",
    "    \n",
    "    return (all_increasing or all_decreasing) and valid_diffs"
   ]
  },
  {
   "cell_type": "markdown",
   "metadata": {},
   "source": [
    "Count safe reports"
   ]
  },
  {
   "cell_type": "code",
   "execution_count": 3,
   "metadata": {
    "execution": {
     "iopub.execute_input": "2024-12-07T19:13:35.283510Z",
     "iopub.status.busy": "2024-12-07T19:13:35.283343Z",
     "iopub.status.idle": "2024-12-07T19:13:35.290343Z",
     "shell.execute_reply": "2024-12-07T19:13:35.289763Z"
    }
   },
   "outputs": [
    {
     "name": "stdout",
     "output_type": "stream",
     "text": [
      "Number of safe reports: 639\n"
     ]
    }
   ],
   "source": [
    "safe_count = sum(1 for report in reports if is_safe_report(report))\n",
    "print(f\"Number of safe reports: {safe_count}\")\n",
    "\n",
    "# Save result to file\n",
    "with open('result.txt', 'w') as f:\n",
    "    f.write(f\"Number of safe reports: {safe_count}\")"
   ]
  }
 ],
 "metadata": {
  "language_info": {
   "codemirror_mode": {
    "name": "ipython",
    "version": 3
   },
   "file_extension": ".py",
   "mimetype": "text/x-python",
   "name": "python",
   "nbconvert_exporter": "python",
   "pygments_lexer": "ipython3",
   "version": "3.12.7"
  }
 },
 "nbformat": 4,
 "nbformat_minor": 4
}
