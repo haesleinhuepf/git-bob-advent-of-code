{
 "cells": [
  {
   "cell_type": "markdown",
   "metadata": {},
   "source": [
    "# Advent of Code Day 20: Race Condition\n",
    "First, let's read the input file and prepare the maze data."
   ]
  },
  {
   "cell_type": "code",
   "execution_count": 1,
   "metadata": {
    "execution": {
     "iopub.execute_input": "2024-12-30T14:12:12.782335Z",
     "iopub.status.busy": "2024-12-30T14:12:12.782158Z",
     "iopub.status.idle": "2024-12-30T14:12:12.786184Z",
     "shell.execute_reply": "2024-12-30T14:12:12.785731Z"
    }
   },
   "outputs": [],
   "source": [
    "def read_maze(filename):\n",
    "    with open(filename, 'r') as f:\n",
    "        maze = [list(line.strip()) for line in f.readlines()]\n",
    "    return maze\n",
    "\n",
    "maze = read_maze('aoc20.txt')"
   ]
  },
  {
   "cell_type": "markdown",
   "metadata": {},
   "source": [
    "Implement functions to find start and end positions and calculate shortest path"
   ]
  },
  {
   "cell_type": "code",
   "execution_count": 2,
   "metadata": {
    "execution": {
     "iopub.execute_input": "2024-12-30T14:12:12.788098Z",
     "iopub.status.busy": "2024-12-30T14:12:12.787614Z",
     "iopub.status.idle": "2024-12-30T14:12:12.793964Z",
     "shell.execute_reply": "2024-12-30T14:12:12.793386Z"
    }
   },
   "outputs": [],
   "source": [
    "def find_positions(maze):\n",
    "    start, end = None, None\n",
    "    for y in range(len(maze)):\n",
    "        for x in range(len(maze[0])):\n",
    "            if maze[y][x] == 'S':\n",
    "                start = (y, x)\n",
    "            elif maze[y][x] == 'E':\n",
    "                end = (y, x)\n",
    "    return start, end\n",
    "\n",
    "from collections import deque\n",
    "\n",
    "def shortest_path(maze, start, end):\n",
    "    queue = deque([(start, 0)])\n",
    "    visited = {start}\n",
    "    \n",
    "    while queue:\n",
    "        (y, x), steps = queue.popleft()\n",
    "        if (y, x) == end:\n",
    "            return steps\n",
    "            \n",
    "        for dy, dx in [(0, 1), (1, 0), (0, -1), (-1, 0)]:\n",
    "            ny, nx = y + dy, x + dx\n",
    "            if (0 <= ny < len(maze) and 0 <= nx < len(maze[0]) and \n",
    "                maze[ny][nx] != '#' and (ny, nx) not in visited):\n",
    "                visited.add((ny, nx))\n",
    "                queue.append(((ny, nx), steps + 1))\n",
    "    \n",
    "    return float('inf')"
   ]
  },
  {
   "cell_type": "markdown",
   "metadata": {},
   "source": [
    "Function to check possible cheats and their time savings"
   ]
  },
  {
   "cell_type": "code",
   "execution_count": 3,
   "metadata": {
    "execution": {
     "iopub.execute_input": "2024-12-30T14:12:12.796025Z",
     "iopub.status.busy": "2024-12-30T14:12:12.795525Z",
     "iopub.status.idle": "2024-12-30T14:12:12.800047Z",
     "shell.execute_reply": "2024-12-30T14:12:12.799601Z"
    }
   },
   "outputs": [],
   "source": [
    "def find_cheats(maze, base_time):\n",
    "    start, end = find_positions(maze)\n",
    "    savings = []\n",
    "    height, width = len(maze), len(maze[0])\n",
    "    \n",
    "    for y1 in range(height):\n",
    "        for x1 in range(width):\n",
    "            if maze[y1][x1] == '#':\n",
    "                continue\n",
    "            \n",
    "            path1 = shortest_path(maze, start, (y1, x1))\n",
    "            if path1 == float('inf'):\n",
    "                continue\n",
    "                \n",
    "            for y2 in range(max(0, y1-2), min(height, y1+3)):\n",
    "                for x2 in range(max(0, x1-2), min(width, x1+3)):\n",
    "                    if maze[y2][x2] == '#':\n",
    "                        continue\n",
    "                        \n",
    "                    path2 = shortest_path(maze, (y2, x2), end)\n",
    "                    if path2 != float('inf'):\n",
    "                        total = path1 + path2 + abs(y2-y1) + abs(x2-x1)\n",
    "                        if total < base_time:\n",
    "                            savings.append(base_time - total)\n",
    "                            if len(savings) >= 100:  # Early exit if we find enough savings\n",
    "                                return savings\n",
    "    \n",
    "    return savings"
   ]
  },
  {
   "cell_type": "markdown",
   "metadata": {},
   "source": [
    "Calculate the result"
   ]
  },
  {
   "cell_type": "code",
   "execution_count": 4,
   "metadata": {
    "execution": {
     "iopub.execute_input": "2024-12-30T14:12:12.801788Z",
     "iopub.status.busy": "2024-12-30T14:12:12.801440Z",
     "iopub.status.idle": "2024-12-30T14:12:24.142257Z",
     "shell.execute_reply": "2024-12-30T14:12:24.141718Z"
    }
   },
   "outputs": [
    {
     "name": "stdout",
     "output_type": "stream",
     "text": [
      "Number of cheats saving at least 100 picoseconds: 22\n"
     ]
    }
   ],
   "source": [
    "start, end = find_positions(maze)\n",
    "base_time = shortest_path(maze, start, end)\n",
    "savings = find_cheats(maze, base_time)\n",
    "\n",
    "result = sum(1 for s in savings if s >= 100)\n",
    "print(f\"Number of cheats saving at least 100 picoseconds: {result}\")\n",
    "\n",
    "# Save result\n",
    "with open('result.txt', 'w') as f:\n",
    "    f.write(str(result))"
   ]
  }
 ],
 "metadata": {
  "language_info": {
   "codemirror_mode": {
    "name": "ipython",
    "version": 3
   },
   "file_extension": ".py",
   "mimetype": "text/x-python",
   "name": "python",
   "nbconvert_exporter": "python",
   "pygments_lexer": "ipython3",
   "version": "3.12.8"
  }
 },
 "nbformat": 4,
 "nbformat_minor": 2
}
