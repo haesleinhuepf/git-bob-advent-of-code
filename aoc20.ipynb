{
 "cells": [
  {
   "cell_type": "markdown",
   "metadata": {},
   "source": [
    "# Day 20: Race Condition\n",
    "First, let's read and parse the input data"
   ]
  },
  {
   "cell_type": "code",
   "execution_count": 1,
   "metadata": {
    "execution": {
     "iopub.execute_input": "2024-12-30T14:15:07.137655Z",
     "iopub.status.busy": "2024-12-30T14:15:07.137460Z",
     "iopub.status.idle": "2024-12-30T14:15:07.141134Z",
     "shell.execute_reply": "2024-12-30T14:15:07.140723Z"
    }
   },
   "outputs": [],
   "source": [
    "with open('aoc20.txt', 'r') as f:\n",
    "    grid = [list(line.strip()) for line in f.readlines()]"
   ]
  },
  {
   "cell_type": "markdown",
   "metadata": {},
   "source": [
    "Find start (S) and end (E) positions"
   ]
  },
  {
   "cell_type": "code",
   "execution_count": 2,
   "metadata": {
    "execution": {
     "iopub.execute_input": "2024-12-30T14:15:07.143052Z",
     "iopub.status.busy": "2024-12-30T14:15:07.142720Z",
     "iopub.status.idle": "2024-12-30T14:15:07.146824Z",
     "shell.execute_reply": "2024-12-30T14:15:07.146360Z"
    }
   },
   "outputs": [],
   "source": [
    "def find_positions(grid):\n",
    "    start = end = None\n",
    "    for y in range(len(grid)):\n",
    "        for x in range(len(grid[0])):\n",
    "            if grid[y][x] == 'S':\n",
    "                start = (y, x)\n",
    "            elif grid[y][x] == 'E':\n",
    "                end = (y, x)\n",
    "    return start, end"
   ]
  },
  {
   "cell_type": "markdown",
   "metadata": {},
   "source": [
    "Calculate shortest path time without cheating using BFS"
   ]
  },
  {
   "cell_type": "code",
   "execution_count": 3,
   "metadata": {
    "execution": {
     "iopub.execute_input": "2024-12-30T14:15:07.148552Z",
     "iopub.status.busy": "2024-12-30T14:15:07.148230Z",
     "iopub.status.idle": "2024-12-30T14:15:07.152289Z",
     "shell.execute_reply": "2024-12-30T14:15:07.151862Z"
    }
   },
   "outputs": [],
   "source": [
    "from collections import deque\n",
    "\n",
    "def normal_path_time(grid, start, end):\n",
    "    queue = deque([(start, 0)])\n",
    "    seen = {start}\n",
    "    \n",
    "    while queue:\n",
    "        pos, time = queue.popleft()\n",
    "        if pos == end:\n",
    "            return time\n",
    "        \n",
    "        y, x = pos\n",
    "        for ny, nx in [(y+1,x), (y-1,x), (y,x+1), (y,x-1)]:\n",
    "            if (0 <= ny < len(grid) and 0 <= nx < len(grid[0]) and\n",
    "                grid[ny][nx] != '#' and (ny,nx) not in seen):\n",
    "                queue.append(((ny,nx), time+1))\n",
    "                seen.add((ny,nx))\n",
    "    return float('inf')"
   ]
  },
  {
   "cell_type": "markdown",
   "metadata": {},
   "source": [
    "Find all possible cheats and calculate time savings"
   ]
  },
  {
   "cell_type": "code",
   "execution_count": 4,
   "metadata": {
    "execution": {
     "iopub.execute_input": "2024-12-30T14:15:07.154041Z",
     "iopub.status.busy": "2024-12-30T14:15:07.153723Z",
     "iopub.status.idle": "2024-12-30T14:15:07.158245Z",
     "shell.execute_reply": "2024-12-30T14:15:07.157699Z"
    }
   },
   "outputs": [],
   "source": [
    "def find_cheating_paths(grid, base_time):\n",
    "    start, end = find_positions(grid)\n",
    "    savings = []\n",
    "    \n",
    "    for y in range(len(grid)):\n",
    "        for x in range(len(grid[0])):\n",
    "            if grid[y][x] == '#':\n",
    "                time_to_here = normal_path_time(grid, start, (y-1,x))\n",
    "                if time_to_here == float('inf'):\n",
    "                    continue\n",
    "                    \n",
    "                # Try jumping through wall within 2 steps\n",
    "                for jump_y in range(max(0,y-2), min(len(grid),y+3)):\n",
    "                    for jump_x in range(max(0,x-2), min(len(grid[0]),x+3)):\n",
    "                        if grid[jump_y][jump_x] == '#':\n",
    "                            continue\n",
    "                        time_from_jump = normal_path_time(grid, (jump_y,jump_x), end)\n",
    "                        if time_from_jump != float('inf'):\n",
    "                            total_time = (time_to_here + abs(jump_y-y) + \n",
    "                                         abs(jump_x-x) + time_from_jump)\n",
    "                            if total_time < base_time:\n",
    "                                savings.append(base_time - total_time)\n",
    "    return savings"
   ]
  },
  {
   "cell_type": "markdown",
   "metadata": {},
   "source": [
    "Calculate and save result"
   ]
  },
  {
   "cell_type": "code",
   "execution_count": 5,
   "metadata": {
    "execution": {
     "iopub.execute_input": "2024-12-30T14:15:07.160201Z",
     "iopub.status.busy": "2024-12-30T14:15:07.159761Z",
     "iopub.status.idle": "2024-12-30T14:23:14.568408Z",
     "shell.execute_reply": "2024-12-30T14:23:14.567793Z"
    }
   },
   "outputs": [],
   "source": [
    "start, end = find_positions(grid)\n",
    "base_time = normal_path_time(grid, start, end)\n",
    "savings = find_cheating_paths(grid, base_time)\n",
    "\n",
    "result = sum(1 for s in savings if s >= 100)\n",
    "with open('result.txt', 'w') as f:\n",
    "    f.write(str(result))"
   ]
  }
 ],
 "metadata": {
  "language_info": {
   "codemirror_mode": {
    "name": "ipython",
    "version": 3
   },
   "file_extension": ".py",
   "mimetype": "text/x-python",
   "name": "python",
   "nbconvert_exporter": "python",
   "pygments_lexer": "ipython3",
   "version": "3.12.8"
  }
 },
 "nbformat": 4,
 "nbformat_minor": 2
}
