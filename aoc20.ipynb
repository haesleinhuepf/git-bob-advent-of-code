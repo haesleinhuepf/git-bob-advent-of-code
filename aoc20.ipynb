{
 "cells": [
  {
   "cell_type": "markdown",
   "metadata": {},
   "source": [
    "# Advent of Code Day 20: Race Condition\n",
    "First, let's read the input file and prepare the maze data."
   ]
  },
  {
   "cell_type": "code",
   "execution_count": 1,
   "metadata": {
    "execution": {
     "iopub.execute_input": "2024-12-30T14:01:50.260790Z",
     "iopub.status.busy": "2024-12-30T14:01:50.260357Z",
     "iopub.status.idle": "2024-12-30T14:01:50.264285Z",
     "shell.execute_reply": "2024-12-30T14:01:50.263878Z"
    }
   },
   "outputs": [],
   "source": [
    "def read_maze(filename):\n",
    "    with open(filename, 'r') as f:\n",
    "        maze = [list(line.strip()) for line in f.readlines()]\n",
    "    return maze\n",
    "\n",
    "maze = read_maze('aoc20.txt')"
   ]
  },
  {
   "cell_type": "markdown",
   "metadata": {},
   "source": [
    "Implement functions to find start and end positions and calculate shortest path"
   ]
  },
  {
   "cell_type": "code",
   "execution_count": 2,
   "metadata": {
    "execution": {
     "iopub.execute_input": "2024-12-30T14:01:50.265922Z",
     "iopub.status.busy": "2024-12-30T14:01:50.265739Z",
     "iopub.status.idle": "2024-12-30T14:01:50.272121Z",
     "shell.execute_reply": "2024-12-30T14:01:50.271565Z"
    }
   },
   "outputs": [],
   "source": [
    "def find_positions(maze):\n",
    "    start, end = None, None\n",
    "    for y in range(len(maze)):\n",
    "        for x in range(len(maze[0])):\n",
    "            if maze[y][x] == 'S':\n",
    "                start = (y, x)\n",
    "            elif maze[y][x] == 'E':\n",
    "                end = (y, x)\n",
    "    return start, end\n",
    "\n",
    "from collections import deque\n",
    "\n",
    "def shortest_path(maze, start, end):\n",
    "    queue = deque([(start, 0)])\n",
    "    visited = {start}\n",
    "    \n",
    "    while queue:\n",
    "        (y, x), steps = queue.popleft()\n",
    "        if (y, x) == end:\n",
    "            return steps\n",
    "            \n",
    "        for dy, dx in [(0, 1), (1, 0), (0, -1), (-1, 0)]:\n",
    "            ny, nx = y + dy, x + dx\n",
    "            if (0 <= ny < len(maze) and 0 <= nx < len(maze[0]) and \n",
    "                maze[ny][nx] != '#' and (ny, nx) not in visited):\n",
    "                visited.add((ny, nx))\n",
    "                queue.append(((ny, nx), steps + 1))\n",
    "    \n",
    "    return float('inf')"
   ]
  },
  {
   "cell_type": "markdown",
   "metadata": {},
   "source": [
    "Function to check possible cheats and their time savings"
   ]
  },
  {
   "cell_type": "code",
   "execution_count": 3,
   "metadata": {
    "execution": {
     "iopub.execute_input": "2024-12-30T14:01:50.273862Z",
     "iopub.status.busy": "2024-12-30T14:01:50.273521Z",
     "iopub.status.idle": "2024-12-30T14:01:50.278069Z",
     "shell.execute_reply": "2024-12-30T14:01:50.277491Z"
    }
   },
   "outputs": [],
   "source": [
    "def find_cheats(maze, base_time):\n",
    "    start, end = find_positions(maze)\n",
    "    savings = []\n",
    "    height, width = len(maze), len(maze[0])\n",
    "    \n",
    "    # Try all possible cheat start positions\n",
    "    for y1 in range(height):\n",
    "        for x1 in range(width):\n",
    "            if maze[y1][x1] == '#':\n",
    "                continue\n",
    "                \n",
    "            # Try all possible cheat end positions within 2 steps\n",
    "            for y2 in range(max(0, y1-2), min(height, y1+3)):\n",
    "                for x2 in range(max(0, x1-2), min(width, x1+3)):\n",
    "                    if maze[y2][x2] == '#':\n",
    "                        continue\n",
    "                        \n",
    "                    # Calculate path with this cheat\n",
    "                    path1 = shortest_path(maze, start, (y1, x1))\n",
    "                    path2 = shortest_path(maze, (y2, x2), end)\n",
    "                    \n",
    "                    if path1 != float('inf') and path2 != float('inf'):\n",
    "                        total = path1 + path2 + abs(y2-y1) + abs(x2-x1)\n",
    "                        if total < base_time:\n",
    "                            savings.append(base_time - total)\n",
    "    \n",
    "    return savings"
   ]
  },
  {
   "cell_type": "markdown",
   "metadata": {},
   "source": [
    "Calculate the result"
   ]
  },
  {
   "cell_type": "code",
   "execution_count": 4,
   "metadata": {
    "execution": {
     "iopub.execute_input": "2024-12-30T14:01:50.279837Z",
     "iopub.status.busy": "2024-12-30T14:01:50.279505Z",
     "iopub.status.idle": "2024-12-30T14:11:50.475587Z"
    }
   },
   "outputs": [
    {
     "ename": "KeyboardInterrupt",
     "evalue": "",
     "output_type": "error",
     "traceback": [
      "\u001b[0;31m---------------------------------------------------------------------------\u001b[0m",
      "\u001b[0;31mKeyboardInterrupt\u001b[0m                         Traceback (most recent call last)",
      "Cell \u001b[0;32mIn[4], line 3\u001b[0m\n\u001b[1;32m      1\u001b[0m start, end \u001b[38;5;241m=\u001b[39m find_positions(maze)\n\u001b[1;32m      2\u001b[0m base_time \u001b[38;5;241m=\u001b[39m shortest_path(maze, start, end)\n\u001b[0;32m----> 3\u001b[0m savings \u001b[38;5;241m=\u001b[39m \u001b[43mfind_cheats\u001b[49m\u001b[43m(\u001b[49m\u001b[43mmaze\u001b[49m\u001b[43m,\u001b[49m\u001b[43m \u001b[49m\u001b[43mbase_time\u001b[49m\u001b[43m)\u001b[49m\n\u001b[1;32m      5\u001b[0m result \u001b[38;5;241m=\u001b[39m \u001b[38;5;28msum\u001b[39m(\u001b[38;5;241m1\u001b[39m \u001b[38;5;28;01mfor\u001b[39;00m s \u001b[38;5;129;01min\u001b[39;00m savings \u001b[38;5;28;01mif\u001b[39;00m s \u001b[38;5;241m>\u001b[39m\u001b[38;5;241m=\u001b[39m \u001b[38;5;241m100\u001b[39m)\n\u001b[1;32m      6\u001b[0m \u001b[38;5;28mprint\u001b[39m(\u001b[38;5;124mf\u001b[39m\u001b[38;5;124m\"\u001b[39m\u001b[38;5;124mNumber of cheats saving at least 100 picoseconds: \u001b[39m\u001b[38;5;132;01m{\u001b[39;00mresult\u001b[38;5;132;01m}\u001b[39;00m\u001b[38;5;124m\"\u001b[39m)\n",
      "Cell \u001b[0;32mIn[3], line 20\u001b[0m, in \u001b[0;36mfind_cheats\u001b[0;34m(maze, base_time)\u001b[0m\n\u001b[1;32m     18\u001b[0m \u001b[38;5;66;03m# Calculate path with this cheat\u001b[39;00m\n\u001b[1;32m     19\u001b[0m path1 \u001b[38;5;241m=\u001b[39m shortest_path(maze, start, (y1, x1))\n\u001b[0;32m---> 20\u001b[0m path2 \u001b[38;5;241m=\u001b[39m \u001b[43mshortest_path\u001b[49m\u001b[43m(\u001b[49m\u001b[43mmaze\u001b[49m\u001b[43m,\u001b[49m\u001b[43m \u001b[49m\u001b[43m(\u001b[49m\u001b[43my2\u001b[49m\u001b[43m,\u001b[49m\u001b[43m \u001b[49m\u001b[43mx2\u001b[49m\u001b[43m)\u001b[49m\u001b[43m,\u001b[49m\u001b[43m \u001b[49m\u001b[43mend\u001b[49m\u001b[43m)\u001b[49m\n\u001b[1;32m     22\u001b[0m \u001b[38;5;28;01mif\u001b[39;00m path1 \u001b[38;5;241m!=\u001b[39m \u001b[38;5;28mfloat\u001b[39m(\u001b[38;5;124m'\u001b[39m\u001b[38;5;124minf\u001b[39m\u001b[38;5;124m'\u001b[39m) \u001b[38;5;129;01mand\u001b[39;00m path2 \u001b[38;5;241m!=\u001b[39m \u001b[38;5;28mfloat\u001b[39m(\u001b[38;5;124m'\u001b[39m\u001b[38;5;124minf\u001b[39m\u001b[38;5;124m'\u001b[39m):\n\u001b[1;32m     23\u001b[0m     total \u001b[38;5;241m=\u001b[39m path1 \u001b[38;5;241m+\u001b[39m path2 \u001b[38;5;241m+\u001b[39m \u001b[38;5;28mabs\u001b[39m(y2\u001b[38;5;241m-\u001b[39my1) \u001b[38;5;241m+\u001b[39m \u001b[38;5;28mabs\u001b[39m(x2\u001b[38;5;241m-\u001b[39mx1)\n",
      "Cell \u001b[0;32mIn[2], line 17\u001b[0m, in \u001b[0;36mshortest_path\u001b[0;34m(maze, start, end)\u001b[0m\n\u001b[1;32m     14\u001b[0m queue \u001b[38;5;241m=\u001b[39m deque([(start, \u001b[38;5;241m0\u001b[39m)])\n\u001b[1;32m     15\u001b[0m visited \u001b[38;5;241m=\u001b[39m {start}\n\u001b[0;32m---> 17\u001b[0m \u001b[38;5;28;01mwhile\u001b[39;00m queue:\n\u001b[1;32m     18\u001b[0m     (y, x), steps \u001b[38;5;241m=\u001b[39m queue\u001b[38;5;241m.\u001b[39mpopleft()\n\u001b[1;32m     19\u001b[0m     \u001b[38;5;28;01mif\u001b[39;00m (y, x) \u001b[38;5;241m==\u001b[39m end:\n",
      "\u001b[0;31mKeyboardInterrupt\u001b[0m: "
     ]
    }
   ],
   "source": [
    "start, end = find_positions(maze)\n",
    "base_time = shortest_path(maze, start, end)\n",
    "savings = find_cheats(maze, base_time)\n",
    "\n",
    "result = sum(1 for s in savings if s >= 100)\n",
    "print(f\"Number of cheats saving at least 100 picoseconds: {result}\")\n",
    "\n",
    "# Save result\n",
    "with open('result.txt', 'w') as f:\n",
    "    f.write(str(result))"
   ]
  }
 ],
 "metadata": {
  "language_info": {
   "codemirror_mode": {
    "name": "ipython",
    "version": 3
   },
   "file_extension": ".py",
   "mimetype": "text/x-python",
   "name": "python",
   "nbconvert_exporter": "python",
   "pygments_lexer": "ipython3",
   "version": "3.12.8"
  }
 },
 "nbformat": 4,
 "nbformat_minor": 2
}