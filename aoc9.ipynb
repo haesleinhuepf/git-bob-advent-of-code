{
 "cells": [
  {
   "cell_type": "markdown",
   "metadata": {},
   "source": [
    "# Advent of Code Day 9: Disk Fragmenter\n",
    "Let's solve this step by step. First, we'll read the input file."
   ]
  },
  {
   "cell_type": "code",
   "execution_count": 1,
   "metadata": {
    "execution": {
     "iopub.execute_input": "2024-12-09T08:56:27.194049Z",
     "iopub.status.busy": "2024-12-09T08:56:27.193857Z",
     "iopub.status.idle": "2024-12-09T08:56:27.197545Z",
     "shell.execute_reply": "2024-12-09T08:56:27.196992Z"
    }
   },
   "outputs": [],
   "source": [
    "with open('aoc9.txt', 'r') as f:\n",
    "    disk_map = f.read().strip()"
   ]
  },
  {
   "cell_type": "markdown",
   "metadata": {},
   "source": [
    "Create a function to convert the disk map to blocks representation"
   ]
  },
  {
   "cell_type": "code",
   "execution_count": 2,
   "metadata": {
    "execution": {
     "iopub.execute_input": "2024-12-09T08:56:27.199656Z",
     "iopub.status.busy": "2024-12-09T08:56:27.199215Z",
     "iopub.status.idle": "2024-12-09T08:56:27.202721Z",
     "shell.execute_reply": "2024-12-09T08:56:27.202281Z"
    }
   },
   "outputs": [],
   "source": [
    "def map_to_blocks(disk_map):\n",
    "    blocks = []\n",
    "    file_id = 0\n",
    "    for i, length in enumerate(disk_map):\n",
    "        length = int(length)\n",
    "        if i % 2 == 0:  # File block\n",
    "            blocks.extend([file_id] * length)\n",
    "            file_id += 1\n",
    "        else:  # Free space\n",
    "            blocks.extend(['.'] * length)\n",
    "    return blocks"
   ]
  },
  {
   "cell_type": "markdown",
   "metadata": {},
   "source": [
    "Function to compact blocks by moving files from right to left"
   ]
  },
  {
   "cell_type": "code",
   "execution_count": 3,
   "metadata": {
    "execution": {
     "iopub.execute_input": "2024-12-09T08:56:27.204445Z",
     "iopub.status.busy": "2024-12-09T08:56:27.204264Z",
     "iopub.status.idle": "2024-12-09T08:56:27.208822Z",
     "shell.execute_reply": "2024-12-09T08:56:27.208343Z"
    }
   },
   "outputs": [],
   "source": [
    "def compact_blocks(blocks):\n",
    "    while '.' in blocks:\n",
    "        # Find rightmost file and leftmost free space\n",
    "        rightmost_file = len(blocks) - 1\n",
    "        while blocks[rightmost_file] == '.':\n",
    "            rightmost_file -= 1\n",
    "            \n",
    "        leftmost_space = 0\n",
    "        while blocks[leftmost_space] != '.':\n",
    "            leftmost_space += 1\n",
    "            \n",
    "        if leftmost_space >= rightmost_file:\n",
    "            break\n",
    "            \n",
    "        # Move file block\n",
    "        blocks[leftmost_space] = blocks[rightmost_file]\n",
    "        blocks[rightmost_file] = '.'\n",
    "    \n",
    "    return blocks"
   ]
  },
  {
   "cell_type": "markdown",
   "metadata": {},
   "source": [
    "Calculate checksum after compacting"
   ]
  },
  {
   "cell_type": "code",
   "execution_count": 4,
   "metadata": {
    "execution": {
     "iopub.execute_input": "2024-12-09T08:56:27.210595Z",
     "iopub.status.busy": "2024-12-09T08:56:27.210414Z",
     "iopub.status.idle": "2024-12-09T08:56:27.213228Z",
     "shell.execute_reply": "2024-12-09T08:56:27.212789Z"
    }
   },
   "outputs": [],
   "source": [
    "def calculate_checksum(blocks):\n",
    "    checksum = 0\n",
    "    for pos, block in enumerate(blocks):\n",
    "        if block != '.':\n",
    "            checksum += pos * block\n",
    "    return checksum"
   ]
  },
  {
   "cell_type": "markdown",
   "metadata": {},
   "source": [
    "Solve the puzzle"
   ]
  },
  {
   "cell_type": "code",
   "execution_count": 5,
   "metadata": {
    "execution": {
     "iopub.execute_input": "2024-12-09T08:56:27.214995Z",
     "iopub.status.busy": "2024-12-09T08:56:27.214815Z",
     "iopub.status.idle": "2024-12-09T08:57:36.206410Z",
     "shell.execute_reply": "2024-12-09T08:57:36.205903Z"
    }
   },
   "outputs": [],
   "source": [
    "blocks = map_to_blocks(disk_map)\n",
    "compacted_blocks = compact_blocks(blocks.copy())\n",
    "checksum = calculate_checksum(compacted_blocks)\n",
    "\n",
    "with open('result.txt', 'w') as f:\n",
    "    f.write(f'Filesystem checksum: {checksum}')"
   ]
  }
 ],
 "metadata": {
  "language_info": {
   "codemirror_mode": {
    "name": "ipython",
    "version": 3
   },
   "file_extension": ".py",
   "mimetype": "text/x-python",
   "name": "python",
   "nbconvert_exporter": "python",
   "pygments_lexer": "ipython3",
   "version": "3.12.7"
  }
 },
 "nbformat": 4,
 "nbformat_minor": 4
}
