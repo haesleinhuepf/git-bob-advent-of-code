{
 "cells": [
  {
   "cell_type": "markdown",
   "metadata": {},
   "source": [
    "# Advent of Code Day 12: Garden Groups\n",
    "Load required libraries and read input data"
   ]
  },
  {
   "cell_type": "code",
   "execution_count": 1,
   "metadata": {
    "execution": {
     "iopub.execute_input": "2024-12-13T12:31:09.183541Z",
     "iopub.status.busy": "2024-12-13T12:31:09.183366Z",
     "iopub.status.idle": "2024-12-13T12:31:09.239543Z",
     "shell.execute_reply": "2024-12-13T12:31:09.239017Z"
    }
   },
   "outputs": [],
   "source": [
    "import numpy as np\n",
    "from collections import defaultdict\n",
    "\n",
    "with open('aoc12.txt', 'r') as file:\n",
    "    garden_map = [list(line.strip()) for line in file.readlines()]"
   ]
  },
  {
   "cell_type": "markdown",
   "metadata": {},
   "source": [
    "Function to find connected regions using flood fill"
   ]
  },
  {
   "cell_type": "code",
   "execution_count": 2,
   "metadata": {
    "execution": {
     "iopub.execute_input": "2024-12-13T12:31:09.242001Z",
     "iopub.status.busy": "2024-12-13T12:31:09.241758Z",
     "iopub.status.idle": "2024-12-13T12:31:09.246854Z",
     "shell.execute_reply": "2024-12-13T12:31:09.246358Z"
    }
   },
   "outputs": [],
   "source": [
    "def flood_fill(grid, x, y, plant_type):\n",
    "    if (x < 0 or x >= len(grid) or y < 0 or y >= len(grid[0]) \n",
    "        or grid[x][y] != plant_type):\n",
    "        return set()\n",
    "    \n",
    "    region = {(x, y)}\n",
    "    grid[x][y] = '*'  # mark as visited\n",
    "    \n",
    "    for dx, dy in [(0, 1), (1, 0), (0, -1), (-1, 0)]:\n",
    "        region.update(flood_fill(grid, x + dx, y + dy, plant_type))\n",
    "    \n",
    "    return region"
   ]
  },
  {
   "cell_type": "markdown",
   "metadata": {},
   "source": [
    "Function to calculate region perimeter"
   ]
  },
  {
   "cell_type": "code",
   "execution_count": 3,
   "metadata": {
    "execution": {
     "iopub.execute_input": "2024-12-13T12:31:09.249813Z",
     "iopub.status.busy": "2024-12-13T12:31:09.249031Z",
     "iopub.status.idle": "2024-12-13T12:31:09.253729Z",
     "shell.execute_reply": "2024-12-13T12:31:09.253250Z"
    }
   },
   "outputs": [],
   "source": [
    "def calculate_perimeter(grid, region):\n",
    "    perimeter = 0\n",
    "    for x, y in region:\n",
    "        for dx, dy in [(0, 1), (1, 0), (0, -1), (-1, 0)]:\n",
    "            nx, ny = x + dx, y + dy\n",
    "            if (nx < 0 or nx >= len(grid) or ny < 0 or ny >= len(grid[0]) \n",
    "                or (nx, ny) not in region):\n",
    "                perimeter += 1\n",
    "    return perimeter"
   ]
  },
  {
   "cell_type": "markdown",
   "metadata": {},
   "source": [
    "Process the garden map and calculate total price"
   ]
  },
  {
   "cell_type": "code",
   "execution_count": 4,
   "metadata": {
    "execution": {
     "iopub.execute_input": "2024-12-13T12:31:09.256686Z",
     "iopub.status.busy": "2024-12-13T12:31:09.255912Z",
     "iopub.status.idle": "2024-12-13T12:31:09.334672Z",
     "shell.execute_reply": "2024-12-13T12:31:09.334095Z"
    }
   },
   "outputs": [
    {
     "name": "stdout",
     "output_type": "stream",
     "text": [
      "Total price of fencing: 1486324\n"
     ]
    }
   ],
   "source": [
    "def solve_garden_groups(garden_map):\n",
    "    grid = [row[:] for row in garden_map]  # make a copy\n",
    "    total_price = 0\n",
    "    \n",
    "    for i in range(len(grid)):\n",
    "        for j in range(len(grid[0])):\n",
    "            if grid[i][j] != '*':\n",
    "                plant_type = grid[i][j]\n",
    "                region = flood_fill(grid, i, j, plant_type)\n",
    "                if region:\n",
    "                    area = len(region)\n",
    "                    perimeter = calculate_perimeter(garden_map, region)\n",
    "                    price = area * perimeter\n",
    "                    total_price += price\n",
    "    \n",
    "    return total_price\n",
    "\n",
    "result = solve_garden_groups(garden_map)\n",
    "print(f\"Total price of fencing: {result}\")\n",
    "\n",
    "# Save result\n",
    "with open('result.txt', 'w') as f:\n",
    "    f.write(str(result))"
   ]
  }
 ],
 "metadata": {
  "language_info": {
   "codemirror_mode": {
    "name": "ipython",
    "version": 3
   },
   "file_extension": ".py",
   "mimetype": "text/x-python",
   "name": "python",
   "nbconvert_exporter": "python",
   "pygments_lexer": "ipython3",
   "version": "3.12.8"
  }
 },
 "nbformat": 4,
 "nbformat_minor": 4
}
