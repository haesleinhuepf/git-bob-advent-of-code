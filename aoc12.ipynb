{
 "cells": [
  {
   "cell_type": "markdown",
   "metadata": {},
   "source": [
    "# Advent of Code Day 12 - Part 2: Garden Groups with Side Counting\n",
    "\n",
    "First, let's import required libraries and read input data"
   ]
  },
  {
   "cell_type": "code",
   "execution_count": 1,
   "metadata": {
    "execution": {
     "iopub.execute_input": "2024-12-13T12:34:34.773094Z",
     "iopub.status.busy": "2024-12-13T12:34:34.772918Z",
     "iopub.status.idle": "2024-12-13T12:34:34.826945Z",
     "shell.execute_reply": "2024-12-13T12:34:34.826456Z"
    }
   },
   "outputs": [],
   "source": [
    "import numpy as np\n",
    "from collections import defaultdict, deque\n",
    "\n",
    "with open('aoc12.txt', 'r') as file:\n",
    "    garden_map = [list(line.strip()) for line in file.readlines()]"
   ]
  },
  {
   "cell_type": "markdown",
   "metadata": {},
   "source": [
    "Define a function to find connected regions using flood fill and track their boundaries"
   ]
  },
  {
   "cell_type": "code",
   "execution_count": 2,
   "metadata": {
    "execution": {
     "iopub.execute_input": "2024-12-13T12:34:34.829454Z",
     "iopub.status.busy": "2024-12-13T12:34:34.829183Z",
     "iopub.status.idle": "2024-12-13T12:34:34.836863Z",
     "shell.execute_reply": "2024-12-13T12:34:34.836372Z"
    }
   },
   "outputs": [],
   "source": [
    "def flood_fill_with_sides(grid, start_x, start_y):\n",
    "    rows, cols = len(grid), len(grid[0])\n",
    "    plant_type = grid[start_x][start_y]\n",
    "    region = set()\n",
    "    edges = set()\n",
    "    queue = deque([(start_x, start_y)])\n",
    "    visited = set()\n",
    "    \n",
    "    while queue:\n",
    "        x, y = queue.popleft()\n",
    "        if (x, y) in visited:\n",
    "            continue\n",
    "            \n",
    "        visited.add((x, y))\n",
    "        if grid[x][y] != plant_type:\n",
    "            continue\n",
    "            \n",
    "        region.add((x, y))\n",
    "        for dx, dy in [(0,1), (1,0), (0,-1), (-1,0)]:\n",
    "            nx, ny = x + dx, y + dy\n",
    "            if 0 <= nx < rows and 0 <= ny < cols:\n",
    "                if grid[nx][ny] == plant_type:\n",
    "                    queue.append((nx, ny))\n",
    "                else:\n",
    "                    edges.add(((x,y), (nx,ny)))\n",
    "    \n",
    "    return region, count_sides(edges)\n",
    "\n",
    "def count_sides(edges):\n",
    "    # Count unique sides forming the region boundary\n",
    "    sides = set()\n",
    "    for (x1,y1), (x2,y2) in edges:\n",
    "        if x1 == x2:  # vertical edge\n",
    "            sides.add(('V', min(y1,y2), x1))\n",
    "        else:  # horizontal edge\n",
    "            sides.add(('H', min(x1,x2), y1))\n",
    "    return len(sides)"
   ]
  },
  {
   "cell_type": "markdown",
   "metadata": {},
   "source": [
    "Process the garden map and calculate total price using the new side-counting method"
   ]
  },
  {
   "cell_type": "code",
   "execution_count": 3,
   "metadata": {
    "execution": {
     "iopub.execute_input": "2024-12-13T12:34:34.839835Z",
     "iopub.status.busy": "2024-12-13T12:34:34.839054Z",
     "iopub.status.idle": "2024-12-13T12:34:34.896969Z",
     "shell.execute_reply": "2024-12-13T12:34:34.896384Z"
    }
   },
   "outputs": [
    {
     "name": "stdout",
     "output_type": "stream",
     "text": [
      "Total price of fencing using side counting: 1434909\n"
     ]
    }
   ],
   "source": [
    "def solve_garden_groups_part2(garden_map):\n",
    "    grid = [row[:] for row in garden_map]\n",
    "    total_price = 0\n",
    "    visited = set()\n",
    "    \n",
    "    for i in range(len(grid)):\n",
    "        for j in range(len(grid[0])):\n",
    "            if (i,j) not in visited and grid[i][j] != '*':\n",
    "                region, sides = flood_fill_with_sides(grid, i, j)\n",
    "                visited.update(region)\n",
    "                area = len(region)\n",
    "                price = area * sides\n",
    "                total_price += price\n",
    "                # Mark region as visited\n",
    "                for x, y in region:\n",
    "                    grid[x][y] = '*'\n",
    "    \n",
    "    return total_price\n",
    "\n",
    "result = solve_garden_groups_part2(garden_map)\n",
    "print(f\"Total price of fencing using side counting: {result}\")\n",
    "\n",
    "# Save result\n",
    "with open('result.txt', 'w') as f:\n",
    "    f.write(str(result))"
   ]
  }
 ],
 "metadata": {
  "language_info": {
   "codemirror_mode": {
    "name": "ipython",
    "version": 3
   },
   "file_extension": ".py",
   "mimetype": "text/x-python",
   "name": "python",
   "nbconvert_exporter": "python",
   "pygments_lexer": "ipython3",
   "version": "3.12.8"
  }
 },
 "nbformat": 4,
 "nbformat_minor": 4
}
