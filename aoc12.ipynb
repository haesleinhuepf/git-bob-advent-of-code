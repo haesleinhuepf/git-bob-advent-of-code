{
 "cells": [
  {
   "cell_type": "markdown",
   "metadata": {},
   "source": [
    "# Garden Groups - Part 2\n",
    "Import libraries and read input"
   ]
  },
  {
   "cell_type": "code",
   "execution_count": 1,
   "metadata": {
    "execution": {
     "iopub.execute_input": "2024-12-13T12:41:35.166678Z",
     "iopub.status.busy": "2024-12-13T12:41:35.166199Z",
     "iopub.status.idle": "2024-12-13T12:41:35.170418Z",
     "shell.execute_reply": "2024-12-13T12:41:35.169990Z"
    }
   },
   "outputs": [],
   "source": [
    "from collections import defaultdict, deque\n",
    "\n",
    "with open('aoc12.txt', 'r') as file:\n",
    "    garden_map = [list(line.strip()) for line in file]"
   ]
  },
  {
   "cell_type": "markdown",
   "metadata": {},
   "source": [
    "Function to find regions and count sides using flood fill"
   ]
  },
  {
   "cell_type": "code",
   "execution_count": 2,
   "metadata": {
    "execution": {
     "iopub.execute_input": "2024-12-13T12:41:35.172378Z",
     "iopub.status.busy": "2024-12-13T12:41:35.171917Z",
     "iopub.status.idle": "2024-12-13T12:41:35.177829Z",
     "shell.execute_reply": "2024-12-13T12:41:35.177282Z"
    }
   },
   "outputs": [],
   "source": [
    "def flood_fill(grid, x, y):\n",
    "    plant = grid[x][y]\n",
    "    queue = deque([(x, y)])\n",
    "    region = set([(x, y)])\n",
    "    edges = set()\n",
    "    grid[x][y] = '*'\n",
    "    \n",
    "    while queue:\n",
    "        cx, cy = queue.popleft()\n",
    "        for dx, dy in [(0,1), (1,0), (0,-1), (-1,0)]:\n",
    "            nx, ny = cx + dx, cy + dy\n",
    "            if (0 <= nx < len(grid) and 0 <= ny < len(grid[0])):\n",
    "                if grid[nx][ny] == plant:\n",
    "                    if (nx, ny) not in region:\n",
    "                        queue.append((nx, ny))\n",
    "                        region.add((nx, ny))\n",
    "                        grid[nx][ny] = '*'\n",
    "                else:\n",
    "                    edges.add((min(cx,nx), min(cy,ny), 'v' if cx == nx else 'h'))\n",
    "    \n",
    "    return len(region), len(edges)"
   ]
  },
  {
   "cell_type": "markdown",
   "metadata": {},
   "source": [
    "Process map and calculate total price"
   ]
  },
  {
   "cell_type": "code",
   "execution_count": 3,
   "metadata": {
    "execution": {
     "iopub.execute_input": "2024-12-13T12:41:35.179714Z",
     "iopub.status.busy": "2024-12-13T12:41:35.179398Z",
     "iopub.status.idle": "2024-12-13T12:41:35.225815Z",
     "shell.execute_reply": "2024-12-13T12:41:35.225277Z"
    }
   },
   "outputs": [],
   "source": [
    "def calculate_total_price(garden_map):\n",
    "    grid = [row[:] for row in garden_map]\n",
    "    total = 0\n",
    "    \n",
    "    for i in range(len(grid)):\n",
    "        for j in range(len(grid[0])):\n",
    "            if grid[i][j] != '*':\n",
    "                area, sides = flood_fill(grid, i, j)\n",
    "                total += area * sides\n",
    "    \n",
    "    return total\n",
    "\n",
    "result = calculate_total_price(garden_map)\n",
    "\n",
    "with open('result.txt', 'w') as f:\n",
    "    f.write(str(result))"
   ]
  }
 ],
 "metadata": {
  "language_info": {
   "codemirror_mode": {
    "name": "ipython",
    "version": 3
   },
   "file_extension": ".py",
   "mimetype": "text/x-python",
   "name": "python",
   "nbconvert_exporter": "python",
   "pygments_lexer": "ipython3",
   "version": "3.12.8"
  }
 },
 "nbformat": 4,
 "nbformat_minor": 4
}
