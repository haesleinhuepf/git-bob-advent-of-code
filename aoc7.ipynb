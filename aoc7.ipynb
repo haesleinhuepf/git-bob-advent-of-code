{
 "cells": [
  {
   "cell_type": "markdown",
   "metadata": {},
   "source": [
    "# Advent of Code Day 7: Bridge Repair\n",
    "Let's solve the calibration equation puzzle."
   ]
  },
  {
   "cell_type": "code",
   "execution_count": 1,
   "metadata": {
    "execution": {
     "iopub.execute_input": "2024-12-07T20:54:06.863850Z",
     "iopub.status.busy": "2024-12-07T20:54:06.863663Z",
     "iopub.status.idle": "2024-12-07T20:54:06.867728Z",
     "shell.execute_reply": "2024-12-07T20:54:06.867292Z"
    }
   },
   "outputs": [],
   "source": [
    "def parse_input(filename):\n",
    "    equations = []\n",
    "    with open(filename, 'r') as f:\n",
    "        for line in f:\n",
    "            test_value, numbers = line.split(':')\n",
    "            numbers = [int(x) for x in numbers.strip().split()]\n",
    "            equations.append((int(test_value), numbers))\n",
    "    return equations"
   ]
  },
  {
   "cell_type": "markdown",
   "metadata": {},
   "source": [
    "Function to evaluate expressions with operators left to right"
   ]
  },
  {
   "cell_type": "code",
   "execution_count": 2,
   "metadata": {
    "execution": {
     "iopub.execute_input": "2024-12-07T20:54:06.869608Z",
     "iopub.status.busy": "2024-12-07T20:54:06.869260Z",
     "iopub.status.idle": "2024-12-07T20:54:06.872465Z",
     "shell.execute_reply": "2024-12-07T20:54:06.872013Z"
    }
   },
   "outputs": [],
   "source": [
    "def evaluate_expression(numbers, operators):\n",
    "    result = numbers[0]\n",
    "    for i, op in enumerate(operators):\n",
    "        if op == '+':\n",
    "            result += numbers[i + 1]\n",
    "        else:  # op == '*'\n",
    "            result *= numbers[i + 1]\n",
    "    return result"
   ]
  },
  {
   "cell_type": "markdown",
   "metadata": {},
   "source": [
    "Try all possible operator combinations"
   ]
  },
  {
   "cell_type": "code",
   "execution_count": 3,
   "metadata": {
    "execution": {
     "iopub.execute_input": "2024-12-07T20:54:06.874284Z",
     "iopub.status.busy": "2024-12-07T20:54:06.873950Z",
     "iopub.status.idle": "2024-12-07T20:54:06.877328Z",
     "shell.execute_reply": "2024-12-07T20:54:06.876869Z"
    }
   },
   "outputs": [],
   "source": [
    "from itertools import product\n",
    "\n",
    "def can_make_value(target, numbers):\n",
    "    if len(numbers) == 1:\n",
    "        return target == numbers[0]\n",
    "    \n",
    "    operators = ['+', '*']\n",
    "    for ops in product(operators, repeat=len(numbers)-1):\n",
    "        if evaluate_expression(numbers, ops) == target:\n",
    "            return True\n",
    "    return False"
   ]
  },
  {
   "cell_type": "markdown",
   "metadata": {},
   "source": [
    "Solve the puzzle"
   ]
  },
  {
   "cell_type": "code",
   "execution_count": 4,
   "metadata": {
    "execution": {
     "iopub.execute_input": "2024-12-07T20:54:06.879292Z",
     "iopub.status.busy": "2024-12-07T20:54:06.878827Z",
     "iopub.status.idle": "2024-12-07T20:54:07.060951Z",
     "shell.execute_reply": "2024-12-07T20:54:07.060167Z"
    }
   },
   "outputs": [
    {
     "ename": "ValueError",
     "evalue": "not enough values to unpack (expected 2, got 1)",
     "output_type": "error",
     "traceback": [
      "\u001b[0;31m---------------------------------------------------------------------------\u001b[0m",
      "\u001b[0;31mValueError\u001b[0m                                Traceback (most recent call last)",
      "Cell \u001b[0;32mIn[4], line 1\u001b[0m\n\u001b[0;32m----> 1\u001b[0m equations \u001b[38;5;241m=\u001b[39m \u001b[43mparse_input\u001b[49m\u001b[43m(\u001b[49m\u001b[38;5;124;43m'\u001b[39;49m\u001b[38;5;124;43maoc7.txt\u001b[39;49m\u001b[38;5;124;43m'\u001b[39;49m\u001b[43m)\u001b[49m\n\u001b[1;32m      2\u001b[0m total \u001b[38;5;241m=\u001b[39m \u001b[38;5;241m0\u001b[39m\n\u001b[1;32m      4\u001b[0m \u001b[38;5;28;01mfor\u001b[39;00m target, numbers \u001b[38;5;129;01min\u001b[39;00m equations:\n",
      "Cell \u001b[0;32mIn[1], line 5\u001b[0m, in \u001b[0;36mparse_input\u001b[0;34m(filename)\u001b[0m\n\u001b[1;32m      3\u001b[0m \u001b[38;5;28;01mwith\u001b[39;00m \u001b[38;5;28mopen\u001b[39m(filename, \u001b[38;5;124m'\u001b[39m\u001b[38;5;124mr\u001b[39m\u001b[38;5;124m'\u001b[39m) \u001b[38;5;28;01mas\u001b[39;00m f:\n\u001b[1;32m      4\u001b[0m     \u001b[38;5;28;01mfor\u001b[39;00m line \u001b[38;5;129;01min\u001b[39;00m f:\n\u001b[0;32m----> 5\u001b[0m         test_value, numbers \u001b[38;5;241m=\u001b[39m line\u001b[38;5;241m.\u001b[39msplit(\u001b[38;5;124m'\u001b[39m\u001b[38;5;124m:\u001b[39m\u001b[38;5;124m'\u001b[39m)\n\u001b[1;32m      6\u001b[0m         numbers \u001b[38;5;241m=\u001b[39m [\u001b[38;5;28mint\u001b[39m(x) \u001b[38;5;28;01mfor\u001b[39;00m x \u001b[38;5;129;01min\u001b[39;00m numbers\u001b[38;5;241m.\u001b[39mstrip()\u001b[38;5;241m.\u001b[39msplit()]\n\u001b[1;32m      7\u001b[0m         equations\u001b[38;5;241m.\u001b[39mappend((\u001b[38;5;28mint\u001b[39m(test_value), numbers))\n",
      "\u001b[0;31mValueError\u001b[0m: not enough values to unpack (expected 2, got 1)"
     ]
    }
   ],
   "source": [
    "equations = parse_input('aoc7.txt')\n",
    "total = 0\n",
    "\n",
    "for target, numbers in equations:\n",
    "    if can_make_value(target, numbers):\n",
    "        total += target\n",
    "\n",
    "print(f\"Total calibration result: {total}\")\n",
    "with open('result.txt', 'w') as f:\n",
    "    f.write(str(total))"
   ]
  }
 ],
 "metadata": {
  "language_info": {
   "codemirror_mode": {
    "name": "ipython",
    "version": 3
   },
   "file_extension": ".py",
   "mimetype": "text/x-python",
   "name": "python",
   "nbconvert_exporter": "python",
   "pygments_lexer": "ipython3",
   "version": "3.12.7"
  }
 },
 "nbformat": 4,
 "nbformat_minor": 4
}
