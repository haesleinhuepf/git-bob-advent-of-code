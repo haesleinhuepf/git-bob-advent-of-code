{
 "cells": [
  {
   "cell_type": "markdown",
   "metadata": {},
   "source": [
    "# Day 7: Bridge Repair - Part Two\n",
    "We'll solve the puzzle by testing combinations of operators including concatenation (||) between numbers."
   ]
  },
  {
   "cell_type": "markdown",
   "metadata": {},
   "source": [
    "First, import required libraries and define helper functions for operations"
   ]
  },
  {
   "cell_type": "code",
   "execution_count": 1,
   "metadata": {
    "execution": {
     "iopub.execute_input": "2024-12-07T21:07:26.050632Z",
     "iopub.status.busy": "2024-12-07T21:07:26.050179Z",
     "iopub.status.idle": "2024-12-07T21:07:26.054481Z",
     "shell.execute_reply": "2024-12-07T21:07:26.053926Z"
    }
   },
   "outputs": [],
   "source": [
    "from itertools import product\n",
    "from operator import add, mul\n",
    "\n",
    "def concat(a, b):\n",
    "    return int(str(a) + str(b))\n",
    "\n",
    "def evaluate_expr(nums, ops):\n",
    "    result = nums[0]\n",
    "    for i, op in enumerate(ops):\n",
    "        result = op(result, nums[i+1])\n",
    "    return result"
   ]
  },
  {
   "cell_type": "markdown",
   "metadata": {},
   "source": [
    "Process the input file and test each equation with all operator combinations"
   ]
  },
  {
   "cell_type": "code",
   "execution_count": 2,
   "metadata": {
    "execution": {
     "iopub.execute_input": "2024-12-07T21:07:26.056613Z",
     "iopub.status.busy": "2024-12-07T21:07:26.056189Z",
     "iopub.status.idle": "2024-12-07T21:08:00.209093Z",
     "shell.execute_reply": "2024-12-07T21:08:00.208553Z"
    }
   },
   "outputs": [],
   "source": [
    "operators = {'+': add, '*': mul, '||': concat}\n",
    "total = 0\n",
    "\n",
    "with open('aoc7.txt') as f:\n",
    "    lines = f.readlines()\n",
    "\n",
    "valid_equations = []\n",
    "for line in lines:\n",
    "    parts = line.strip().split(':')\n",
    "    test_value = int(parts[0])\n",
    "    nums = [int(x) for x in parts[1].split()]\n",
    "    \n",
    "    for ops in product(operators.values(), repeat=len(nums)-1):\n",
    "        if evaluate_expr(nums, ops) == test_value:\n",
    "            valid_equations.append((test_value, line.strip()))\n",
    "            total += test_value\n",
    "            break\n",
    "\n",
    "# Save results\n",
    "with open('result_part2.txt', 'w') as f:\n",
    "    f.write(f\"Total calibration result: {total}\\n\\nValid equations:\\n\")\n",
    "    for val, eq in valid_equations:\n",
    "        f.write(f\"{eq}\\n\")"
   ]
  }
 ],
 "metadata": {
  "language_info": {
   "codemirror_mode": {
    "name": "ipython",
    "version": 3
   },
   "file_extension": ".py",
   "mimetype": "text/x-python",
   "name": "python",
   "nbconvert_exporter": "python",
   "pygments_lexer": "ipython3",
   "version": "3.12.7"
  }
 },
 "nbformat": 4,
 "nbformat_minor": 4
}
