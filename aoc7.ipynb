{
 "cells": [
  {
   "cell_type": "markdown",
   "metadata": {},
   "source": [
    "# Advent of Code Day 7: Bridge Repair\n",
    "First, let's import required libraries and define helper functions"
   ]
  },
  {
   "cell_type": "code",
   "execution_count": 1,
   "metadata": {
    "execution": {
     "iopub.execute_input": "2024-12-07T20:50:08.829420Z",
     "iopub.status.busy": "2024-12-07T20:50:08.829225Z",
     "iopub.status.idle": "2024-12-07T20:50:08.835169Z",
     "shell.execute_reply": "2024-12-07T20:50:08.834658Z"
    }
   },
   "outputs": [],
   "source": [
    "import itertools\n",
    "\n",
    "def evaluate_expression(numbers, operators):\n",
    "    result = numbers[0]\n",
    "    for i, op in enumerate(operators):\n",
    "        if op == '+':\n",
    "            result += numbers[i+1]\n",
    "        else:\n",
    "            result *= numbers[i+1]\n",
    "    return result"
   ]
  },
  {
   "cell_type": "markdown",
   "metadata": {},
   "source": [
    "Function to test if a value can be made with given numbers and operators"
   ]
  },
  {
   "cell_type": "code",
   "execution_count": 2,
   "metadata": {
    "execution": {
     "iopub.execute_input": "2024-12-07T20:50:08.837221Z",
     "iopub.status.busy": "2024-12-07T20:50:08.836818Z",
     "iopub.status.idle": "2024-12-07T20:50:08.840532Z",
     "shell.execute_reply": "2024-12-07T20:50:08.840074Z"
    }
   },
   "outputs": [],
   "source": [
    "def can_make_test_value(test_value, numbers):\n",
    "    ops = ['+', '*']\n",
    "    for operators in itertools.product(ops, repeat=len(numbers)-1):\n",
    "        if evaluate_expression(numbers, operators) == test_value:\n",
    "            return True\n",
    "    return False"
   ]
  },
  {
   "cell_type": "markdown",
   "metadata": {},
   "source": [
    "Process the input file and calculate total"
   ]
  },
  {
   "cell_type": "code",
   "execution_count": 3,
   "metadata": {
    "execution": {
     "iopub.execute_input": "2024-12-07T20:50:08.842261Z",
     "iopub.status.busy": "2024-12-07T20:50:08.841915Z",
     "iopub.status.idle": "2024-12-07T20:50:08.847527Z",
     "shell.execute_reply": "2024-12-07T20:50:08.846955Z"
    }
   },
   "outputs": [
    {
     "name": "stdout",
     "output_type": "stream",
     "text": [
      "Total calibration result: 0\n"
     ]
    }
   ],
   "source": [
    "total = 0\n",
    "valid_equations = []\n",
    "\n",
    "with open('aoc7.txt') as f:\n",
    "    for line in f:\n",
    "        if not line.strip():\n",
    "            continue\n",
    "            \n",
    "        parts = line.strip().split(':')\n",
    "        test_value = int(parts[0])\n",
    "        numbers = [int(x) for x in parts[1].strip().split()]\n",
    "        \n",
    "        if can_make_test_value(test_value, numbers):\n",
    "            total += test_value\n",
    "            valid_equations.append(line.strip())\n",
    "\n",
    "print(f\"Total calibration result: {total}\")\n",
    "\n",
    "# Save results\n",
    "with open('calibration_results.txt', 'w') as f:\n",
    "    f.write(f\"Total calibration result: {total}\\n\\nValid equations:\\n\")\n",
    "    f.write('\\n'.join(valid_equations))"
   ]
  }
 ],
 "metadata": {
  "language_info": {
   "codemirror_mode": {
    "name": "ipython",
    "version": 3
   },
   "file_extension": ".py",
   "mimetype": "text/x-python",
   "name": "python",
   "nbconvert_exporter": "python",
   "pygments_lexer": "ipython3",
   "version": "3.12.7"
  }
 },
 "nbformat": 4,
 "nbformat_minor": 4
}
