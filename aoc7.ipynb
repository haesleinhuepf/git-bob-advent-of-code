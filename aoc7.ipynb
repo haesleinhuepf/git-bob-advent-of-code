{
 "cells": [
  {
   "cell_type": "markdown",
   "metadata": {},
   "source": [
    "# Advent of Code Day 7: Bridge Repair\n",
    "Import required libraries"
   ]
  },
  {
   "cell_type": "code",
   "execution_count": 1,
   "metadata": {
    "execution": {
     "iopub.execute_input": "2024-12-07T20:45:07.616289Z",
     "iopub.status.busy": "2024-12-07T20:45:07.616096Z",
     "iopub.status.idle": "2024-12-07T20:45:07.619564Z",
     "shell.execute_reply": "2024-12-07T20:45:07.619005Z"
    }
   },
   "outputs": [],
   "source": [
    "import itertools"
   ]
  },
  {
   "cell_type": "markdown",
   "metadata": {},
   "source": [
    "Define function to evaluate expressions left-to-right"
   ]
  },
  {
   "cell_type": "code",
   "execution_count": 2,
   "metadata": {
    "execution": {
     "iopub.execute_input": "2024-12-07T20:45:07.621627Z",
     "iopub.status.busy": "2024-12-07T20:45:07.621201Z",
     "iopub.status.idle": "2024-12-07T20:45:07.624747Z",
     "shell.execute_reply": "2024-12-07T20:45:07.624182Z"
    }
   },
   "outputs": [],
   "source": [
    "def evaluate_expression(numbers, operators):\n",
    "    result = numbers[0]\n",
    "    for i, op in enumerate(operators):\n",
    "        if op == '+':\n",
    "            result += numbers[i+1]\n",
    "        else:\n",
    "            result *= numbers[i+1]\n",
    "    return result"
   ]
  },
  {
   "cell_type": "markdown",
   "metadata": {},
   "source": [
    "Function to check if a test value can be achieved"
   ]
  },
  {
   "cell_type": "code",
   "execution_count": 3,
   "metadata": {
    "execution": {
     "iopub.execute_input": "2024-12-07T20:45:07.626691Z",
     "iopub.status.busy": "2024-12-07T20:45:07.626491Z",
     "iopub.status.idle": "2024-12-07T20:45:07.629869Z",
     "shell.execute_reply": "2024-12-07T20:45:07.629396Z"
    }
   },
   "outputs": [],
   "source": [
    "def can_make_test_value(test_value, numbers):\n",
    "    ops = ['+', '*']\n",
    "    for operators in itertools.product(ops, repeat=len(numbers)-1):\n",
    "        if evaluate_expression(numbers, operators) == test_value:\n",
    "            return True, operators\n",
    "    return False, None"
   ]
  },
  {
   "cell_type": "markdown",
   "metadata": {},
   "source": [
    "Process input file and find valid equations"
   ]
  },
  {
   "cell_type": "code",
   "execution_count": 4,
   "metadata": {
    "execution": {
     "iopub.execute_input": "2024-12-07T20:45:07.631649Z",
     "iopub.status.busy": "2024-12-07T20:45:07.631461Z",
     "iopub.status.idle": "2024-12-07T20:45:07.638393Z",
     "shell.execute_reply": "2024-12-07T20:45:07.637805Z"
    }
   },
   "outputs": [
    {
     "name": "stdout",
     "output_type": "stream",
     "text": [
      "Total calibration value: 0\n"
     ]
    }
   ],
   "source": [
    "total = 0\n",
    "valid_equations = []\n",
    "\n",
    "with open('aoc7.txt') as f:\n",
    "    lines = f.readlines()\n",
    "    \n",
    "for line in lines:\n",
    "    if line.strip():  # Skip empty lines\n",
    "        parts = line.strip().split(':')\n",
    "        test_value = int(parts[0])\n",
    "        numbers = [int(x) for x in parts[1].strip().split()]\n",
    "        \n",
    "        is_valid, operators = can_make_test_value(test_value, numbers)\n",
    "        if is_valid:\n",
    "            total += test_value\n",
    "            valid_equations.append(f\"{line.strip()} (Valid with operators: {''.join(operators)})\")\n",
    "\n",
    "# Save results\n",
    "with open('aoc7_results.txt', 'w') as f:\n",
    "    f.write(f\"Total calibration value: {total}\\n\\nValid equations:\\n\")\n",
    "    f.write('\\n'.join(valid_equations))\n",
    "\n",
    "print(f\"Total calibration value: {total}\")"
   ]
  }
 ],
 "metadata": {
  "language_info": {
   "codemirror_mode": {
    "name": "ipython",
    "version": 3
   },
   "file_extension": ".py",
   "mimetype": "text/x-python",
   "name": "python",
   "nbconvert_exporter": "python",
   "pygments_lexer": "ipython3",
   "version": "3.12.7"
  }
 },
 "nbformat": 4,
 "nbformat_minor": 4
}
