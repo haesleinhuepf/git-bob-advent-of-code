{
 "cells": [
  {
   "cell_type": "markdown",
   "metadata": {},
   "source": [
    "# Day 7: Bridge Repair\n",
    "We'll solve the puzzle by testing combinations of operators between numbers."
   ]
  },
  {
   "cell_type": "markdown",
   "metadata": {},
   "source": [
    "First, import required libraries and define helper function to evaluate expressions"
   ]
  },
  {
   "cell_type": "code",
   "execution_count": 1,
   "metadata": {
    "execution": {
     "iopub.execute_input": "2024-12-07T21:02:16.370813Z",
     "iopub.status.busy": "2024-12-07T21:02:16.370412Z",
     "iopub.status.idle": "2024-12-07T21:02:16.374743Z",
     "shell.execute_reply": "2024-12-07T21:02:16.374241Z"
    }
   },
   "outputs": [],
   "source": [
    "from itertools import product\n",
    "from operator import add, mul\n",
    "\n",
    "def evaluate_expr(nums, ops):\n",
    "    result = nums[0]\n",
    "    for i, op in enumerate(ops):\n",
    "        result = op(result, nums[i+1])\n",
    "    return result"
   ]
  },
  {
   "cell_type": "markdown",
   "metadata": {},
   "source": [
    "Read and process the input file, testing each equation"
   ]
  },
  {
   "cell_type": "code",
   "execution_count": 2,
   "metadata": {
    "execution": {
     "iopub.execute_input": "2024-12-07T21:02:16.376624Z",
     "iopub.status.busy": "2024-12-07T21:02:16.376271Z",
     "iopub.status.idle": "2024-12-07T21:02:16.673285Z",
     "shell.execute_reply": "2024-12-07T21:02:16.672661Z"
    }
   },
   "outputs": [
    {
     "name": "stdout",
     "output_type": "stream",
     "text": [
      "Total calibration result: 3119088655389\n"
     ]
    }
   ],
   "source": [
    "operators = {'+': add, '*': mul}\n",
    "total = 0\n",
    "\n",
    "with open('aoc7.txt') as f:\n",
    "    for line in f:\n",
    "        parts = line.strip().split(':')\n",
    "        test_value = int(parts[0])\n",
    "        nums = [int(x) for x in parts[1].split()]\n",
    "        \n",
    "        for ops in product(operators.values(), repeat=len(nums)-1):\n",
    "            if evaluate_expr(nums, ops) == test_value:\n",
    "                total += test_value\n",
    "                break\n",
    "\n",
    "print(f\"Total calibration result: {total}\")\n",
    "\n",
    "# Save result\n",
    "with open('result.txt', 'w') as f:\n",
    "    f.write(str(total))"
   ]
  }
 ],
 "metadata": {
  "language_info": {
   "codemirror_mode": {
    "name": "ipython",
    "version": 3
   },
   "file_extension": ".py",
   "mimetype": "text/x-python",
   "name": "python",
   "nbconvert_exporter": "python",
   "pygments_lexer": "ipython3",
   "version": "3.12.7"
  }
 },
 "nbformat": 4,
 "nbformat_minor": 4
}
