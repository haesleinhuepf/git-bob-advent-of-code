{
 "cells": [
  {
   "cell_type": "markdown",
   "metadata": {},
   "source": [
    "# Advent of Code Day 7: Bridge Repair\n",
    "\n",
    "We need to find equations that can be made true by inserting + and * operators between numbers."
   ]
  },
  {
   "cell_type": "markdown",
   "metadata": {},
   "source": [
    "First, import required libraries and define function to evaluate expressions left-to-right"
   ]
  },
  {
   "cell_type": "code",
   "execution_count": 1,
   "metadata": {
    "execution": {
     "iopub.execute_input": "2024-12-07T20:42:41.396883Z",
     "iopub.status.busy": "2024-12-07T20:42:41.396699Z",
     "iopub.status.idle": "2024-12-07T20:42:41.400690Z",
     "shell.execute_reply": "2024-12-07T20:42:41.400142Z"
    }
   },
   "outputs": [],
   "source": [
    "import itertools\n",
    "\n",
    "def evaluate_expression(numbers, operators):\n",
    "    result = numbers[0]\n",
    "    for i, op in enumerate(operators):\n",
    "        if op == '+':\n",
    "            result += numbers[i+1]\n",
    "        else:\n",
    "            result *= numbers[i+1]\n",
    "    return result"
   ]
  },
  {
   "cell_type": "markdown",
   "metadata": {},
   "source": [
    "Function to test if a value can be achieved with given numbers using any operator combination"
   ]
  },
  {
   "cell_type": "code",
   "execution_count": 2,
   "metadata": {
    "execution": {
     "iopub.execute_input": "2024-12-07T20:42:41.402717Z",
     "iopub.status.busy": "2024-12-07T20:42:41.402371Z",
     "iopub.status.idle": "2024-12-07T20:42:41.405398Z",
     "shell.execute_reply": "2024-12-07T20:42:41.404952Z"
    }
   },
   "outputs": [],
   "source": [
    "def can_make_test_value(test_value, numbers):\n",
    "    operators = ['+', '*']\n",
    "    for ops in itertools.product(operators, repeat=len(numbers)-1):\n",
    "        if evaluate_expression(numbers, ops) == test_value:\n",
    "            return True\n",
    "    return False"
   ]
  },
  {
   "cell_type": "markdown",
   "metadata": {},
   "source": [
    "Process input file and calculate total calibration result"
   ]
  },
  {
   "cell_type": "code",
   "execution_count": 3,
   "metadata": {
    "execution": {
     "iopub.execute_input": "2024-12-07T20:42:41.407308Z",
     "iopub.status.busy": "2024-12-07T20:42:41.406978Z",
     "iopub.status.idle": "2024-12-07T20:42:41.584123Z",
     "shell.execute_reply": "2024-12-07T20:42:41.583303Z"
    }
   },
   "outputs": [
    {
     "ename": "ValueError",
     "evalue": "invalid literal for int() with base 10: ''",
     "output_type": "error",
     "traceback": [
      "\u001b[0;31m---------------------------------------------------------------------------\u001b[0m",
      "\u001b[0;31mValueError\u001b[0m                                Traceback (most recent call last)",
      "Cell \u001b[0;32mIn[3], line 7\u001b[0m\n\u001b[1;32m      5\u001b[0m \u001b[38;5;28;01mfor\u001b[39;00m line \u001b[38;5;129;01min\u001b[39;00m f:\n\u001b[1;32m      6\u001b[0m     parts \u001b[38;5;241m=\u001b[39m line\u001b[38;5;241m.\u001b[39mstrip()\u001b[38;5;241m.\u001b[39msplit(\u001b[38;5;124m'\u001b[39m\u001b[38;5;124m:\u001b[39m\u001b[38;5;124m'\u001b[39m)\n\u001b[0;32m----> 7\u001b[0m     test_value \u001b[38;5;241m=\u001b[39m \u001b[38;5;28;43mint\u001b[39;49m\u001b[43m(\u001b[49m\u001b[43mparts\u001b[49m\u001b[43m[\u001b[49m\u001b[38;5;241;43m0\u001b[39;49m\u001b[43m]\u001b[49m\u001b[43m)\u001b[49m\n\u001b[1;32m      8\u001b[0m     numbers \u001b[38;5;241m=\u001b[39m [\u001b[38;5;28mint\u001b[39m(x) \u001b[38;5;28;01mfor\u001b[39;00m x \u001b[38;5;129;01min\u001b[39;00m parts[\u001b[38;5;241m1\u001b[39m]\u001b[38;5;241m.\u001b[39mstrip()\u001b[38;5;241m.\u001b[39msplit()]\n\u001b[1;32m     10\u001b[0m     \u001b[38;5;28;01mif\u001b[39;00m can_make_test_value(test_value, numbers):\n",
      "\u001b[0;31mValueError\u001b[0m: invalid literal for int() with base 10: ''"
     ]
    }
   ],
   "source": [
    "total = 0\n",
    "valid_equations = []\n",
    "\n",
    "with open('aoc7.txt') as f:\n",
    "    for line in f:\n",
    "        parts = line.strip().split(':')\n",
    "        test_value = int(parts[0])\n",
    "        numbers = [int(x) for x in parts[1].strip().split()]\n",
    "        \n",
    "        if can_make_test_value(test_value, numbers):\n",
    "            total += test_value\n",
    "            valid_equations.append(line.strip())\n",
    "\n",
    "print(f\"Total calibration result: {total}\")\n",
    "\n",
    "# Save results\n",
    "with open('calibration_result.txt', 'w') as f:\n",
    "    f.write(f\"Total calibration result: {total}\\n\\nValid equations:\\n\")\n",
    "    f.write('\\n'.join(valid_equations))"
   ]
  }
 ],
 "metadata": {
  "language_info": {
   "codemirror_mode": {
    "name": "ipython",
    "version": 3
   },
   "file_extension": ".py",
   "mimetype": "text/x-python",
   "name": "python",
   "nbconvert_exporter": "python",
   "pygments_lexer": "ipython3",
   "version": "3.12.7"
  }
 },
 "nbformat": 4,
 "nbformat_minor": 4
}
