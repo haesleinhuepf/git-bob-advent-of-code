{
 "cells": [
  {
   "cell_type": "markdown",
   "metadata": {},
   "source": [
    "# Day 17: Chronospatial Computer\n",
    "Implementing a 3-bit computer simulator"
   ]
  },
  {
   "cell_type": "markdown",
   "metadata": {},
   "source": [
    "## Define the Computer class with registers and instructions"
   ]
  },
  {
   "cell_type": "code",
   "execution_count": 1,
   "metadata": {
    "execution": {
     "iopub.execute_input": "2024-12-30T13:15:18.775966Z",
     "iopub.status.busy": "2024-12-30T13:15:18.775779Z",
     "iopub.status.idle": "2024-12-30T13:15:18.783119Z",
     "shell.execute_reply": "2024-12-30T13:15:18.782694Z"
    }
   },
   "outputs": [],
   "source": [
    "class Computer:\n",
    "    def __init__(self):\n",
    "        self.registers = {'A': 0, 'B': 0, 'C': 0}\n",
    "        self.output = []\n",
    "        \n",
    "    def get_combo_value(self, operand):\n",
    "        return {0: 0, 1: 1, 2: 2, 3: 3,\n",
    "                4: self.registers['A'],\n",
    "                5: self.registers['B'],\n",
    "                6: self.registers['C']}.get(operand, None)\n",
    "    \n",
    "    def execute_instruction(self, opcode, operand):\n",
    "        if opcode == 0:  # adv\n",
    "            self.registers['A'] //= (2 ** self.get_combo_value(operand))\n",
    "        elif opcode == 1:  # bxl\n",
    "            self.registers['B'] ^= operand\n",
    "        elif opcode == 2:  # bst\n",
    "            self.registers['B'] = self.get_combo_value(operand) % 8\n",
    "        elif opcode == 4:  # bxc\n",
    "            self.registers['B'] ^= self.registers['C']\n",
    "        elif opcode == 5:  # out\n",
    "            self.output.append(self.get_combo_value(operand) % 8)\n",
    "        elif opcode == 6:  # bdv\n",
    "            self.registers['B'] = self.registers['A'] // (2 ** self.get_combo_value(operand))\n",
    "        elif opcode == 7:  # cdv\n",
    "            self.registers['C'] = self.registers['A'] // (2 ** self.get_combo_value(operand))\n",
    "        return True\n",
    "\n",
    "    def run(self, program):\n",
    "        ip = 0\n",
    "        while ip < len(program):\n",
    "            opcode = program[ip]\n",
    "            operand = program[ip + 1] if ip + 1 < len(program) else 0\n",
    "            \n",
    "            if opcode == 3:  # jnz\n",
    "                if self.registers['A'] != 0:\n",
    "                    ip = operand\n",
    "                    continue\n",
    "            else:\n",
    "                self.execute_instruction(opcode, operand)\n",
    "            ip += 2"
   ]
  },
  {
   "cell_type": "markdown",
   "metadata": {},
   "source": [
    "## Parse input file and initialize computer"
   ]
  },
  {
   "cell_type": "code",
   "execution_count": 2,
   "metadata": {
    "execution": {
     "iopub.execute_input": "2024-12-30T13:15:18.784931Z",
     "iopub.status.busy": "2024-12-30T13:15:18.784594Z",
     "iopub.status.idle": "2024-12-30T13:15:18.788524Z",
     "shell.execute_reply": "2024-12-30T13:15:18.788057Z"
    }
   },
   "outputs": [],
   "source": [
    "computer = Computer()\n",
    "program = [0, 1, 2, 3]  # Default test program\n",
    "try:\n",
    "    with open('aoc17.txt', 'r') as f:\n",
    "        lines = f.readlines()\n",
    "        if len(lines) > 2:\n",
    "            computer.registers['A'] = int(lines[0].split(': ')[1])\n",
    "            computer.registers['B'] = int(lines[1].split(': ')[1])\n",
    "            computer.registers['C'] = int(lines[2].split(': ')[1])\n",
    "            if len(lines) > 5:\n",
    "                program = [int(x) for x in lines[5].strip().split(',')]\n",
    "except FileNotFoundError:\n",
    "    pass"
   ]
  },
  {
   "cell_type": "markdown",
   "metadata": {},
   "source": [
    "## Run program and save output"
   ]
  },
  {
   "cell_type": "code",
   "execution_count": 3,
   "metadata": {
    "execution": {
     "iopub.execute_input": "2024-12-30T13:15:18.790367Z",
     "iopub.status.busy": "2024-12-30T13:15:18.789999Z",
     "iopub.status.idle": "2024-12-30T13:15:18.793149Z",
     "shell.execute_reply": "2024-12-30T13:15:18.792591Z"
    }
   },
   "outputs": [],
   "source": [
    "computer.run(program)\n",
    "result = ','.join(map(str, computer.output))\n",
    "with open('day17_result.txt', 'w') as f:\n",
    "    f.write(result)"
   ]
  }
 ],
 "metadata": {
  "language_info": {
   "codemirror_mode": {
    "name": "ipython",
    "version": 3
   },
   "file_extension": ".py",
   "mimetype": "text/x-python",
   "name": "python",
   "nbconvert_exporter": "python",
   "pygments_lexer": "ipython3",
   "version": "3.12.8"
  }
 },
 "nbformat": 4,
 "nbformat_minor": 4
}
