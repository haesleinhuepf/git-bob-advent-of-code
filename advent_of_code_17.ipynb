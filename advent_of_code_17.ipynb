{
 "cells": [
  {
   "cell_type": "markdown",
   "metadata": {},
   "source": [
    "# Chronospatial Computer\n",
    "3-bit computer simulator that executes instructions on registers A, B, C"
   ]
  },
  {
   "cell_type": "code",
   "execution_count": 1,
   "metadata": {
    "execution": {
     "iopub.execute_input": "2024-12-30T13:19:49.523251Z",
     "iopub.status.busy": "2024-12-30T13:19:49.523076Z",
     "iopub.status.idle": "2024-12-30T13:19:49.527191Z",
     "shell.execute_reply": "2024-12-30T13:19:49.526645Z"
    }
   },
   "outputs": [],
   "source": [
    "class Computer:\n",
    "    def __init__(self, reg_a=0, reg_b=0, reg_c=0):\n",
    "        self.registers = {'A': reg_a, 'B': reg_b, 'C': reg_c}\n",
    "        self.output = []\n",
    "        \n",
    "    def get_combo_value(self, operand):\n",
    "        if 0 <= operand <= 3:\n",
    "            return operand\n",
    "        return self.registers['ABC'[operand-4]] if 4 <= operand <= 6 else None"
   ]
  },
  {
   "cell_type": "markdown",
   "metadata": {},
   "source": [
    "Implement all instruction operations"
   ]
  },
  {
   "cell_type": "code",
   "execution_count": 2,
   "metadata": {
    "execution": {
     "iopub.execute_input": "2024-12-30T13:19:49.529018Z",
     "iopub.status.busy": "2024-12-30T13:19:49.528666Z",
     "iopub.status.idle": "2024-12-30T13:19:49.534239Z",
     "shell.execute_reply": "2024-12-30T13:19:49.533672Z"
    }
   },
   "outputs": [],
   "source": [
    "def execute(self, program):\n",
    "    ip = 0\n",
    "    while ip < len(program):\n",
    "        opcode = program[ip]\n",
    "        operand = program[ip + 1] if ip + 1 < len(program) else 0\n",
    "        \n",
    "        if opcode == 0:  # adv\n",
    "            self.registers['A'] //= (2 ** self.get_combo_value(operand))\n",
    "        elif opcode == 1:  # bxl\n",
    "            self.registers['B'] ^= operand\n",
    "        elif opcode == 2:  # bst\n",
    "            self.registers['B'] = self.get_combo_value(operand) % 8\n",
    "        elif opcode == 3:  # jnz\n",
    "            if self.registers['A'] != 0:\n",
    "                ip = operand\n",
    "                continue\n",
    "        elif opcode == 4:  # bxc\n",
    "            self.registers['B'] ^= self.registers['C']\n",
    "        elif opcode == 5:  # out\n",
    "            self.output.append(self.get_combo_value(operand) % 8)\n",
    "        elif opcode == 6:  # bdv\n",
    "            self.registers['B'] = self.registers['A'] // (2 ** self.get_combo_value(operand))\n",
    "        elif opcode == 7:  # cdv\n",
    "            self.registers['C'] = self.registers['A'] // (2 ** self.get_combo_value(operand))\n",
    "        ip += 2\n",
    "\n",
    "Computer.execute = execute"
   ]
  },
  {
   "cell_type": "markdown",
   "metadata": {},
   "source": [
    "Read input and run program"
   ]
  },
  {
   "cell_type": "code",
   "execution_count": 3,
   "metadata": {
    "execution": {
     "iopub.execute_input": "2024-12-30T13:19:49.535910Z",
     "iopub.status.busy": "2024-12-30T13:19:49.535731Z",
     "iopub.status.idle": "2024-12-30T13:19:49.688395Z",
     "shell.execute_reply": "2024-12-30T13:19:49.687556Z"
    }
   },
   "outputs": [
    {
     "ename": "IndexError",
     "evalue": "list index out of range",
     "output_type": "error",
     "traceback": [
      "\u001b[0;31m---------------------------------------------------------------------------\u001b[0m",
      "\u001b[0;31mIndexError\u001b[0m                                Traceback (most recent call last)",
      "Cell \u001b[0;32mIn[3], line 6\u001b[0m\n\u001b[1;32m      4\u001b[0m     reg_b \u001b[38;5;241m=\u001b[39m \u001b[38;5;28mint\u001b[39m(lines[\u001b[38;5;241m1\u001b[39m]\u001b[38;5;241m.\u001b[39msplit(\u001b[38;5;124m'\u001b[39m\u001b[38;5;124m: \u001b[39m\u001b[38;5;124m'\u001b[39m)[\u001b[38;5;241m1\u001b[39m])\n\u001b[1;32m      5\u001b[0m     reg_c \u001b[38;5;241m=\u001b[39m \u001b[38;5;28mint\u001b[39m(lines[\u001b[38;5;241m2\u001b[39m]\u001b[38;5;241m.\u001b[39msplit(\u001b[38;5;124m'\u001b[39m\u001b[38;5;124m: \u001b[39m\u001b[38;5;124m'\u001b[39m)[\u001b[38;5;241m1\u001b[39m])\n\u001b[0;32m----> 6\u001b[0m     program \u001b[38;5;241m=\u001b[39m [\u001b[38;5;28mint\u001b[39m(x) \u001b[38;5;28;01mfor\u001b[39;00m x \u001b[38;5;129;01min\u001b[39;00m \u001b[43mlines\u001b[49m\u001b[43m[\u001b[49m\u001b[38;5;241;43m5\u001b[39;49m\u001b[43m]\u001b[49m\u001b[38;5;241m.\u001b[39mstrip()\u001b[38;5;241m.\u001b[39msplit(\u001b[38;5;124m'\u001b[39m\u001b[38;5;124m,\u001b[39m\u001b[38;5;124m'\u001b[39m)]\n\u001b[1;32m      8\u001b[0m computer \u001b[38;5;241m=\u001b[39m Computer(reg_a, reg_b, reg_c)\n\u001b[1;32m      9\u001b[0m computer\u001b[38;5;241m.\u001b[39mexecute(program)\n",
      "\u001b[0;31mIndexError\u001b[0m: list index out of range"
     ]
    }
   ],
   "source": [
    "with open('aoc17.txt', 'r') as f:\n",
    "    lines = f.readlines()\n",
    "    reg_a = int(lines[0].split(': ')[1])\n",
    "    reg_b = int(lines[1].split(': ')[1])\n",
    "    reg_c = int(lines[2].split(': ')[1])\n",
    "    program = [int(x) for x in lines[5].strip().split(',')]\n",
    "\n",
    "computer = Computer(reg_a, reg_b, reg_c)\n",
    "computer.execute(program)\n",
    "\n",
    "with open('day17_result.txt', 'w') as f:\n",
    "    f.write(','.join(map(str, computer.output)))"
   ]
  }
 ],
 "metadata": {
  "language_info": {
   "codemirror_mode": {
    "name": "ipython",
    "version": 3
   },
   "file_extension": ".py",
   "mimetype": "text/x-python",
   "name": "python",
   "nbconvert_exporter": "python",
   "pygments_lexer": "ipython3",
   "version": "3.12.8"
  }
 },
 "nbformat": 4,
 "nbformat_minor": 4
}