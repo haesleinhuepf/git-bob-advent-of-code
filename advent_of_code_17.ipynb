{
 "cells": [
  {
   "cell_type": "markdown",
   "metadata": {},
   "source": [
    "# Advent of Code Day 17: Chronospatial Computer\n",
    "Implementation of a 3-bit computer simulator with registers and instructions."
   ]
  },
  {
   "cell_type": "code",
   "execution_count": 1,
   "metadata": {
    "execution": {
     "iopub.execute_input": "2024-12-30T13:12:33.631821Z",
     "iopub.status.busy": "2024-12-30T13:12:33.631643Z",
     "iopub.status.idle": "2024-12-30T13:12:33.638982Z",
     "shell.execute_reply": "2024-12-30T13:12:33.638396Z"
    }
   },
   "outputs": [],
   "source": [
    "class Computer:\n",
    "    def __init__(self, reg_a=0, reg_b=0, reg_c=0):\n",
    "        self.registers = {'A': reg_a, 'B': reg_b, 'C': reg_c}\n",
    "        self.output = []\n",
    "        \n",
    "    def get_combo_value(self, operand):\n",
    "        if operand <= 3:\n",
    "            return operand\n",
    "        elif operand == 4:\n",
    "            return self.registers['A']\n",
    "        elif operand == 5:\n",
    "            return self.registers['B']\n",
    "        elif operand == 6:\n",
    "            return self.registers['C']\n",
    "        return None\n",
    "    \n",
    "    def execute(self, program):\n",
    "        ip = 0\n",
    "        while ip < len(program):\n",
    "            opcode = program[ip]\n",
    "            operand = program[ip + 1] if ip + 1 < len(program) else 0\n",
    "            \n",
    "            if opcode == 0:  # adv\n",
    "                self.registers['A'] //= (2 ** self.get_combo_value(operand))\n",
    "            elif opcode == 1:  # bxl\n",
    "                self.registers['B'] ^= operand\n",
    "            elif opcode == 2:  # bst\n",
    "                self.registers['B'] = self.get_combo_value(operand) % 8\n",
    "            elif opcode == 3:  # jnz\n",
    "                if self.registers['A'] != 0:\n",
    "                    ip = operand\n",
    "                    continue\n",
    "            elif opcode == 4:  # bxc\n",
    "                self.registers['B'] ^= self.registers['C']\n",
    "            elif opcode == 5:  # out\n",
    "                self.output.append(self.get_combo_value(operand) % 8)\n",
    "            elif opcode == 6:  # bdv\n",
    "                self.registers['B'] = self.registers['A'] // (2 ** self.get_combo_value(operand))\n",
    "            elif opcode == 7:  # cdv\n",
    "                self.registers['C'] = self.registers['A'] // (2 ** self.get_combo_value(operand))\n",
    "                \n",
    "            ip += 2"
   ]
  },
  {
   "cell_type": "markdown",
   "metadata": {},
   "source": [
    "Read the program from the input file"
   ]
  },
  {
   "cell_type": "code",
   "execution_count": 2,
   "metadata": {
    "execution": {
     "iopub.execute_input": "2024-12-30T13:12:33.640823Z",
     "iopub.status.busy": "2024-12-30T13:12:33.640477Z",
     "iopub.status.idle": "2024-12-30T13:12:33.644315Z",
     "shell.execute_reply": "2024-12-30T13:12:33.643869Z"
    }
   },
   "outputs": [],
   "source": [
    "# Initialize default values in case file doesn't exist or is empty\n",
    "reg_a, reg_b, reg_c = 0, 0, 0\n",
    "program = []\n",
    "\n",
    "try:\n",
    "    with open('aoc17.txt', 'r') as f:\n",
    "        lines = f.readlines()\n",
    "        if len(lines) >= 3:\n",
    "            reg_a = int(lines[0].split(': ')[1])\n",
    "            reg_b = int(lines[1].split(': ')[1])\n",
    "            reg_c = int(lines[2].split(': ')[1])\n",
    "        if len(lines) >= 6:\n",
    "            program = [int(x) for x in lines[5].strip().split(',')]\n",
    "except FileNotFoundError:\n",
    "    print(\"Input file not found, using default values\")"
   ]
  },
  {
   "cell_type": "markdown",
   "metadata": {},
   "source": [
    "Run the program and get the output"
   ]
  },
  {
   "cell_type": "code",
   "execution_count": 3,
   "metadata": {
    "execution": {
     "iopub.execute_input": "2024-12-30T13:12:33.645864Z",
     "iopub.status.busy": "2024-12-30T13:12:33.645708Z",
     "iopub.status.idle": "2024-12-30T13:12:33.648637Z",
     "shell.execute_reply": "2024-12-30T13:12:33.648217Z"
    }
   },
   "outputs": [],
   "source": [
    "computer = Computer(reg_a, reg_b, reg_c)\n",
    "computer.execute(program)\n",
    "result = ','.join(map(str, computer.output))\n",
    "\n",
    "# Save result to file\n",
    "with open('day17_result.txt', 'w') as f:\n",
    "    f.write(result)"
   ]
  }
 ],
 "metadata": {
  "language_info": {
   "codemirror_mode": {
    "name": "ipython",
    "version": 3
   },
   "file_extension": ".py",
   "mimetype": "text/x-python",
   "name": "python",
   "nbconvert_exporter": "python",
   "pygments_lexer": "ipython3",
   "version": "3.12.8"
  }
 },
 "nbformat": 4,
 "nbformat_minor": 4
}
