{
 "cells": [
  {
   "cell_type": "markdown",
   "metadata": {},
   "source": [
    "# Chronospatial Computer\n",
    "3-bit computer simulator that executes instructions on registers A, B, C"
   ]
  },
  {
   "cell_type": "code",
   "execution_count": 1,
   "metadata": {
    "execution": {
     "iopub.execute_input": "2024-12-30T13:20:08.164777Z",
     "iopub.status.busy": "2024-12-30T13:20:08.164610Z",
     "iopub.status.idle": "2024-12-30T13:20:08.168653Z",
     "shell.execute_reply": "2024-12-30T13:20:08.168121Z"
    }
   },
   "outputs": [],
   "source": [
    "class Computer:\n",
    "    def __init__(self, reg_a=0, reg_b=0, reg_c=0):\n",
    "        self.registers = {'A': reg_a, 'B': reg_b, 'C': reg_c}\n",
    "        self.output = []\n",
    "        \n",
    "    def get_combo_value(self, operand):\n",
    "        if 0 <= operand <= 3:\n",
    "            return operand\n",
    "        return self.registers['ABC'[operand-4]] if 4 <= operand <= 6 else None"
   ]
  },
  {
   "cell_type": "markdown",
   "metadata": {},
   "source": [
    "Implement all instruction operations"
   ]
  },
  {
   "cell_type": "code",
   "execution_count": 2,
   "metadata": {
    "execution": {
     "iopub.execute_input": "2024-12-30T13:20:08.170582Z",
     "iopub.status.busy": "2024-12-30T13:20:08.170269Z",
     "iopub.status.idle": "2024-12-30T13:20:08.175694Z",
     "shell.execute_reply": "2024-12-30T13:20:08.175129Z"
    }
   },
   "outputs": [],
   "source": [
    "def execute(self, program):\n",
    "    ip = 0\n",
    "    while ip < len(program):\n",
    "        opcode = program[ip]\n",
    "        operand = program[ip + 1] if ip + 1 < len(program) else 0\n",
    "        \n",
    "        if opcode == 0:  # adv\n",
    "            self.registers['A'] //= (2 ** self.get_combo_value(operand))\n",
    "        elif opcode == 1:  # bxl\n",
    "            self.registers['B'] ^= operand\n",
    "        elif opcode == 2:  # bst\n",
    "            self.registers['B'] = self.get_combo_value(operand) % 8\n",
    "        elif opcode == 3:  # jnz\n",
    "            if self.registers['A'] != 0:\n",
    "                ip = operand\n",
    "                continue\n",
    "        elif opcode == 4:  # bxc\n",
    "            self.registers['B'] ^= self.registers['C']\n",
    "        elif opcode == 5:  # out\n",
    "            self.output.append(self.get_combo_value(operand) % 8)\n",
    "        elif opcode == 6:  # bdv\n",
    "            self.registers['B'] = self.registers['A'] // (2 ** self.get_combo_value(operand))\n",
    "        elif opcode == 7:  # cdv\n",
    "            self.registers['C'] = self.registers['A'] // (2 ** self.get_combo_value(operand))\n",
    "        ip += 2\n",
    "\n",
    "Computer.execute = execute"
   ]
  },
  {
   "cell_type": "markdown",
   "metadata": {},
   "source": [
    "Read input and run program"
   ]
  },
  {
   "cell_type": "code",
   "execution_count": 3,
   "metadata": {
    "execution": {
     "iopub.execute_input": "2024-12-30T13:20:08.177520Z",
     "iopub.status.busy": "2024-12-30T13:20:08.177098Z",
     "iopub.status.idle": "2024-12-30T13:20:08.181099Z",
     "shell.execute_reply": "2024-12-30T13:20:08.180646Z"
    }
   },
   "outputs": [],
   "source": [
    "# Sample input data\n",
    "program_data = \"\"\"A: 5\n",
    "B: 2\n",
    "C: 3\n",
    "\n",
    "Program:\n",
    "1,2,3,4,5,6\"\"\"\n",
    "\n",
    "lines = program_data.split('\\n')\n",
    "reg_a = int(lines[0].split(': ')[1])\n",
    "reg_b = int(lines[1].split(': ')[1])\n",
    "reg_c = int(lines[2].split(': ')[1])\n",
    "program = [int(x) for x in lines[5].split(',')]\n",
    "\n",
    "computer = Computer(reg_a, reg_b, reg_c)\n",
    "computer.execute(program)\n",
    "\n",
    "with open('day17_result.txt', 'w') as f:\n",
    "    f.write(','.join(map(str, computer.output)))"
   ]
  }
 ],
 "metadata": {
  "language_info": {
   "codemirror_mode": {
    "name": "ipython",
    "version": 3
   },
   "file_extension": ".py",
   "mimetype": "text/x-python",
   "name": "python",
   "nbconvert_exporter": "python",
   "pygments_lexer": "ipython3",
   "version": "3.12.8"
  }
 },
 "nbformat": 4,
 "nbformat_minor": 4
}
