{
 "cells": [
  {
   "cell_type": "markdown",
   "metadata": {},
   "source": [
    "# Advent of Code 14 - Part 2: Finding the Easter Egg Pattern\n",
    "First, we'll import required libraries and reuse our robot movement functions"
   ]
  },
  {
   "cell_type": "code",
   "execution_count": 1,
   "metadata": {
    "execution": {
     "iopub.execute_input": "2024-12-30T12:42:28.366884Z",
     "iopub.status.busy": "2024-12-30T12:42:28.366447Z",
     "iopub.status.idle": "2024-12-30T12:42:29.027623Z",
     "shell.execute_reply": "2024-12-30T12:42:29.027061Z"
    }
   },
   "outputs": [],
   "source": [
    "import numpy as np\n",
    "from collections import defaultdict\n",
    "import matplotlib.pyplot as plt"
   ]
  },
  {
   "cell_type": "markdown",
   "metadata": {},
   "source": [
    "Parse input data and define simulation functions"
   ]
  },
  {
   "cell_type": "code",
   "execution_count": 2,
   "metadata": {
    "execution": {
     "iopub.execute_input": "2024-12-30T12:42:29.029951Z",
     "iopub.status.busy": "2024-12-30T12:42:29.029548Z",
     "iopub.status.idle": "2024-12-30T12:42:29.034175Z",
     "shell.execute_reply": "2024-12-30T12:42:29.033686Z"
    }
   },
   "outputs": [],
   "source": [
    "def parse_input(filename):\n",
    "    robots = []\n",
    "    with open(filename, 'r') as f:\n",
    "        for line in f:\n",
    "            p, v = line.strip().split(' ')\n",
    "            px, py = map(int, p[2:].split(','))\n",
    "            vx, vy = map(int, v[2:].split(','))\n",
    "            robots.append(((px, py), (vx, vy)))\n",
    "    return robots\n",
    "\n",
    "def simulate_step(robots, width=101, height=103):\n",
    "    new_positions = []\n",
    "    for (px, py), (vx, vy) in robots:\n",
    "        new_x = (px + vx) % width\n",
    "        new_y = (py + vy) % height\n",
    "        new_positions.append(((new_x, new_y), (vx, vy)))\n",
    "    return new_positions"
   ]
  },
  {
   "cell_type": "markdown",
   "metadata": {},
   "source": [
    "Function to detect Christmas tree pattern in robot positions"
   ]
  },
  {
   "cell_type": "code",
   "execution_count": 3,
   "metadata": {
    "execution": {
     "iopub.execute_input": "2024-12-30T12:42:29.036114Z",
     "iopub.status.busy": "2024-12-30T12:42:29.035679Z",
     "iopub.status.idle": "2024-12-30T12:42:29.039766Z",
     "shell.execute_reply": "2024-12-30T12:42:29.039191Z"
    }
   },
   "outputs": [],
   "source": [
    "def detect_christmas_tree(robots):\n",
    "    positions = defaultdict(int)\n",
    "    for pos, _ in robots:\n",
    "        positions[pos] += 1\n",
    "    \n",
    "    # Create density map\n",
    "    density = np.zeros((103, 101))\n",
    "    for (x, y), count in positions.items():\n",
    "        density[y, x] = count\n",
    "    \n",
    "    # Save visualization\n",
    "    plt.figure(figsize=(10, 10))\n",
    "    plt.imshow(density, cmap='hot')\n",
    "    plt.colorbar()\n",
    "    plt.savefig(f'robot_positions.png')\n",
    "    plt.close()\n",
    "    \n",
    "    # Check if pattern resembles a Christmas tree\n",
    "    # Simple heuristic: check if robots form a triangular shape\n",
    "    center_density = density[40:60, 40:60].sum()\n",
    "    return center_density > len(robots) * 0.8"
   ]
  },
  {
   "cell_type": "markdown",
   "metadata": {},
   "source": [
    "Search for the Easter egg pattern"
   ]
  },
  {
   "cell_type": "code",
   "execution_count": 4,
   "metadata": {
    "execution": {
     "iopub.execute_input": "2024-12-30T12:42:29.041500Z",
     "iopub.status.busy": "2024-12-30T12:42:29.041165Z",
     "iopub.status.idle": "2024-12-30T12:45:04.742436Z",
     "shell.execute_reply": "2024-12-30T12:45:04.741848Z"
    }
   },
   "outputs": [],
   "source": [
    "robots = parse_input('aoc14.txt')\n",
    "max_steps = 1000\n",
    "\n",
    "for step in range(max_steps):\n",
    "    if detect_christmas_tree(robots):\n",
    "        with open('part2_result.txt', 'w') as f:\n",
    "            f.write(f\"Easter egg pattern found after {step} seconds\")\n",
    "        break\n",
    "    robots = simulate_step(robots)"
   ]
  }
 ],
 "metadata": {
  "language_info": {
   "codemirror_mode": {
    "name": "ipython",
    "version": 3
   },
   "file_extension": ".py",
   "mimetype": "text/x-python",
   "name": "python",
   "nbconvert_exporter": "python",
   "pygments_lexer": "ipython3",
   "version": "3.12.8"
  }
 },
 "nbformat": 4,
 "nbformat_minor": 2
}
