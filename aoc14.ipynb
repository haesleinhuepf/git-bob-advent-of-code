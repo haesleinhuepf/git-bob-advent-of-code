{
 "cells": [
  {
   "cell_type": "markdown",
   "metadata": {},
   "source": [
    "# Advent of Code Day 14: Finding Robot Pattern\n",
    "First, let's import required libraries and read the input data"
   ]
  },
  {
   "cell_type": "code",
   "execution_count": 1,
   "metadata": {
    "execution": {
     "iopub.execute_input": "2024-12-30T12:54:43.106233Z",
     "iopub.status.busy": "2024-12-30T12:54:43.106052Z",
     "iopub.status.idle": "2024-12-30T12:54:43.158763Z",
     "shell.execute_reply": "2024-12-30T12:54:43.158240Z"
    }
   },
   "outputs": [],
   "source": [
    "import numpy as np\n",
    "from collections import defaultdict"
   ]
  },
  {
   "cell_type": "markdown",
   "metadata": {},
   "source": [
    "Parse input file containing robot positions and velocities"
   ]
  },
  {
   "cell_type": "code",
   "execution_count": 2,
   "metadata": {
    "execution": {
     "iopub.execute_input": "2024-12-30T12:54:43.161302Z",
     "iopub.status.busy": "2024-12-30T12:54:43.161057Z",
     "iopub.status.idle": "2024-12-30T12:54:43.165791Z",
     "shell.execute_reply": "2024-12-30T12:54:43.165291Z"
    }
   },
   "outputs": [],
   "source": [
    "def parse_input(filename):\n",
    "    robots = []\n",
    "    with open(filename, 'r') as f:\n",
    "        for line in f:\n",
    "            pos, vel = line.strip().split()\n",
    "            px, py = map(int, pos[2:].split(','))\n",
    "            vx, vy = map(int, vel[2:].split(','))\n",
    "            robots.append(((px, py), (vx, vy)))\n",
    "    return robots"
   ]
  },
  {
   "cell_type": "markdown",
   "metadata": {},
   "source": [
    "Function to find pattern period in robot movements"
   ]
  },
  {
   "cell_type": "code",
   "execution_count": 3,
   "metadata": {
    "execution": {
     "iopub.execute_input": "2024-12-30T12:54:43.168785Z",
     "iopub.status.busy": "2024-12-30T12:54:43.167773Z",
     "iopub.status.idle": "2024-12-30T12:54:43.173709Z",
     "shell.execute_reply": "2024-12-30T12:54:43.173189Z"
    }
   },
   "outputs": [],
   "source": [
    "def find_pattern(robots, width=101, height=103):\n",
    "    seen = {}\n",
    "    current = robots.copy()\n",
    "    step = 0\n",
    "\n",
    "    while step < 1000:  # Reduced maximum steps to find earlier patterns\n",
    "        # Create hashable state\n",
    "        positions = [pos for pos, _ in current]\n",
    "        state = tuple(sorted((x % width, y % height) for x, y in positions))\n",
    "        \n",
    "        if state in seen:\n",
    "            return seen[state]  # Return the first occurrence\n",
    "        \n",
    "        seen[state] = step\n",
    "        \n",
    "        # Update positions\n",
    "        new_positions = []\n",
    "        for (x, y), (vx, vy) in current:\n",
    "            new_x = (x + vx) % width\n",
    "            new_y = (y + vy) % height\n",
    "            new_positions.append(((new_x, new_y), (vx, vy)))\n",
    "        current = new_positions\n",
    "        step += 1\n",
    "    \n",
    "    return None"
   ]
  },
  {
   "cell_type": "markdown",
   "metadata": {},
   "source": [
    "Run the pattern detection and save results"
   ]
  },
  {
   "cell_type": "code",
   "execution_count": 4,
   "metadata": {
    "execution": {
     "iopub.execute_input": "2024-12-30T12:54:43.177731Z",
     "iopub.status.busy": "2024-12-30T12:54:43.175881Z",
     "iopub.status.idle": "2024-12-30T12:54:43.628606Z",
     "shell.execute_reply": "2024-12-30T12:54:43.628029Z"
    }
   },
   "outputs": [],
   "source": [
    "robots = parse_input('aoc14.txt')\n",
    "pattern_time = find_pattern(robots)\n",
    "\n",
    "with open('pattern_time.txt', 'w') as f:\n",
    "    f.write(f\"{pattern_time if pattern_time is not None else 'No pattern found'}\")"
   ]
  }
 ],
 "metadata": {
  "language_info": {
   "codemirror_mode": {
    "name": "ipython",
    "version": 3
   },
   "file_extension": ".py",
   "mimetype": "text/x-python",
   "name": "python",
   "nbconvert_exporter": "python",
   "pygments_lexer": "ipython3",
   "version": "3.12.8"
  }
 },
 "nbformat": 4,
 "nbformat_minor": 2
}
