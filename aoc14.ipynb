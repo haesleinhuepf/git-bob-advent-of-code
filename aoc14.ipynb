{
 "cells": [
  {
   "cell_type": "markdown",
   "metadata": {},
   "source": [
    "# Advent of Code 14: Robot Movement Prediction\n",
    "First, let's read and parse the input data"
   ]
  },
  {
   "cell_type": "code",
   "execution_count": 1,
   "metadata": {
    "execution": {
     "iopub.execute_input": "2024-12-30T12:40:19.244804Z",
     "iopub.status.busy": "2024-12-30T12:40:19.244625Z",
     "iopub.status.idle": "2024-12-30T12:40:19.298321Z",
     "shell.execute_reply": "2024-12-30T12:40:19.297819Z"
    }
   },
   "outputs": [],
   "source": [
    "import numpy as np\n",
    "\n",
    "def parse_input(filename):\n",
    "    robots = []\n",
    "    with open(filename, 'r') as f:\n",
    "        for line in f:\n",
    "            p, v = line.strip().split(' ')\n",
    "            px, py = map(int, p[2:].split(','))\n",
    "            vx, vy = map(int, v[2:].split(','))\n",
    "            robots.append(((px, py), (vx, vy)))\n",
    "    return robots"
   ]
  },
  {
   "cell_type": "markdown",
   "metadata": {},
   "source": [
    "Function to simulate robot movement with wrapping"
   ]
  },
  {
   "cell_type": "code",
   "execution_count": 2,
   "metadata": {
    "execution": {
     "iopub.execute_input": "2024-12-30T12:40:19.300762Z",
     "iopub.status.busy": "2024-12-30T12:40:19.300522Z",
     "iopub.status.idle": "2024-12-30T12:40:19.304917Z",
     "shell.execute_reply": "2024-12-30T12:40:19.304402Z"
    }
   },
   "outputs": [],
   "source": [
    "def simulate_step(robots, width=101, height=103):\n",
    "    new_positions = []\n",
    "    for (px, py), (vx, vy) in robots:\n",
    "        new_x = (px + vx) % width\n",
    "        new_y = (py + vy) % height\n",
    "        new_positions.append(((new_x, new_y), (vx, vy)))\n",
    "    return new_positions"
   ]
  },
  {
   "cell_type": "markdown",
   "metadata": {},
   "source": [
    "Function to count robots in quadrants"
   ]
  },
  {
   "cell_type": "code",
   "execution_count": 3,
   "metadata": {
    "execution": {
     "iopub.execute_input": "2024-12-30T12:40:19.307563Z",
     "iopub.status.busy": "2024-12-30T12:40:19.307168Z",
     "iopub.status.idle": "2024-12-30T12:40:19.311907Z",
     "shell.execute_reply": "2024-12-30T12:40:19.311441Z"
    }
   },
   "outputs": [],
   "source": [
    "def count_quadrants(robots, width=101, height=103):\n",
    "    mid_x = width // 2\n",
    "    mid_y = height // 2\n",
    "    quadrants = [0] * 4\n",
    "    \n",
    "    for (x, y), _ in robots:\n",
    "        if x == mid_x or y == mid_y:\n",
    "            continue\n",
    "        if x < mid_x:\n",
    "            if y < mid_y:\n",
    "                quadrants[0] += 1\n",
    "            else:\n",
    "                quadrants[2] += 1\n",
    "        else:\n",
    "            if y < mid_y:\n",
    "                quadrants[1] += 1\n",
    "            else:\n",
    "                quadrants[3] += 1\n",
    "    return quadrants"
   ]
  },
  {
   "cell_type": "markdown",
   "metadata": {},
   "source": [
    "Simulate 100 seconds and calculate safety factor"
   ]
  },
  {
   "cell_type": "code",
   "execution_count": 4,
   "metadata": {
    "execution": {
     "iopub.execute_input": "2024-12-30T12:40:19.314118Z",
     "iopub.status.busy": "2024-12-30T12:40:19.313900Z",
     "iopub.status.idle": "2024-12-30T12:40:19.333992Z",
     "shell.execute_reply": "2024-12-30T12:40:19.333508Z"
    }
   },
   "outputs": [],
   "source": [
    "robots = parse_input('aoc14.txt')\n",
    "\n",
    "for _ in range(100):\n",
    "    robots = simulate_step(robots)\n",
    "\n",
    "quadrant_counts = count_quadrants(robots)\n",
    "safety_factor = np.prod(quadrant_counts)\n",
    "\n",
    "with open('result.txt', 'w') as f:\n",
    "    f.write(f\"Safety factor after 100 seconds: {safety_factor}\")"
   ]
  }
 ],
 "metadata": {
  "language_info": {
   "codemirror_mode": {
    "name": "ipython",
    "version": 3
   },
   "file_extension": ".py",
   "mimetype": "text/x-python",
   "name": "python",
   "nbconvert_exporter": "python",
   "pygments_lexer": "ipython3",
   "version": "3.12.8"
  }
 },
 "nbformat": 4,
 "nbformat_minor": 2
}
