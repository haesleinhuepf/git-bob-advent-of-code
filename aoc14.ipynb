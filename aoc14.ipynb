{
 "cells": [
  {
   "cell_type": "markdown",
   "metadata": {},
   "source": [
    "# Advent of Code Day 14: Finding Robot Pattern\n",
    "First, let's import required libraries and read the input data"
   ]
  },
  {
   "cell_type": "code",
   "execution_count": 1,
   "metadata": {
    "execution": {
     "iopub.execute_input": "2024-12-30T12:54:18.399248Z",
     "iopub.status.busy": "2024-12-30T12:54:18.399056Z",
     "iopub.status.idle": "2024-12-30T12:54:18.452567Z",
     "shell.execute_reply": "2024-12-30T12:54:18.452047Z"
    }
   },
   "outputs": [],
   "source": [
    "import numpy as np\n",
    "from collections import defaultdict"
   ]
  },
  {
   "cell_type": "markdown",
   "metadata": {},
   "source": [
    "Parse input file containing robot positions and velocities"
   ]
  },
  {
   "cell_type": "code",
   "execution_count": 2,
   "metadata": {
    "execution": {
     "iopub.execute_input": "2024-12-30T12:54:18.455343Z",
     "iopub.status.busy": "2024-12-30T12:54:18.455088Z",
     "iopub.status.idle": "2024-12-30T12:54:18.459970Z",
     "shell.execute_reply": "2024-12-30T12:54:18.459453Z"
    }
   },
   "outputs": [],
   "source": [
    "def parse_input(filename):\n",
    "    robots = []\n",
    "    with open(filename, 'r') as f:\n",
    "        for line in f:\n",
    "            pos, vel = line.strip().split()\n",
    "            px, py = map(int, pos[2:].split(','))\n",
    "            vx, vy = map(int, vel[2:].split(','))\n",
    "            robots.append(((px, py), (vx, vy)))\n",
    "    return robots"
   ]
  },
  {
   "cell_type": "markdown",
   "metadata": {},
   "source": [
    "Function to find pattern period in robot movements"
   ]
  },
  {
   "cell_type": "code",
   "execution_count": 3,
   "metadata": {
    "execution": {
     "iopub.execute_input": "2024-12-30T12:54:18.462978Z",
     "iopub.status.busy": "2024-12-30T12:54:18.462186Z",
     "iopub.status.idle": "2024-12-30T12:54:18.467607Z",
     "shell.execute_reply": "2024-12-30T12:54:18.467111Z"
    }
   },
   "outputs": [],
   "source": [
    "def find_pattern(robots, width=101, height=103):\n",
    "    seen = {}\n",
    "    current = robots.copy()\n",
    "    step = 0\n",
    "\n",
    "    while step < 10000:\n",
    "        # Create hashable state\n",
    "        state = tuple(sorted(pos for pos, _ in current))\n",
    "        \n",
    "        if state in seen:\n",
    "            return step - seen[state], seen[state]\n",
    "        \n",
    "        seen[state] = step\n",
    "        \n",
    "        # Update positions\n",
    "        new_positions = []\n",
    "        for (x, y), (vx, vy) in current:\n",
    "            new_x = (x + vx) % width\n",
    "            new_y = (y + vy) % height\n",
    "            new_positions.append(((new_x, new_y), (vx, vy)))\n",
    "        current = new_positions\n",
    "        step += 1\n",
    "    \n",
    "    return None, None"
   ]
  },
  {
   "cell_type": "markdown",
   "metadata": {},
   "source": [
    "Run the pattern detection and save results"
   ]
  },
  {
   "cell_type": "code",
   "execution_count": 4,
   "metadata": {
    "execution": {
     "iopub.execute_input": "2024-12-30T12:54:18.469897Z",
     "iopub.status.busy": "2024-12-30T12:54:18.469708Z",
     "iopub.status.idle": "2024-12-30T12:54:22.203051Z",
     "shell.execute_reply": "2024-12-30T12:54:22.202427Z"
    }
   },
   "outputs": [],
   "source": [
    "robots = parse_input('aoc14.txt')\n",
    "period, start = find_pattern(robots)\n",
    "\n",
    "with open('pattern_time.txt', 'w') as f:\n",
    "    f.write(f\"{period if period else 'No pattern found'}\")"
   ]
  }
 ],
 "metadata": {
  "language_info": {
   "codemirror_mode": {
    "name": "ipython",
    "version": 3
   },
   "file_extension": ".py",
   "mimetype": "text/x-python",
   "name": "python",
   "nbconvert_exporter": "python",
   "pygments_lexer": "ipython3",
   "version": "3.12.8"
  }
 },
 "nbformat": 4,
 "nbformat_minor": 2
}
