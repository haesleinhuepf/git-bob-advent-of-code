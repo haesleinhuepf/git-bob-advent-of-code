{
 "cells": [
  {
   "cell_type": "markdown",
   "metadata": {},
   "source": [
    "# Advent of Code 14 - Part 2: Finding Robot Pattern\n",
    "Import required libraries"
   ]
  },
  {
   "cell_type": "code",
   "execution_count": 1,
   "metadata": {
    "execution": {
     "iopub.execute_input": "2024-12-30T12:49:12.188738Z",
     "iopub.status.busy": "2024-12-30T12:49:12.188560Z",
     "iopub.status.idle": "2024-12-30T12:49:15.837758Z",
     "shell.execute_reply": "2024-12-30T12:49:15.837234Z"
    }
   },
   "outputs": [],
   "source": [
    "import numpy as np\n",
    "from collections import defaultdict\n",
    "import matplotlib.pyplot as plt"
   ]
  },
  {
   "cell_type": "markdown",
   "metadata": {},
   "source": [
    "Functions for parsing input and simulating robot movement"
   ]
  },
  {
   "cell_type": "code",
   "execution_count": 2,
   "metadata": {
    "execution": {
     "iopub.execute_input": "2024-12-30T12:49:15.839827Z",
     "iopub.status.busy": "2024-12-30T12:49:15.839598Z",
     "iopub.status.idle": "2024-12-30T12:49:15.843952Z",
     "shell.execute_reply": "2024-12-30T12:49:15.843484Z"
    }
   },
   "outputs": [],
   "source": [
    "def parse_input(filename):\n",
    "    robots = []\n",
    "    with open(filename, 'r') as f:\n",
    "        for line in f:\n",
    "            p, v = line.strip().split(' ')\n",
    "            px, py = map(int, p[2:].split(','))\n",
    "            vx, vy = map(int, v[2:].split(','))\n",
    "            robots.append(((px, py), (vx, vy)))\n",
    "    return robots\n",
    "\n",
    "def simulate_step(robots, width=101, height=103):\n",
    "    new_positions = []\n",
    "    for (px, py), (vx, vy) in robots:\n",
    "        new_x = (px + vx) % width\n",
    "        new_y = (py + vy) % height\n",
    "        new_positions.append(((new_x, new_y), (vx, vy)))\n",
    "    return new_positions"
   ]
  },
  {
   "cell_type": "markdown",
   "metadata": {},
   "source": [
    "Function to calculate robot density and detect pattern period"
   ]
  },
  {
   "cell_type": "code",
   "execution_count": 3,
   "metadata": {
    "execution": {
     "iopub.execute_input": "2024-12-30T12:49:15.845694Z",
     "iopub.status.busy": "2024-12-30T12:49:15.845343Z",
     "iopub.status.idle": "2024-12-30T12:49:15.849418Z",
     "shell.execute_reply": "2024-12-30T12:49:15.848961Z"
    }
   },
   "outputs": [],
   "source": [
    "def get_density_map(robots):\n",
    "    density = np.zeros((103, 101), dtype=int)\n",
    "    for pos, _ in robots:\n",
    "        density[pos[1], pos[0]] += 1\n",
    "    return density\n",
    "\n",
    "def find_pattern_period(robots):\n",
    "    seen_states = {}\n",
    "    current_robots = robots.copy()\n",
    "    \n",
    "    for step in range(100000):\n",
    "        # Convert positions to hashable format\n",
    "        state = tuple(sorted(pos for pos, _ in current_robots))\n",
    "        \n",
    "        if state in seen_states:\n",
    "            period = step - seen_states[state]\n",
    "            return period, seen_states[state]\n",
    "            \n",
    "        seen_states[state] = step\n",
    "        current_robots = simulate_step(current_robots)\n",
    "    \n",
    "    return None, None"
   ]
  },
  {
   "cell_type": "markdown",
   "metadata": {},
   "source": [
    "Find the pattern period and save result"
   ]
  },
  {
   "cell_type": "code",
   "execution_count": 4,
   "metadata": {
    "execution": {
     "iopub.execute_input": "2024-12-30T12:49:15.851001Z",
     "iopub.status.busy": "2024-12-30T12:49:15.850831Z",
     "iopub.status.idle": "2024-12-30T12:49:19.890521Z",
     "shell.execute_reply": "2024-12-30T12:49:19.889968Z"
    }
   },
   "outputs": [],
   "source": [
    "robots = parse_input('aoc14.txt')\n",
    "period, start = find_pattern_period(robots)\n",
    "\n",
    "with open('pattern_result.txt', 'w') as f:\n",
    "    f.write(f\"Pattern starts repeating after {start} seconds with period {period}\")\n",
    "\n",
    "# Visualize the pattern at the starting point\n",
    "current_robots = robots\n",
    "for _ in range(start):\n",
    "    current_robots = simulate_step(current_robots)\n",
    "\n",
    "density = get_density_map(current_robots)\n",
    "plt.figure(figsize=(10, 10))\n",
    "plt.imshow(density, cmap='hot')\n",
    "plt.colorbar()\n",
    "plt.savefig('robot_pattern.png')\n",
    "plt.close()"
   ]
  }
 ],
 "metadata": {
  "language_info": {
   "codemirror_mode": {
    "name": "ipython",
    "version": 3
   },
   "file_extension": ".py",
   "mimetype": "text/x-python",
   "name": "python",
   "nbconvert_exporter": "python",
   "pygments_lexer": "ipython3",
   "version": "3.12.8"
  }
 },
 "nbformat": 4,
 "nbformat_minor": 2
}
