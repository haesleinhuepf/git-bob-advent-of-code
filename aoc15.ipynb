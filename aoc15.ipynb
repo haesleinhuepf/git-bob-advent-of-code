{
 "cells": [
  {
   "cell_type": "markdown",
   "metadata": {},
   "source": [
    "# Advent of Code Day 15: Warehouse Woes\n",
    "First, let's read and parse the input file"
   ]
  },
  {
   "cell_type": "code",
   "execution_count": 1,
   "metadata": {
    "execution": {
     "iopub.execute_input": "2024-12-30T12:56:57.237656Z",
     "iopub.status.busy": "2024-12-30T12:56:57.237477Z",
     "iopub.status.idle": "2024-12-30T12:56:57.241865Z",
     "shell.execute_reply": "2024-12-30T12:56:57.241313Z"
    }
   },
   "outputs": [],
   "source": [
    "def read_input(filename):\n",
    "    with open(filename, 'r') as f:\n",
    "        content = f.read().strip().split('\\n\\n')\n",
    "    grid = [list(line) for line in content[0].splitlines()]\n",
    "    moves = ''.join(content[1].splitlines())\n",
    "    return grid, moves\n",
    "\n",
    "grid, moves = read_input('aoc15.txt')"
   ]
  },
  {
   "cell_type": "markdown",
   "metadata": {},
   "source": [
    "Implement movement logic - tracks robot position and handles box pushing"
   ]
  },
  {
   "cell_type": "code",
   "execution_count": 2,
   "metadata": {
    "execution": {
     "iopub.execute_input": "2024-12-30T12:56:57.243898Z",
     "iopub.status.busy": "2024-12-30T12:56:57.243694Z",
     "iopub.status.idle": "2024-12-30T12:56:57.249147Z",
     "shell.execute_reply": "2024-12-30T12:56:57.248584Z"
    }
   },
   "outputs": [],
   "source": [
    "def find_robot(grid):\n",
    "    for y in range(len(grid)):\n",
    "        for x in range(len(grid[0])):\n",
    "            if grid[y][x] == '@':\n",
    "                return y, x\n",
    "\n",
    "def can_move(grid, y, x, new_y, new_x, box_y=None, box_x=None):\n",
    "    if not (0 <= new_y < len(grid) and 0 <= new_x < len(grid[0])):\n",
    "        return False\n",
    "    if grid[new_y][new_x] == '#':\n",
    "        return False\n",
    "    if grid[new_y][new_x] == 'O':\n",
    "        if box_y is None or not (0 <= box_y < len(grid) and 0 <= box_x < len(grid[0])):\n",
    "            return False\n",
    "        if grid[box_y][box_x] != '.':\n",
    "            return False\n",
    "    return True"
   ]
  },
  {
   "cell_type": "markdown",
   "metadata": {},
   "source": [
    "Implement main movement simulation"
   ]
  },
  {
   "cell_type": "code",
   "execution_count": 3,
   "metadata": {
    "execution": {
     "iopub.execute_input": "2024-12-30T12:56:57.251071Z",
     "iopub.status.busy": "2024-12-30T12:56:57.250632Z",
     "iopub.status.idle": "2024-12-30T12:56:57.254684Z",
     "shell.execute_reply": "2024-12-30T12:56:57.254124Z"
    }
   },
   "outputs": [],
   "source": [
    "def move(grid, direction):\n",
    "    dirs = {'^': (-1, 0), 'v': (1, 0), '<': (0, -1), '>': (0, 1)}\n",
    "    dy, dx = dirs[direction]\n",
    "    y, x = find_robot(grid)\n",
    "    new_y, new_x = y + dy, x + dx\n",
    "    \n",
    "    if not can_move(grid, y, x, new_y, new_x):\n",
    "        return grid\n",
    "        \n",
    "    if grid[new_y][new_x] == 'O':\n",
    "        box_y, box_x = new_y + dy, new_x + dx\n",
    "        if not can_move(grid, new_y, new_x, box_y, box_x):\n",
    "            return grid\n",
    "        grid[box_y][box_x] = 'O'\n",
    "        \n",
    "    grid[y][x] = '.'\n",
    "    grid[new_y][new_x] = '@'\n",
    "    return grid"
   ]
  },
  {
   "cell_type": "markdown",
   "metadata": {},
   "source": [
    "Calculate GPS coordinates and run simulation"
   ]
  },
  {
   "cell_type": "code",
   "execution_count": 4,
   "metadata": {
    "execution": {
     "iopub.execute_input": "2024-12-30T12:56:57.256417Z",
     "iopub.status.busy": "2024-12-30T12:56:57.256097Z",
     "iopub.status.idle": "2024-12-30T12:56:57.854266Z",
     "shell.execute_reply": "2024-12-30T12:56:57.853703Z"
    }
   },
   "outputs": [
    {
     "name": "stdout",
     "output_type": "stream",
     "text": [
      "Final GPS sum: 1432364\n"
     ]
    }
   ],
   "source": [
    "def calculate_gps(grid):\n",
    "    total = 0\n",
    "    for y in range(len(grid)):\n",
    "        for x in range(len(grid[0])):\n",
    "            if grid[y][x] == 'O':\n",
    "                total += 100 * y + x\n",
    "    return total\n",
    "\n",
    "# Run simulation\n",
    "for move_dir in moves:\n",
    "    grid = move(grid, move_dir)\n",
    "\n",
    "# Calculate final result\n",
    "result = calculate_gps(grid)\n",
    "\n",
    "# Save final state\n",
    "with open('final_state.txt', 'w') as f:\n",
    "    f.write('\\n'.join([''.join(row) for row in grid]))\n",
    "\n",
    "print(f\"Final GPS sum: {result}\")"
   ]
  }
 ],
 "metadata": {
  "language_info": {
   "codemirror_mode": {
    "name": "ipython",
    "version": 3
   },
   "file_extension": ".py",
   "mimetype": "text/x-python",
   "name": "python",
   "nbconvert_exporter": "python",
   "pygments_lexer": "ipython3",
   "version": "3.12.8"
  }
 },
 "nbformat": 4,
 "nbformat_minor": 2
}
