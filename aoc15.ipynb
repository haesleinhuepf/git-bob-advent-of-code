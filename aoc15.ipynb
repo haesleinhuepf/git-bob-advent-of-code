{
 "cells": [
  {
   "cell_type": "markdown",
   "metadata": {},
   "source": [
    "# Advent of Code - Day 15: Warehouse Woes\n",
    "Let's solve the warehouse robot movement puzzle step by step."
   ]
  },
  {
   "cell_type": "code",
   "execution_count": 1,
   "metadata": {
    "execution": {
     "iopub.execute_input": "2024-12-30T12:53:17.590908Z",
     "iopub.status.busy": "2024-12-30T12:53:17.590720Z",
     "iopub.status.idle": "2024-12-30T12:53:17.644694Z",
     "shell.execute_reply": "2024-12-30T12:53:17.644162Z"
    }
   },
   "outputs": [],
   "source": [
    "import numpy as np"
   ]
  },
  {
   "cell_type": "markdown",
   "metadata": {},
   "source": [
    "Read the input data from file"
   ]
  },
  {
   "cell_type": "code",
   "execution_count": 2,
   "metadata": {
    "execution": {
     "iopub.execute_input": "2024-12-30T12:53:17.647488Z",
     "iopub.status.busy": "2024-12-30T12:53:17.647234Z",
     "iopub.status.idle": "2024-12-30T12:53:17.652682Z",
     "shell.execute_reply": "2024-12-30T12:53:17.652184Z"
    }
   },
   "outputs": [],
   "source": [
    "def read_input(filename):\n",
    "    with open(filename, 'r') as f:\n",
    "        data = f.read().strip().split('\\n\\n')\n",
    "    grid = np.array([list(line) for line in data[0].split('\\n')])\n",
    "    moves = data[1].replace('\\n', '')\n",
    "    return grid, moves\n",
    "\n",
    "grid, moves = read_input('aoc15.txt')"
   ]
  },
  {
   "cell_type": "markdown",
   "metadata": {},
   "source": [
    "Implement the movement logic"
   ]
  },
  {
   "cell_type": "code",
   "execution_count": 3,
   "metadata": {
    "execution": {
     "iopub.execute_input": "2024-12-30T12:53:17.655721Z",
     "iopub.status.busy": "2024-12-30T12:53:17.654934Z",
     "iopub.status.idle": "2024-12-30T12:53:17.660492Z",
     "shell.execute_reply": "2024-12-30T12:53:17.660038Z"
    }
   },
   "outputs": [],
   "source": [
    "def make_move(grid, direction):\n",
    "    robot_pos = np.where(grid == '@')\n",
    "    y, x = robot_pos[0][0], robot_pos[1][0]\n",
    "    \n",
    "    dy = -1 if direction == '^' else 1 if direction == 'v' else 0\n",
    "    dx = -1 if direction == '<' else 1 if direction == '>' else 0\n",
    "    \n",
    "    new_y, new_x = y + dy, x + dx\n",
    "    \n",
    "    if grid[new_y, new_x] == '.':\n",
    "        grid[y, x] = '.'\n",
    "        grid[new_y, new_x] = '@'\n",
    "    elif grid[new_y, new_x] == 'O':\n",
    "        box_y, box_x = new_y + dy, new_x + dx\n",
    "        if grid[box_y, box_x] == '.':\n",
    "            grid[y, x] = '.'\n",
    "            grid[new_y, new_x] = '@'\n",
    "            grid[box_y, box_x] = 'O'\n",
    "    \n",
    "    return grid"
   ]
  },
  {
   "cell_type": "markdown",
   "metadata": {},
   "source": [
    "Calculate GPS coordinates"
   ]
  },
  {
   "cell_type": "code",
   "execution_count": 4,
   "metadata": {
    "execution": {
     "iopub.execute_input": "2024-12-30T12:53:17.662897Z",
     "iopub.status.busy": "2024-12-30T12:53:17.662710Z",
     "iopub.status.idle": "2024-12-30T12:53:17.666635Z",
     "shell.execute_reply": "2024-12-30T12:53:17.666151Z"
    }
   },
   "outputs": [],
   "source": [
    "def calculate_gps_sum(grid):\n",
    "    total = 0\n",
    "    box_positions = np.where(grid == 'O')\n",
    "    for y, x in zip(box_positions[0], box_positions[1]):\n",
    "        total += 100 * y + x\n",
    "    return total"
   ]
  },
  {
   "cell_type": "markdown",
   "metadata": {},
   "source": [
    "Simulate all moves and get the result"
   ]
  },
  {
   "cell_type": "code",
   "execution_count": 5,
   "metadata": {
    "execution": {
     "iopub.execute_input": "2024-12-30T12:53:17.669549Z",
     "iopub.status.busy": "2024-12-30T12:53:17.668785Z",
     "iopub.status.idle": "2024-12-30T12:53:17.951402Z",
     "shell.execute_reply": "2024-12-30T12:53:17.950756Z"
    }
   },
   "outputs": [
    {
     "name": "stdout",
     "output_type": "stream",
     "text": [
      "Sum of GPS coordinates: 1434152\n"
     ]
    }
   ],
   "source": [
    "grid_copy = grid.copy()\n",
    "for move in moves:\n",
    "    grid_copy = make_move(grid_copy, move)\n",
    "\n",
    "result = calculate_gps_sum(grid_copy)\n",
    "print(f\"Sum of GPS coordinates: {result}\")\n",
    "\n",
    "# Save final state\n",
    "np.savetxt('final_state.txt', grid_copy, fmt='%s')"
   ]
  }
 ],
 "metadata": {
  "language_info": {
   "codemirror_mode": {
    "name": "ipython",
    "version": 3
   },
   "file_extension": ".py",
   "mimetype": "text/x-python",
   "name": "python",
   "nbconvert_exporter": "python",
   "pygments_lexer": "ipython3",
   "version": "3.12.8"
  }
 },
 "nbformat": 4,
 "nbformat_minor": 2
}
