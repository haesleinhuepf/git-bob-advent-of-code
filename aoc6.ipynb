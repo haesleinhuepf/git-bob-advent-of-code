{
 "cells": [
  {
   "cell_type": "markdown",
   "metadata": {},
   "source": [
    "# Guard Movement Simulation\n",
    "First, let's read the input from the file and process it into a 2D grid"
   ]
  },
  {
   "cell_type": "code",
   "execution_count": 1,
   "metadata": {
    "execution": {
     "iopub.execute_input": "2024-12-07T20:19:57.433882Z",
     "iopub.status.busy": "2024-12-07T20:19:57.433700Z",
     "iopub.status.idle": "2024-12-07T20:19:57.438804Z",
     "shell.execute_reply": "2024-12-07T20:19:57.438248Z"
    }
   },
   "outputs": [],
   "source": [
    "def read_map(filename):\n",
    "    with open(filename, 'r') as f:\n",
    "        return [list(line.strip()) for line in f.readlines()]\n",
    "\n",
    "grid = read_map('aoc6.txt')\n",
    "height, width = len(grid), len(grid[0])"
   ]
  },
  {
   "cell_type": "markdown",
   "metadata": {},
   "source": [
    "Define the movement directions and find the guard's starting position"
   ]
  },
  {
   "cell_type": "code",
   "execution_count": 2,
   "metadata": {
    "execution": {
     "iopub.execute_input": "2024-12-07T20:19:57.440971Z",
     "iopub.status.busy": "2024-12-07T20:19:57.440521Z",
     "iopub.status.idle": "2024-12-07T20:19:57.444417Z",
     "shell.execute_reply": "2024-12-07T20:19:57.443934Z"
    }
   },
   "outputs": [],
   "source": [
    "# Directions: up, right, down, left\n",
    "directions = [(-1, 0), (0, 1), (1, 0), (0, -1)]\n",
    "\n",
    "def find_start():\n",
    "    for y in range(height):\n",
    "        for x in range(width):\n",
    "            if grid[y][x] == '^':\n",
    "                return y, x, 0  # y, x, direction (0 = up)\n",
    "\n",
    "pos = find_start()"
   ]
  },
  {
   "cell_type": "markdown",
   "metadata": {},
   "source": [
    "Simulate the guard's movement and track visited positions"
   ]
  },
  {
   "cell_type": "code",
   "execution_count": 3,
   "metadata": {
    "execution": {
     "iopub.execute_input": "2024-12-07T20:19:57.446202Z",
     "iopub.status.busy": "2024-12-07T20:19:57.445881Z",
     "iopub.status.idle": "2024-12-07T20:19:57.454922Z",
     "shell.execute_reply": "2024-12-07T20:19:57.454378Z"
    }
   },
   "outputs": [
    {
     "name": "stdout",
     "output_type": "stream",
     "text": [
      "The guard visited 4903 distinct positions.\n"
     ]
    }
   ],
   "source": [
    "def is_valid(y, x):\n",
    "    return 0 <= y < height and 0 <= x < width\n",
    "\n",
    "visited = set()\n",
    "y, x, dir_idx = pos\n",
    "visited.add((y, x))\n",
    "\n",
    "while True:\n",
    "    # Check next position\n",
    "    ny = y + directions[dir_idx][0]\n",
    "    nx = x + directions[dir_idx][1]\n",
    "    \n",
    "    # If out of bounds or obstacle, turn right\n",
    "    if not is_valid(ny, nx) or grid[ny][nx] == '#':\n",
    "        dir_idx = (dir_idx + 1) % 4\n",
    "        continue\n",
    "        \n",
    "    # Move forward\n",
    "    y, x = ny, nx\n",
    "    visited.add((y, x))\n",
    "    \n",
    "    # Check if guard left the area\n",
    "    if not is_valid(y + directions[dir_idx][0], x + directions[dir_idx][1]):\n",
    "        break\n",
    "\n",
    "result = len(visited)\n",
    "print(f\"The guard visited {result} distinct positions.\")"
   ]
  }
 ],
 "metadata": {
  "language_info": {
   "codemirror_mode": {
    "name": "ipython",
    "version": 3
   },
   "file_extension": ".py",
   "mimetype": "text/x-python",
   "name": "python",
   "nbconvert_exporter": "python",
   "pygments_lexer": "ipython3",
   "version": "3.12.7"
  }
 },
 "nbformat": 4,
 "nbformat_minor": 4
}
