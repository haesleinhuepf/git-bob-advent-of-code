{
 "cells": [
  {
   "cell_type": "markdown",
   "metadata": {},
   "source": [
    "# Guard Movement Simulation - Part 1 & 2\n",
    "First, let's read the input and set up basic functions"
   ]
  },
  {
   "cell_type": "code",
   "execution_count": 1,
   "metadata": {
    "execution": {
     "iopub.execute_input": "2024-12-07T20:22:59.841342Z",
     "iopub.status.busy": "2024-12-07T20:22:59.841151Z",
     "iopub.status.idle": "2024-12-07T20:22:59.846456Z",
     "shell.execute_reply": "2024-12-07T20:22:59.846028Z"
    }
   },
   "outputs": [],
   "source": [
    "def read_map(filename):\n",
    "    with open(filename, 'r') as f:\n",
    "        return [list(line.strip()) for line in f.readlines()]\n",
    "\n",
    "grid = read_map('aoc6.txt')\n",
    "height, width = len(grid), len(grid[0])\n",
    "directions = [(-1, 0), (0, 1), (1, 0), (0, -1)]  # up, right, down, left"
   ]
  },
  {
   "cell_type": "markdown",
   "metadata": {},
   "source": [
    "Helper functions for simulation"
   ]
  },
  {
   "cell_type": "code",
   "execution_count": 2,
   "metadata": {
    "execution": {
     "iopub.execute_input": "2024-12-07T20:22:59.848481Z",
     "iopub.status.busy": "2024-12-07T20:22:59.848075Z",
     "iopub.status.idle": "2024-12-07T20:22:59.854198Z",
     "shell.execute_reply": "2024-12-07T20:22:59.853739Z"
    }
   },
   "outputs": [],
   "source": [
    "def find_start(grid):\n",
    "    for y in range(len(grid)):\n",
    "        for x in range(len(grid[0])):\n",
    "            if grid[y][x] == '^':\n",
    "                return y, x, 0\n",
    "    return None\n",
    "\n",
    "def is_valid(y, x, height, width):\n",
    "    return 0 <= y < height and 0 <= x < width\n",
    "\n",
    "def simulate_path(grid, start_pos, block_pos=None):\n",
    "    height, width = len(grid), len(grid[0])\n",
    "    y, x, dir_idx = start_pos\n",
    "    visited = set([(y, x)])\n",
    "    path_length = 0\n",
    "    positions = set()\n",
    "    \n",
    "    while True:\n",
    "        path_length += 1\n",
    "        if path_length > height * width * 4:  # Loop detected\n",
    "            return visited, True\n",
    "            \n",
    "        ny = y + directions[dir_idx][0]\n",
    "        nx = x + directions[dir_idx][1]\n",
    "        \n",
    "        # Check if next position is blocked\n",
    "        is_blocked = not is_valid(ny, nx, height, width) or grid[ny][nx] == '#'\n",
    "        if block_pos and (ny, nx) == block_pos:\n",
    "            is_blocked = True\n",
    "            \n",
    "        if is_blocked:\n",
    "            dir_idx = (dir_idx + 1) % 4\n",
    "            continue\n",
    "            \n",
    "        y, x = ny, nx\n",
    "        visited.add((y, x))\n",
    "        \n",
    "        # Check if guard left the area\n",
    "        next_y = y + directions[dir_idx][0]\n",
    "        next_x = x + directions[dir_idx][1]\n",
    "        if not is_valid(next_y, next_x, height, width):\n",
    "            return visited, False\n",
    "    \n",
    "    return visited, False"
   ]
  },
  {
   "cell_type": "markdown",
   "metadata": {},
   "source": [
    "Part 1: Count visited positions"
   ]
  },
  {
   "cell_type": "code",
   "execution_count": 3,
   "metadata": {
    "execution": {
     "iopub.execute_input": "2024-12-07T20:22:59.855974Z",
     "iopub.status.busy": "2024-12-07T20:22:59.855651Z",
     "iopub.status.idle": "2024-12-07T20:22:59.862479Z",
     "shell.execute_reply": "2024-12-07T20:22:59.861885Z"
    }
   },
   "outputs": [
    {
     "name": "stdout",
     "output_type": "stream",
     "text": [
      "Part 1: The guard visited 4903 distinct positions.\n"
     ]
    }
   ],
   "source": [
    "start_pos = find_start(grid)\n",
    "visited, _ = simulate_path(grid, start_pos)\n",
    "print(f\"Part 1: The guard visited {len(visited)} distinct positions.\")"
   ]
  },
  {
   "cell_type": "markdown",
   "metadata": {},
   "source": [
    "Part 2: Find positions that create loops"
   ]
  },
  {
   "cell_type": "code",
   "execution_count": 4,
   "metadata": {
    "execution": {
     "iopub.execute_input": "2024-12-07T20:22:59.898073Z",
     "iopub.status.busy": "2024-12-07T20:22:59.897615Z",
     "iopub.status.idle": "2024-12-07T20:25:07.062409Z",
     "shell.execute_reply": "2024-12-07T20:25:07.061842Z"
    }
   },
   "outputs": [
    {
     "name": "stdout",
     "output_type": "stream",
     "text": [
      "Part 2: There are 1911 positions that create loops.\n"
     ]
    }
   ],
   "source": [
    "loop_positions = 0\n",
    "start_y, start_x, _ = start_pos\n",
    "\n",
    "for y in range(height):\n",
    "    for x in range(width):\n",
    "        if grid[y][x] == '.' and (y, x) != (start_y, start_x):\n",
    "            _, creates_loop = simulate_path(grid, start_pos, (y, x))\n",
    "            if creates_loop:\n",
    "                loop_positions += 1\n",
    "\n",
    "print(f\"Part 2: There are {loop_positions} positions that create loops.\")"
   ]
  }
 ],
 "metadata": {
  "language_info": {
   "codemirror_mode": {
    "name": "ipython",
    "version": 3
   },
   "file_extension": ".py",
   "mimetype": "text/x-python",
   "name": "python",
   "nbconvert_exporter": "python",
   "pygments_lexer": "ipython3",
   "version": "3.12.7"
  }
 },
 "nbformat": 4,
 "nbformat_minor": 4
}
