{
 "cells": [
  {
   "cell_type": "markdown",
   "metadata": {},
   "source": [
    "# Day 3: Mull It Over\n",
    "Process corrupted memory containing multiplication instructions"
   ]
  },
  {
   "cell_type": "code",
   "execution_count": 1,
   "metadata": {
    "execution": {
     "iopub.execute_input": "2024-12-07T19:41:50.967111Z",
     "iopub.status.busy": "2024-12-07T19:41:50.966923Z",
     "iopub.status.idle": "2024-12-07T19:41:50.970337Z",
     "shell.execute_reply": "2024-12-07T19:41:50.969808Z"
    }
   },
   "outputs": [],
   "source": [
    "import re"
   ]
  },
  {
   "cell_type": "markdown",
   "metadata": {},
   "source": [
    "Read the input data from file"
   ]
  },
  {
   "cell_type": "code",
   "execution_count": 2,
   "metadata": {
    "execution": {
     "iopub.execute_input": "2024-12-07T19:41:50.972426Z",
     "iopub.status.busy": "2024-12-07T19:41:50.971953Z",
     "iopub.status.idle": "2024-12-07T19:41:50.975213Z",
     "shell.execute_reply": "2024-12-07T19:41:50.974678Z"
    }
   },
   "outputs": [],
   "source": [
    "with open('aoc3.txt', 'r') as file:\n",
    "    data = file.read().strip()\n",
    "\n",
    "# Test data\n",
    "test_data = \"xmul(2,4)&mul[3,7]!^don't()_mul(5,5)+mul(32,64](mul(11,8)do()?mul(8,5))\""
   ]
  },
  {
   "cell_type": "markdown",
   "metadata": {},
   "source": [
    "Function to find valid multiplication patterns and handle do/don't states"
   ]
  },
  {
   "cell_type": "code",
   "execution_count": 3,
   "metadata": {
    "execution": {
     "iopub.execute_input": "2024-12-07T19:41:50.977191Z",
     "iopub.status.busy": "2024-12-07T19:41:50.976771Z",
     "iopub.status.idle": "2024-12-07T19:41:50.979702Z",
     "shell.execute_reply": "2024-12-07T19:41:50.979233Z"
    }
   },
   "outputs": [],
   "source": [
    "def find_all_positions(pattern, text):\n",
    "    return [(m.start(), m.end(), m.group()) for m in re.finditer(pattern, text)]"
   ]
  },
  {
   "cell_type": "markdown",
   "metadata": {},
   "source": [
    "Process the input and calculate results"
   ]
  },
  {
   "cell_type": "code",
   "execution_count": 4,
   "metadata": {
    "execution": {
     "iopub.execute_input": "2024-12-07T19:41:50.981328Z",
     "iopub.status.busy": "2024-12-07T19:41:50.981148Z",
     "iopub.status.idle": "2024-12-07T19:41:50.989277Z",
     "shell.execute_reply": "2024-12-07T19:41:50.988841Z"
    }
   },
   "outputs": [],
   "source": [
    "def process_memory(text):\n",
    "    # Find all control instructions and multiplications\n",
    "    mul_pattern = r'mul\\(([0-9]{1,3}),([0-9]{1,3})\\)'\n",
    "    do_pattern = r'do\\(\\)'\n",
    "    dont_pattern = r'don\\'t\\(\\)'\n",
    "    \n",
    "    # Get all positions sorted by occurrence\n",
    "    all_controls = ([(pos, 'do') for pos, _, _ in find_all_positions(do_pattern, text)] +\n",
    "                   [(pos, 'dont') for pos, _, _ in find_all_positions(dont_pattern, text)])\n",
    "    all_controls.sort()\n",
    "    \n",
    "    total = 0\n",
    "    enabled = True\n",
    "    \n",
    "    for start, end, match in find_all_positions(mul_pattern, text):\n",
    "        # Update enabled state based on previous controls\n",
    "        for control_pos, control_type in all_controls:\n",
    "            if control_pos < start:\n",
    "                enabled = (control_type == 'do')\n",
    "            else:\n",
    "                break\n",
    "                \n",
    "        if enabled:\n",
    "            numbers = re.search(mul_pattern, match)\n",
    "            if numbers:\n",
    "                x, y = map(int, numbers.groups())\n",
    "                total += x * y\n",
    "    \n",
    "    return total\n",
    "\n",
    "# Process and save results\n",
    "result = process_memory(data)\n",
    "with open('result_day3.txt', 'w') as f:\n",
    "    f.write(f'Sum of enabled multiplication results: {result}\\n')"
   ]
  }
 ],
 "metadata": {
  "language_info": {
   "codemirror_mode": {
    "name": "ipython",
    "version": 3
   },
   "file_extension": ".py",
   "mimetype": "text/x-python",
   "name": "python",
   "nbconvert_exporter": "python",
   "pygments_lexer": "ipython3",
   "version": "3.12.7"
  }
 },
 "nbformat": 4,
 "nbformat_minor": 4
}
