{
 "cells": [
  {
   "cell_type": "markdown",
   "metadata": {},
   "source": [
    "# Day 3: Mull It Over\n",
    "Let's process the corrupted memory and find valid multiplication instructions."
   ]
  },
  {
   "cell_type": "code",
   "execution_count": 1,
   "metadata": {
    "execution": {
     "iopub.execute_input": "2024-12-07T19:33:06.660795Z",
     "iopub.status.busy": "2024-12-07T19:33:06.660610Z",
     "iopub.status.idle": "2024-12-07T19:33:06.663998Z",
     "shell.execute_reply": "2024-12-07T19:33:06.663453Z"
    }
   },
   "outputs": [],
   "source": [
    "import re"
   ]
  },
  {
   "cell_type": "markdown",
   "metadata": {},
   "source": [
    "Read the input data"
   ]
  },
  {
   "cell_type": "code",
   "execution_count": 2,
   "metadata": {
    "execution": {
     "iopub.execute_input": "2024-12-07T19:33:06.665995Z",
     "iopub.status.busy": "2024-12-07T19:33:06.665667Z",
     "iopub.status.idle": "2024-12-07T19:33:06.668669Z",
     "shell.execute_reply": "2024-12-07T19:33:06.668142Z"
    }
   },
   "outputs": [],
   "source": [
    "with open('aoc3.txt', 'r') as file:\n",
    "    data = file.read().strip()"
   ]
  },
  {
   "cell_type": "markdown",
   "metadata": {},
   "source": [
    "Define regex pattern to find valid mul instructions and calculate result"
   ]
  },
  {
   "cell_type": "code",
   "execution_count": 3,
   "metadata": {
    "execution": {
     "iopub.execute_input": "2024-12-07T19:33:06.670588Z",
     "iopub.status.busy": "2024-12-07T19:33:06.670262Z",
     "iopub.status.idle": "2024-12-07T19:33:06.676083Z",
     "shell.execute_reply": "2024-12-07T19:33:06.675540Z"
    }
   },
   "outputs": [],
   "source": [
    "def process_memory(text):\n",
    "    # Pattern matches mul(X,Y) where X and Y are 1-3 digits\n",
    "    pattern = r'mul\\(([0-9]{1,3}),([0-9]{1,3})\\)'\n",
    "    matches = re.finditer(pattern, text)\n",
    "    \n",
    "    total = 0\n",
    "    for match in matches:\n",
    "        x, y = map(int, match.groups())\n",
    "        total += x * y\n",
    "    \n",
    "    return total\n",
    "\n",
    "result = process_memory(data)\n",
    "\n",
    "# Save result\n",
    "with open('result_day3.txt', 'w') as f:\n",
    "    f.write(f'Sum of all multiplication results: {result}')"
   ]
  }
 ],
 "metadata": {
  "language_info": {
   "codemirror_mode": {
    "name": "ipython",
    "version": 3
   },
   "file_extension": ".py",
   "mimetype": "text/x-python",
   "name": "python",
   "nbconvert_exporter": "python",
   "pygments_lexer": "ipython3",
   "version": "3.12.7"
  }
 },
 "nbformat": 4,
 "nbformat_minor": 4
}
