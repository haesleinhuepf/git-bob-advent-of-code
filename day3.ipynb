{
 "cells": [
  {
   "cell_type": "markdown",
   "metadata": {},
   "source": [
    "# Day 3: Mull It Over - Part 2\n",
    "Process corrupted memory with do() and don't() instructions affecting mul operations."
   ]
  },
  {
   "cell_type": "code",
   "execution_count": 1,
   "metadata": {
    "execution": {
     "iopub.execute_input": "2024-12-07T19:36:09.399791Z",
     "iopub.status.busy": "2024-12-07T19:36:09.399347Z",
     "iopub.status.idle": "2024-12-07T19:36:09.402741Z",
     "shell.execute_reply": "2024-12-07T19:36:09.402309Z"
    }
   },
   "outputs": [],
   "source": [
    "import re"
   ]
  },
  {
   "cell_type": "markdown",
   "metadata": {},
   "source": [
    "Read the input data"
   ]
  },
  {
   "cell_type": "code",
   "execution_count": 2,
   "metadata": {
    "execution": {
     "iopub.execute_input": "2024-12-07T19:36:09.404563Z",
     "iopub.status.busy": "2024-12-07T19:36:09.404218Z",
     "iopub.status.idle": "2024-12-07T19:36:09.407088Z",
     "shell.execute_reply": "2024-12-07T19:36:09.406656Z"
    }
   },
   "outputs": [],
   "source": [
    "with open('aoc3.txt', 'r') as file:\n",
    "    data = file.read().strip()"
   ]
  },
  {
   "cell_type": "markdown",
   "metadata": {},
   "source": [
    "Process memory with conditional states"
   ]
  },
  {
   "cell_type": "code",
   "execution_count": 3,
   "metadata": {
    "execution": {
     "iopub.execute_input": "2024-12-07T19:36:09.408901Z",
     "iopub.status.busy": "2024-12-07T19:36:09.408569Z",
     "iopub.status.idle": "2024-12-07T19:36:09.415520Z",
     "shell.execute_reply": "2024-12-07T19:36:09.415094Z"
    }
   },
   "outputs": [],
   "source": [
    "def process_memory_conditional(text):\n",
    "    # Split into segments based on do() and don't() instructions\n",
    "    segments = re.split(r'do\\(\\)|don\\'t\\(\\)', text)\n",
    "    conditional_points = [m.start() for m in re.finditer(r'do\\(\\)|don\\'t\\(\\)', text)]\n",
    "    states = [True]  # Initial state is enabled\n",
    "    \n",
    "    # Determine state for each segment\n",
    "    for point in conditional_points:\n",
    "        instruction = text[point:point+6]\n",
    "        states.append(instruction.startswith('do'))\n",
    "    \n",
    "    total = 0\n",
    "    for segment, enabled in zip(segments, states):\n",
    "        if enabled:\n",
    "            # Process multiplication when enabled\n",
    "            pattern = r'mul\\(([0-9]{1,3}),([0-9]{1,3})\\)'\n",
    "            matches = re.finditer(pattern, segment)\n",
    "            for match in matches:\n",
    "                x, y = map(int, match.groups())\n",
    "                total += x * y\n",
    "    \n",
    "    return total\n",
    "\n",
    "result = process_memory_conditional(data)\n",
    "\n",
    "# Save result\n",
    "with open('result_day3_part2.txt', 'w') as f:\n",
    "    f.write(f'Sum of enabled multiplication results: {result}')"
   ]
  }
 ],
 "metadata": {
  "language_info": {
   "codemirror_mode": {
    "name": "ipython",
    "version": 3
   },
   "file_extension": ".py",
   "mimetype": "text/x-python",
   "name": "python",
   "nbconvert_exporter": "python",
   "pygments_lexer": "ipython3",
   "version": "3.12.7"
  }
 },
 "nbformat": 4,
 "nbformat_minor": 4
}
