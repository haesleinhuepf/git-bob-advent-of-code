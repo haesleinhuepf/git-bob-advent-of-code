{
 "cells": [
  {
   "cell_type": "markdown",
   "metadata": {},
   "source": [
    "# Day 3: Mull It Over\n",
    "Process corrupted memory containing multiplication instructions"
   ]
  },
  {
   "cell_type": "code",
   "execution_count": 1,
   "metadata": {
    "execution": {
     "iopub.execute_input": "2024-12-07T19:41:23.232232Z",
     "iopub.status.busy": "2024-12-07T19:41:23.231781Z",
     "iopub.status.idle": "2024-12-07T19:41:23.235262Z",
     "shell.execute_reply": "2024-12-07T19:41:23.234822Z"
    }
   },
   "outputs": [],
   "source": [
    "import re"
   ]
  },
  {
   "cell_type": "markdown",
   "metadata": {},
   "source": [
    "Read the input data from file"
   ]
  },
  {
   "cell_type": "code",
   "execution_count": 2,
   "metadata": {
    "execution": {
     "iopub.execute_input": "2024-12-07T19:41:23.237225Z",
     "iopub.status.busy": "2024-12-07T19:41:23.236767Z",
     "iopub.status.idle": "2024-12-07T19:41:23.239995Z",
     "shell.execute_reply": "2024-12-07T19:41:23.239453Z"
    }
   },
   "outputs": [],
   "source": [
    "with open('aoc3.txt', 'r') as file:\n",
    "    data = file.read().strip()\n",
    "\n",
    "# Test data\n",
    "test_data = \"xmul(2,4)&mul[3,7]!^don't()_mul(5,5)+mul(32,64](mul(11,8)do()?mul(8,5))\""
   ]
  },
  {
   "cell_type": "markdown",
   "metadata": {},
   "source": [
    "Function to find valid multiplication patterns and handle do/don't states"
   ]
  },
  {
   "cell_type": "code",
   "execution_count": 3,
   "metadata": {
    "execution": {
     "iopub.execute_input": "2024-12-07T19:41:23.241934Z",
     "iopub.status.busy": "2024-12-07T19:41:23.241620Z",
     "iopub.status.idle": "2024-12-07T19:41:23.244741Z",
     "shell.execute_reply": "2024-12-07T19:41:23.244218Z"
    }
   },
   "outputs": [],
   "source": [
    "def find_all_positions(pattern, text):\n",
    "    return [(m.start(), m.end(), m.group()) for m in re.finditer(pattern, text)]"
   ]
  },
  {
   "cell_type": "markdown",
   "metadata": {},
   "source": [
    "Process the input and calculate results"
   ]
  },
  {
   "cell_type": "code",
   "execution_count": 4,
   "metadata": {
    "execution": {
     "iopub.execute_input": "2024-12-07T19:41:23.246369Z",
     "iopub.status.busy": "2024-12-07T19:41:23.246192Z",
     "iopub.status.idle": "2024-12-07T19:41:23.254326Z",
     "shell.execute_reply": "2024-12-07T19:41:23.253800Z"
    }
   },
   "outputs": [],
   "source": [
    "def process_memory(text):\n",
    "    # Find all control instructions and multiplications\n",
    "    mul_pattern = r'mul\\(([0-9]{1,3}),([0-9]{1,3})\\)'\n",
    "    do_pattern = r'do\\(\\)'\n",
    "    dont_pattern = r'don\\'t\\(\\)'\n",
    "    \n",
    "    muls = find_all_positions(mul_pattern, text)\n",
    "    dos = find_all_positions(do_pattern, text)\n",
    "    donts = find_all_positions(dont_pattern, text)\n",
    "    \n",
    "    total = 0\n",
    "    enabled = True\n",
    "    \n",
    "    for mul_start, mul_end, mul_match in muls:\n",
    "        # Check if this multiplication is enabled\n",
    "        for _, do_end, _ in dos:\n",
    "            if do_end <= mul_start:\n",
    "                enabled = True\n",
    "        for _, dont_end, _ in donts:\n",
    "            if dont_end <= mul_start:\n",
    "                enabled = False\n",
    "                \n",
    "        if enabled:\n",
    "            # Extract and multiply numbers\n",
    "            numbers = re.search(mul_pattern, mul_match)\n",
    "            if numbers:\n",
    "                x, y = map(int, numbers.groups())\n",
    "                total += x * y\n",
    "    \n",
    "    return total\n",
    "\n",
    "# Process and save results\n",
    "result = process_memory(data)\n",
    "with open('result_day3.txt', 'w') as f:\n",
    "    f.write(f'Sum of enabled multiplication results: {result}\\n')"
   ]
  }
 ],
 "metadata": {
  "language_info": {
   "codemirror_mode": {
    "name": "ipython",
    "version": 3
   },
   "file_extension": ".py",
   "mimetype": "text/x-python",
   "name": "python",
   "nbconvert_exporter": "python",
   "pygments_lexer": "ipython3",
   "version": "3.12.7"
  }
 },
 "nbformat": 4,
 "nbformat_minor": 4
}
