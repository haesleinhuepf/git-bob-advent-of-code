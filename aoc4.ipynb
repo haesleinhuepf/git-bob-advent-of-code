{
 "cells": [
  {
   "cell_type": "markdown",
   "metadata": {},
   "source": [
    "# XMAS Word Search\n",
    "Let's solve the word search puzzle by finding all occurrences of 'XMAS' in various directions."
   ]
  },
  {
   "cell_type": "code",
   "execution_count": 1,
   "metadata": {
    "execution": {
     "iopub.execute_input": "2024-12-07T19:51:19.860704Z",
     "iopub.status.busy": "2024-12-07T19:51:19.860519Z",
     "iopub.status.idle": "2024-12-07T19:51:19.864395Z",
     "shell.execute_reply": "2024-12-07T19:51:19.863973Z"
    }
   },
   "outputs": [],
   "source": [
    "def read_puzzle(filename):\n",
    "    with open(filename, 'r') as f:\n",
    "        return [line.strip() for line in f.readlines()]\n",
    "\n",
    "grid = read_puzzle('aoc4.txt')"
   ]
  },
  {
   "cell_type": "markdown",
   "metadata": {},
   "source": [
    "Define the directions to search for XMAS: horizontal, vertical, and diagonal"
   ]
  },
  {
   "cell_type": "code",
   "execution_count": 2,
   "metadata": {
    "execution": {
     "iopub.execute_input": "2024-12-07T19:51:19.866279Z",
     "iopub.status.busy": "2024-12-07T19:51:19.865951Z",
     "iopub.status.idle": "2024-12-07T19:51:19.869456Z",
     "shell.execute_reply": "2024-12-07T19:51:19.868914Z"
    }
   },
   "outputs": [],
   "source": [
    "def get_word_at(grid, x, y, dx, dy):\n",
    "    word = ''\n",
    "    for i in range(4):  # XMAS is 4 letters\n",
    "        new_x, new_y = x + i*dx, y + i*dy\n",
    "        if 0 <= new_x < len(grid[0]) and 0 <= new_y < len(grid):\n",
    "            word += grid[new_y][new_x]\n",
    "        else:\n",
    "            return ''\n",
    "    return word"
   ]
  },
  {
   "cell_type": "markdown",
   "metadata": {},
   "source": [
    "Search for XMAS in all directions"
   ]
  },
  {
   "cell_type": "code",
   "execution_count": 3,
   "metadata": {
    "execution": {
     "iopub.execute_input": "2024-12-07T19:51:19.871300Z",
     "iopub.status.busy": "2024-12-07T19:51:19.871119Z",
     "iopub.status.idle": "2024-12-07T19:51:20.010328Z",
     "shell.execute_reply": "2024-12-07T19:51:20.009713Z"
    }
   },
   "outputs": [
    {
     "name": "stdout",
     "output_type": "stream",
     "text": [
      "XMAS appears 2599 times\n"
     ]
    }
   ],
   "source": [
    "def count_xmas(grid):\n",
    "    count = 0\n",
    "    directions = [(1,0), (0,1), (1,1), (-1,1),  # right, down, diagonal-right, diagonal-left\n",
    "                 (-1,0), (0,-1), (-1,-1), (1,-1)]  # left, up, diagonal-left-up, diagonal-right-up\n",
    "    \n",
    "    for y in range(len(grid)):\n",
    "        for x in range(len(grid[0])):\n",
    "            for dx, dy in directions:\n",
    "                if get_word_at(grid, x, y, dx, dy) == 'XMAS':\n",
    "                    count += 1\n",
    "    return count\n",
    "\n",
    "xmas_count = count_xmas(grid)\n",
    "print(f\"XMAS appears {xmas_count} times\")\n",
    "\n",
    "# Save result\n",
    "with open('result.txt', 'w') as f:\n",
    "    f.write(f\"XMAS appears {xmas_count} times\")"
   ]
  }
 ],
 "metadata": {
  "language_info": {
   "codemirror_mode": {
    "name": "ipython",
    "version": 3
   },
   "file_extension": ".py",
   "mimetype": "text/x-python",
   "name": "python",
   "nbconvert_exporter": "python",
   "pygments_lexer": "ipython3",
   "version": "3.12.7"
  }
 },
 "nbformat": 4,
 "nbformat_minor": 4
}
