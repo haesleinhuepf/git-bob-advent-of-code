{
 "cells": [
  {
   "cell_type": "markdown",
   "metadata": {},
   "source": [
    "# X-MAS Pattern Search - Part 2\n",
    "We need to find X patterns made of two MAS strings"
   ]
  },
  {
   "cell_type": "code",
   "execution_count": 1,
   "metadata": {
    "execution": {
     "iopub.execute_input": "2024-12-07T19:54:24.839476Z",
     "iopub.status.busy": "2024-12-07T19:54:24.839289Z",
     "iopub.status.idle": "2024-12-07T19:54:24.843476Z",
     "shell.execute_reply": "2024-12-07T19:54:24.842898Z"
    }
   },
   "outputs": [],
   "source": [
    "def read_puzzle(filename):\n",
    "    with open(filename, 'r') as f:\n",
    "        return [line.strip() for line in f.readlines()]\n",
    "\n",
    "grid = read_puzzle('aoc4.txt')"
   ]
  },
  {
   "cell_type": "markdown",
   "metadata": {},
   "source": [
    "Function to check for MAS (forwards or backwards) at a specific position and direction"
   ]
  },
  {
   "cell_type": "code",
   "execution_count": 2,
   "metadata": {
    "execution": {
     "iopub.execute_input": "2024-12-07T19:54:24.845238Z",
     "iopub.status.busy": "2024-12-07T19:54:24.845030Z",
     "iopub.status.idle": "2024-12-07T19:54:24.849465Z",
     "shell.execute_reply": "2024-12-07T19:54:24.848986Z"
    }
   },
   "outputs": [],
   "source": [
    "def check_mas(grid, x, y, dx, dy):\n",
    "    word = ''\n",
    "    for i in range(3):  # MAS is 3 letters\n",
    "        new_x, new_y = x + i*dx, y + i*dy\n",
    "        if 0 <= new_x < len(grid[0]) and 0 <= new_y < len(grid):\n",
    "            word += grid[new_y][new_x]\n",
    "        else:\n",
    "            return False\n",
    "    return word in ['MAS', 'SAM']"
   ]
  },
  {
   "cell_type": "markdown",
   "metadata": {},
   "source": [
    "Check for X pattern made of two MAS strings"
   ]
  },
  {
   "cell_type": "code",
   "execution_count": 3,
   "metadata": {
    "execution": {
     "iopub.execute_input": "2024-12-07T19:54:24.851452Z",
     "iopub.status.busy": "2024-12-07T19:54:24.851010Z",
     "iopub.status.idle": "2024-12-07T19:54:24.871439Z",
     "shell.execute_reply": "2024-12-07T19:54:24.870882Z"
    }
   },
   "outputs": [
    {
     "name": "stdout",
     "output_type": "stream",
     "text": [
      "X-MAS patterns appear 1948 times\n"
     ]
    }
   ],
   "source": [
    "def count_x_mas(grid):\n",
    "    count = 0\n",
    "    for y in range(len(grid)):\n",
    "        for x in range(len(grid[0])):\n",
    "            # Check for X pattern with MAS strings\n",
    "            if check_mas(grid, x, y, 1, 1) and check_mas(grid, x+2, y, -1, 1):\n",
    "                count += 1\n",
    "    return count\n",
    "\n",
    "x_mas_count = count_x_mas(grid)\n",
    "print(f\"X-MAS patterns appear {x_mas_count} times\")\n",
    "\n",
    "with open('result2.txt', 'w') as f:\n",
    "    f.write(f\"X-MAS patterns appear {x_mas_count} times\")"
   ]
  }
 ],
 "metadata": {
  "language_info": {
   "codemirror_mode": {
    "name": "ipython",
    "version": 3
   },
   "file_extension": ".py",
   "mimetype": "text/x-python",
   "name": "python",
   "nbconvert_exporter": "python",
   "pygments_lexer": "ipython3",
   "version": "3.12.7"
  }
 },
 "nbformat": 4,
 "nbformat_minor": 4
}
