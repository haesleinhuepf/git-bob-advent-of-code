{
 "cells": [
  {
   "cell_type": "markdown",
   "metadata": {},
   "source": [
    "# Advent of Code Day 11: Plutonian Pebbles - Part Two\n",
    "Extending the solution to 75 blinks"
   ]
  },
  {
   "cell_type": "code",
   "execution_count": 1,
   "metadata": {
    "execution": {
     "iopub.execute_input": "2024-12-13T12:23:06.639929Z",
     "iopub.status.busy": "2024-12-13T12:23:06.639491Z",
     "iopub.status.idle": "2024-12-13T12:23:06.643500Z",
     "shell.execute_reply": "2024-12-13T12:23:06.643055Z"
    }
   },
   "outputs": [],
   "source": [
    "def read_input(filename):\n",
    "    with open(filename) as f:\n",
    "        return [int(x) for x in f.read().strip().split()]\n",
    "\n",
    "stones = read_input('aoc11.txt')"
   ]
  },
  {
   "cell_type": "markdown",
   "metadata": {},
   "source": [
    "Stone transformation rules remain the same"
   ]
  },
  {
   "cell_type": "code",
   "execution_count": 2,
   "metadata": {
    "execution": {
     "iopub.execute_input": "2024-12-13T12:23:06.645431Z",
     "iopub.status.busy": "2024-12-13T12:23:06.645073Z",
     "iopub.status.idle": "2024-12-13T12:23:06.648822Z",
     "shell.execute_reply": "2024-12-13T12:23:06.648289Z"
    }
   },
   "outputs": [],
   "source": [
    "def transform_stone(stone):\n",
    "    if stone == 0:\n",
    "        return [1]\n",
    "    stone_str = str(stone)\n",
    "    if len(stone_str) % 2 == 0:\n",
    "        mid = len(stone_str) // 2\n",
    "        left = int(stone_str[:mid])\n",
    "        right = int(stone_str[mid:]) if stone_str[mid:] != '0' else 0\n",
    "        return [left, right]\n",
    "    return [stone * 2024]"
   ]
  },
  {
   "cell_type": "markdown",
   "metadata": {},
   "source": [
    "Single blink function"
   ]
  },
  {
   "cell_type": "code",
   "execution_count": 3,
   "metadata": {
    "execution": {
     "iopub.execute_input": "2024-12-13T12:23:06.650777Z",
     "iopub.status.busy": "2024-12-13T12:23:06.650375Z",
     "iopub.status.idle": "2024-12-13T12:23:06.653131Z",
     "shell.execute_reply": "2024-12-13T12:23:06.652687Z"
    }
   },
   "outputs": [],
   "source": [
    "def blink(stones):\n",
    "    result = []\n",
    "    for stone in stones:\n",
    "        result.extend(transform_stone(stone))\n",
    "    return result"
   ]
  },
  {
   "cell_type": "markdown",
   "metadata": {},
   "source": [
    "Now simulate 75 blinks"
   ]
  },
  {
   "cell_type": "code",
   "execution_count": 4,
   "metadata": {
    "execution": {
     "iopub.execute_input": "2024-12-13T12:23:06.654747Z",
     "iopub.status.busy": "2024-12-13T12:23:06.654577Z",
     "iopub.status.idle": "2024-12-13T12:33:07.746334Z"
    }
   },
   "outputs": [
    {
     "ename": "KeyboardInterrupt",
     "evalue": "",
     "output_type": "error",
     "traceback": [
      "\u001b[0;31m---------------------------------------------------------------------------\u001b[0m",
      "\u001b[0;31mKeyboardInterrupt\u001b[0m                         Traceback (most recent call last)",
      "Cell \u001b[0;32mIn[4], line 3\u001b[0m\n\u001b[1;32m      1\u001b[0m current_stones \u001b[38;5;241m=\u001b[39m stones\u001b[38;5;241m.\u001b[39mcopy()\n\u001b[1;32m      2\u001b[0m \u001b[38;5;28;01mfor\u001b[39;00m i \u001b[38;5;129;01min\u001b[39;00m \u001b[38;5;28mrange\u001b[39m(\u001b[38;5;241m75\u001b[39m):\n\u001b[0;32m----> 3\u001b[0m     current_stones \u001b[38;5;241m=\u001b[39m \u001b[43mblink\u001b[49m\u001b[43m(\u001b[49m\u001b[43mcurrent_stones\u001b[49m\u001b[43m)\u001b[49m\n\u001b[1;32m      5\u001b[0m result \u001b[38;5;241m=\u001b[39m \u001b[38;5;28mlen\u001b[39m(current_stones)\n\u001b[1;32m      6\u001b[0m \u001b[38;5;28;01mwith\u001b[39;00m \u001b[38;5;28mopen\u001b[39m(\u001b[38;5;124m'\u001b[39m\u001b[38;5;124mresult.txt\u001b[39m\u001b[38;5;124m'\u001b[39m, \u001b[38;5;124m'\u001b[39m\u001b[38;5;124mw\u001b[39m\u001b[38;5;124m'\u001b[39m) \u001b[38;5;28;01mas\u001b[39;00m f:\n",
      "Cell \u001b[0;32mIn[3], line 4\u001b[0m, in \u001b[0;36mblink\u001b[0;34m(stones)\u001b[0m\n\u001b[1;32m      2\u001b[0m result \u001b[38;5;241m=\u001b[39m []\n\u001b[1;32m      3\u001b[0m \u001b[38;5;28;01mfor\u001b[39;00m stone \u001b[38;5;129;01min\u001b[39;00m stones:\n\u001b[0;32m----> 4\u001b[0m     \u001b[43mresult\u001b[49m\u001b[38;5;241;43m.\u001b[39;49m\u001b[43mextend\u001b[49m\u001b[43m(\u001b[49m\u001b[43mtransform_stone\u001b[49m\u001b[43m(\u001b[49m\u001b[43mstone\u001b[49m\u001b[43m)\u001b[49m\u001b[43m)\u001b[49m\n\u001b[1;32m      5\u001b[0m \u001b[38;5;28;01mreturn\u001b[39;00m result\n",
      "\u001b[0;31mKeyboardInterrupt\u001b[0m: "
     ]
    }
   ],
   "source": [
    "current_stones = stones.copy()\n",
    "for i in range(75):\n",
    "    current_stones = blink(current_stones)\n",
    "\n",
    "result = len(current_stones)\n",
    "with open('result.txt', 'w') as f:\n",
    "    f.write(str(result))"
   ]
  }
 ],
 "metadata": {
  "language_info": {
   "codemirror_mode": {
    "name": "ipython",
    "version": 3
   },
   "file_extension": ".py",
   "mimetype": "text/x-python",
   "name": "python",
   "nbconvert_exporter": "python",
   "pygments_lexer": "ipython3",
   "version": "3.12.8"
  }
 },
 "nbformat": 4,
 "nbformat_minor": 4
}
