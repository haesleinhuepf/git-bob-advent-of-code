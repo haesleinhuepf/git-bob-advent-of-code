{
 "cells": [
  {
   "cell_type": "markdown",
   "metadata": {},
   "source": [
    "# Advent of Code Day 11: Plutonian Pebbles\n",
    "\n",
    "Let's solve this step by step."
   ]
  },
  {
   "cell_type": "markdown",
   "metadata": {},
   "source": [
    "First, let's read the input data"
   ]
  },
  {
   "cell_type": "code",
   "execution_count": 1,
   "metadata": {
    "execution": {
     "iopub.execute_input": "2024-12-13T12:20:50.206698Z",
     "iopub.status.busy": "2024-12-13T12:20:50.206513Z",
     "iopub.status.idle": "2024-12-13T12:20:50.210326Z",
     "shell.execute_reply": "2024-12-13T12:20:50.209897Z"
    }
   },
   "outputs": [],
   "source": [
    "def read_input(filename):\n",
    "    with open(filename) as f:\n",
    "        return [int(x) for x in f.read().strip().split()]\n",
    "\n",
    "stones = read_input('aoc11.txt')"
   ]
  },
  {
   "cell_type": "markdown",
   "metadata": {},
   "source": [
    "Implement the transformation rules for a single stone"
   ]
  },
  {
   "cell_type": "code",
   "execution_count": 2,
   "metadata": {
    "execution": {
     "iopub.execute_input": "2024-12-13T12:20:50.211987Z",
     "iopub.status.busy": "2024-12-13T12:20:50.211789Z",
     "iopub.status.idle": "2024-12-13T12:20:50.216407Z",
     "shell.execute_reply": "2024-12-13T12:20:50.215934Z"
    }
   },
   "outputs": [],
   "source": [
    "def transform_stone(stone):\n",
    "    # Rule 1: If stone is 0, replace with 1\n",
    "    if stone == 0:\n",
    "        return [1]\n",
    "    \n",
    "    # Rule 2: If even number of digits, split in half\n",
    "    stone_str = str(stone)\n",
    "    if len(stone_str) % 2 == 0:\n",
    "        mid = len(stone_str) // 2\n",
    "        left = int(stone_str[:mid])\n",
    "        right = int(stone_str[mid:]) if stone_str[mid:] != '0' else 0\n",
    "        return [left, right]\n",
    "    \n",
    "    # Rule 3: Multiply by 2024\n",
    "    return [stone * 2024]"
   ]
  },
  {
   "cell_type": "markdown",
   "metadata": {},
   "source": [
    "Implement one blink transformation for all stones"
   ]
  },
  {
   "cell_type": "code",
   "execution_count": 3,
   "metadata": {
    "execution": {
     "iopub.execute_input": "2024-12-13T12:20:50.218192Z",
     "iopub.status.busy": "2024-12-13T12:20:50.218017Z",
     "iopub.status.idle": "2024-12-13T12:20:50.220732Z",
     "shell.execute_reply": "2024-12-13T12:20:50.220300Z"
    }
   },
   "outputs": [],
   "source": [
    "def blink(stones):\n",
    "    result = []\n",
    "    for stone in stones:\n",
    "        result.extend(transform_stone(stone))\n",
    "    return result"
   ]
  },
  {
   "cell_type": "markdown",
   "metadata": {},
   "source": [
    "Simulate 25 blinks and count stones"
   ]
  },
  {
   "cell_type": "code",
   "execution_count": 4,
   "metadata": {
    "execution": {
     "iopub.execute_input": "2024-12-13T12:20:50.222358Z",
     "iopub.status.busy": "2024-12-13T12:20:50.222189Z",
     "iopub.status.idle": "2024-12-13T12:20:50.393192Z",
     "shell.execute_reply": "2024-12-13T12:20:50.392558Z"
    }
   },
   "outputs": [
    {
     "name": "stdout",
     "output_type": "stream",
     "text": [
      "Number of stones after 25 blinks: 172484\n"
     ]
    }
   ],
   "source": [
    "current_stones = stones.copy()\n",
    "for i in range(25):\n",
    "    current_stones = blink(current_stones)\n",
    "\n",
    "result = len(current_stones)\n",
    "print(f\"Number of stones after 25 blinks: {result}\")\n",
    "\n",
    "# Save result\n",
    "with open('result.txt', 'w') as f:\n",
    "    f.write(str(result))"
   ]
  }
 ],
 "metadata": {
  "language_info": {
   "codemirror_mode": {
    "name": "ipython",
    "version": 3
   },
   "file_extension": ".py",
   "mimetype": "text/x-python",
   "name": "python",
   "nbconvert_exporter": "python",
   "pygments_lexer": "ipython3",
   "version": "3.12.8"
  }
 },
 "nbformat": 4,
 "nbformat_minor": 4
}
