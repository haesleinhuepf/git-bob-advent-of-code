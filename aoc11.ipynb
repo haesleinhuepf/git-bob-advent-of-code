{
 "cells": [
  {
   "cell_type": "markdown",
   "metadata": {},
   "source": [
    "# Day 11: Plutonian Pebbles\n",
    "Implementing stone transformation rules and tracking stone count over blinks"
   ]
  },
  {
   "cell_type": "markdown",
   "metadata": {},
   "source": [
    "First read input stones from file"
   ]
  },
  {
   "cell_type": "code",
   "execution_count": 1,
   "metadata": {
    "execution": {
     "iopub.execute_input": "2024-12-13T12:37:11.557326Z",
     "iopub.status.busy": "2024-12-13T12:37:11.557078Z",
     "iopub.status.idle": "2024-12-13T12:37:11.560817Z",
     "shell.execute_reply": "2024-12-13T12:37:11.560258Z"
    }
   },
   "outputs": [],
   "source": [
    "def read_stones(filename):\n",
    "    with open(filename) as f:\n",
    "        return [int(x) for x in f.read().strip().split()]\n",
    "\n",
    "stones = read_stones('aoc11.txt')"
   ]
  },
  {
   "cell_type": "markdown",
   "metadata": {},
   "source": [
    "Define transformation rules for individual stones"
   ]
  },
  {
   "cell_type": "code",
   "execution_count": 2,
   "metadata": {
    "execution": {
     "iopub.execute_input": "2024-12-13T12:37:11.562719Z",
     "iopub.status.busy": "2024-12-13T12:37:11.562269Z",
     "iopub.status.idle": "2024-12-13T12:37:11.566667Z",
     "shell.execute_reply": "2024-12-13T12:37:11.566112Z"
    }
   },
   "outputs": [],
   "source": [
    "def transform_stone(stone):\n",
    "    if stone == 0:\n",
    "        return [1]\n",
    "    \n",
    "    stone_str = str(stone)\n",
    "    if len(stone_str) % 2 == 0:  # even number of digits\n",
    "        mid = len(stone_str) // 2\n",
    "        left = int(stone_str[:mid])\n",
    "        right = stone_str[mid:].lstrip('0')\n",
    "        right = int(right) if right else 0\n",
    "        return [left, right]\n",
    "\n",
    "    return [stone * 2024]"
   ]
  },
  {
   "cell_type": "markdown",
   "metadata": {},
   "source": [
    "Process one blink for all stones"
   ]
  },
  {
   "cell_type": "code",
   "execution_count": 3,
   "metadata": {
    "execution": {
     "iopub.execute_input": "2024-12-13T12:37:11.568380Z",
     "iopub.status.busy": "2024-12-13T12:37:11.568059Z",
     "iopub.status.idle": "2024-12-13T12:37:11.570925Z",
     "shell.execute_reply": "2024-12-13T12:37:11.570355Z"
    }
   },
   "outputs": [],
   "source": [
    "def blink(stones):\n",
    "    new_stones = []\n",
    "    for stone in stones:\n",
    "        new_stones.extend(transform_stone(stone))\n",
    "    return new_stones"
   ]
  },
  {
   "cell_type": "markdown",
   "metadata": {},
   "source": [
    "Simulate all blinks and track stone count"
   ]
  },
  {
   "cell_type": "code",
   "execution_count": 4,
   "metadata": {
    "execution": {
     "iopub.execute_input": "2024-12-13T12:37:11.572727Z",
     "iopub.status.busy": "2024-12-13T12:37:11.572394Z"
    }
   },
   "outputs": [],
   "source": [
    "def simulate_blinks(stones, num_blinks):\n",
    "    current = stones.copy()\n",
    "    stone_counts = [len(current)]\n",
    "    \n",
    "    for i in range(num_blinks):\n",
    "        current = blink(current)\n",
    "        stone_counts.append(len(current))\n",
    "    \n",
    "    return current, stone_counts\n",
    "\n",
    "# Run simulation for 75 blinks\n",
    "final_stones, counts = simulate_blinks(stones, 75)\n",
    "\n",
    "# Save results\n",
    "with open('result.txt', 'w') as f:\n",
    "    f.write(str(len(final_stones)))"
   ]
  }
 ],
 "metadata": {
  "language_info": {
   "codemirror_mode": {
    "name": "ipython",
    "version": 3
   },
   "file_extension": ".py",
   "mimetype": "text/x-python",
   "name": "python",
   "nbconvert_exporter": "python",
   "pygments_lexer": "ipython3",
   "version": "3.12.8"
  }
 },
 "nbformat": 4,
 "nbformat_minor": 4
}
