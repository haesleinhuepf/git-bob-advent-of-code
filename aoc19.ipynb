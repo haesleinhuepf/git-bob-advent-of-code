{
 "cells": [
  {
   "cell_type": "markdown",
   "metadata": {},
   "source": [
    "# Advent of Code Day 19: Linen Layout\n",
    "Load and parse input data"
   ]
  },
  {
   "cell_type": "code",
   "execution_count": 1,
   "metadata": {
    "execution": {
     "iopub.execute_input": "2024-12-30T13:57:08.207669Z",
     "iopub.status.busy": "2024-12-30T13:57:08.207495Z",
     "iopub.status.idle": "2024-12-30T13:57:08.211365Z",
     "shell.execute_reply": "2024-12-30T13:57:08.210925Z"
    }
   },
   "outputs": [],
   "source": [
    "def read_input(filename):\n",
    "    with open(filename, 'r') as f:\n",
    "        patterns, designs = f.read().strip().split('\\n\\n')\n",
    "    patterns = [p.strip() for p in patterns.split(',')]\n",
    "    designs = [d.strip() for d in designs.split('\\n')]\n",
    "    return patterns, designs"
   ]
  },
  {
   "cell_type": "markdown",
   "metadata": {},
   "source": [
    "Function to check if a design can be constructed from available patterns"
   ]
  },
  {
   "cell_type": "code",
   "execution_count": 2,
   "metadata": {
    "execution": {
     "iopub.execute_input": "2024-12-30T13:57:08.213080Z",
     "iopub.status.busy": "2024-12-30T13:57:08.212907Z",
     "iopub.status.idle": "2024-12-30T13:57:08.217138Z",
     "shell.execute_reply": "2024-12-30T13:57:08.216705Z"
    }
   },
   "outputs": [],
   "source": [
    "def can_construct(design, patterns, memo={}):\n",
    "    if design == '':\n",
    "        return True\n",
    "    if design in memo:\n",
    "        return memo[design]\n",
    "    \n",
    "    for pattern in patterns:\n",
    "        if design.startswith(pattern):\n",
    "            if can_construct(design[len(pattern):], patterns, memo):\n",
    "                memo[design] = True\n",
    "                return True\n",
    "    \n",
    "    memo[design] = False\n",
    "    return False"
   ]
  },
  {
   "cell_type": "markdown",
   "metadata": {},
   "source": [
    "Solve the puzzle"
   ]
  },
  {
   "cell_type": "code",
   "execution_count": 3,
   "metadata": {
    "execution": {
     "iopub.execute_input": "2024-12-30T13:57:08.218736Z",
     "iopub.status.busy": "2024-12-30T13:57:08.218566Z",
     "iopub.status.idle": "2024-12-30T13:57:08.463980Z",
     "shell.execute_reply": "2024-12-30T13:57:08.463354Z"
    }
   },
   "outputs": [
    {
     "name": "stdout",
     "output_type": "stream",
     "text": [
      "Number of possible designs: 280\n"
     ]
    }
   ],
   "source": [
    "patterns, designs = read_input('aoc19.txt')\n",
    "\n",
    "possible_count = sum(1 for design in designs if can_construct(design, patterns))\n",
    "print(f\"Number of possible designs: {possible_count}\")\n",
    "\n",
    "# Save results\n",
    "with open('result.txt', 'w') as f:\n",
    "    f.write(f\"Number of possible designs: {possible_count}\")"
   ]
  }
 ],
 "metadata": {
  "language_info": {
   "codemirror_mode": {
    "name": "ipython",
    "version": 3
   },
   "file_extension": ".py",
   "mimetype": "text/x-python",
   "name": "python",
   "nbconvert_exporter": "python",
   "pygments_lexer": "ipython3",
   "version": "3.12.8"
  }
 },
 "nbformat": 4,
 "nbformat_minor": 4
}
