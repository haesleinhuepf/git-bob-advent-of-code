{
 "cells": [
  {
   "cell_type": "markdown",
   "metadata": {},
   "source": [
    "# Advent of Code Day 16: Reindeer Maze\n",
    "Let's read the maze from file and solve the shortest path problem with rotation costs"
   ]
  },
  {
   "cell_type": "code",
   "execution_count": 1,
   "metadata": {
    "execution": {
     "iopub.execute_input": "2024-12-30T13:00:52.847939Z",
     "iopub.status.busy": "2024-12-30T13:00:52.847763Z",
     "iopub.status.idle": "2024-12-30T13:00:52.851766Z",
     "shell.execute_reply": "2024-12-30T13:00:52.851347Z"
    }
   },
   "outputs": [],
   "source": [
    "def read_maze(filename):\n",
    "    with open(filename, 'r') as f:\n",
    "        maze = [list(line.strip()) for line in f.readlines()]\n",
    "    return maze\n",
    "\n",
    "maze = read_maze('aoc16.txt')"
   ]
  },
  {
   "cell_type": "markdown",
   "metadata": {},
   "source": [
    "Define helper functions to find start/end and handle directions"
   ]
  },
  {
   "cell_type": "code",
   "execution_count": 2,
   "metadata": {
    "execution": {
     "iopub.execute_input": "2024-12-30T13:00:52.853395Z",
     "iopub.status.busy": "2024-12-30T13:00:52.853225Z",
     "iopub.status.idle": "2024-12-30T13:00:52.857610Z",
     "shell.execute_reply": "2024-12-30T13:00:52.857174Z"
    }
   },
   "outputs": [],
   "source": [
    "def find_position(maze, char):\n",
    "    for y in range(len(maze)):\n",
    "        for x in range(len(maze[0])):\n",
    "            if maze[y][x] == char:\n",
    "                return (x, y)\n",
    "    return None\n",
    "\n",
    "# Directions: East=0, South=1, West=2, North=3\n",
    "DIRS = [(1,0), (0,1), (-1,0), (0,-1)]\n",
    "\n",
    "def rotate(dir_idx, clockwise):\n",
    "    return (dir_idx + (1 if clockwise else -1)) % 4"
   ]
  },
  {
   "cell_type": "markdown",
   "metadata": {},
   "source": [
    "Implement Dijkstra's algorithm with direction costs"
   ]
  },
  {
   "cell_type": "code",
   "execution_count": 3,
   "metadata": {
    "execution": {
     "iopub.execute_input": "2024-12-30T13:00:52.859291Z",
     "iopub.status.busy": "2024-12-30T13:00:52.859097Z",
     "iopub.status.idle": "2024-12-30T13:00:52.958313Z",
     "shell.execute_reply": "2024-12-30T13:00:52.957725Z"
    }
   },
   "outputs": [
    {
     "name": "stdout",
     "output_type": "stream",
     "text": [
      "Lowest possible score: 85432\n"
     ]
    }
   ],
   "source": [
    "from heapq import heappush, heappop\n",
    "\n",
    "def find_shortest_path(maze):\n",
    "    start = find_position(maze, 'S')\n",
    "    end = find_position(maze, 'E')\n",
    "    \n",
    "    # Priority queue with (cost, x, y, direction)\n",
    "    queue = [(0, start[0], start[1], 0)]  # Start facing East\n",
    "    seen = set()\n",
    "    \n",
    "    while queue:\n",
    "        cost, x, y, dir_idx = heappop(queue)\n",
    "        \n",
    "        if (x, y) == end:\n",
    "            return cost\n",
    "            \n",
    "        if (x, y, dir_idx) in seen:\n",
    "            continue\n",
    "        seen.add((x, y, dir_idx))\n",
    "        \n",
    "        # Try moving forward\n",
    "        dx, dy = DIRS[dir_idx]\n",
    "        new_x, new_y = x + dx, y + dy\n",
    "        if (0 <= new_x < len(maze[0]) and 0 <= new_y < len(maze) and \n",
    "            maze[new_y][new_x] != '#'):\n",
    "            heappush(queue, (cost + 1, new_x, new_y, dir_idx))\n",
    "        \n",
    "        # Try rotating\n",
    "        for clockwise in [True, False]:\n",
    "            new_dir = rotate(dir_idx, clockwise)\n",
    "            heappush(queue, (cost + 1000, x, y, new_dir))\n",
    "    \n",
    "    return float('inf')\n",
    "\n",
    "result = find_shortest_path(maze)\n",
    "print(f\"Lowest possible score: {result}\")"
   ]
  }
 ],
 "metadata": {
  "language_info": {
   "codemirror_mode": {
    "name": "ipython",
    "version": 3
   },
   "file_extension": ".py",
   "mimetype": "text/x-python",
   "name": "python",
   "nbconvert_exporter": "python",
   "pygments_lexer": "ipython3",
   "version": "3.12.8"
  }
 },
 "nbformat": 4,
 "nbformat_minor": 4
}
