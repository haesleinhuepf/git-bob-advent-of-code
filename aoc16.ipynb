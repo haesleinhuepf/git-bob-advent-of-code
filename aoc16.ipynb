{
 "cells": [
  {
   "cell_type": "markdown",
   "metadata": {},
   "source": [
    "# Advent of Code Day 16: Reindeer Maze - Parts 1 & 2\n",
    "First, let's read the maze and implement the basic functions"
   ]
  },
  {
   "cell_type": "code",
   "execution_count": 1,
   "metadata": {
    "execution": {
     "iopub.execute_input": "2024-12-30T13:04:01.242447Z",
     "iopub.status.busy": "2024-12-30T13:04:01.241918Z",
     "iopub.status.idle": "2024-12-30T13:04:01.246248Z",
     "shell.execute_reply": "2024-12-30T13:04:01.245725Z"
    }
   },
   "outputs": [],
   "source": [
    "from heapq import heappush, heappop\n",
    "from collections import defaultdict\n",
    "\n",
    "def read_maze(filename):\n",
    "    with open(filename, 'r') as f:\n",
    "        return [list(line.strip()) for line in f.readlines()]\n",
    "\n",
    "maze = read_maze('aoc16.txt')"
   ]
  },
  {
   "cell_type": "markdown",
   "metadata": {},
   "source": [
    "Define helper functions for navigation and state management"
   ]
  },
  {
   "cell_type": "code",
   "execution_count": 2,
   "metadata": {
    "execution": {
     "iopub.execute_input": "2024-12-30T13:04:01.248093Z",
     "iopub.status.busy": "2024-12-30T13:04:01.247757Z",
     "iopub.status.idle": "2024-12-30T13:04:01.252212Z",
     "shell.execute_reply": "2024-12-30T13:04:01.251782Z"
    }
   },
   "outputs": [],
   "source": [
    "def find_position(maze, char):\n",
    "    return next((x, y) for y in range(len(maze)) \n",
    "                for x in range(len(maze[0])) if maze[y][x] == char)\n",
    "\n",
    "DIRS = [(1,0), (0,1), (-1,0), (0,-1)]  # E,S,W,N\n",
    "def rotate(dir_idx, clockwise): return (dir_idx + (1 if clockwise else -1)) % 4"
   ]
  },
  {
   "cell_type": "markdown",
   "metadata": {},
   "source": [
    "Implement the pathfinding algorithm that tracks best paths"
   ]
  },
  {
   "cell_type": "code",
   "execution_count": 3,
   "metadata": {
    "execution": {
     "iopub.execute_input": "2024-12-30T13:04:01.254021Z",
     "iopub.status.busy": "2024-12-30T13:04:01.253682Z",
     "iopub.status.idle": "2024-12-30T13:04:01.395292Z",
     "shell.execute_reply": "2024-12-30T13:04:01.394698Z"
    }
   },
   "outputs": [
    {
     "name": "stdout",
     "output_type": "stream",
     "text": [
      "Part 1 - Lowest score: 85432\n",
      "Part 2 - Tiles in best paths: 9631\n"
     ]
    }
   ],
   "source": [
    "def find_best_paths(maze):\n",
    "    start = find_position(maze, 'S')\n",
    "    end = find_position(maze, 'E')\n",
    "    queue = [(0, start[0], start[1], 0)]\n",
    "    seen = set()\n",
    "    best_paths = defaultdict(set)\n",
    "    min_cost = float('inf')\n",
    "    \n",
    "    while queue:\n",
    "        cost, x, y, dir_idx = heappop(queue)\n",
    "        if cost > min_cost:\n",
    "            continue\n",
    "            \n",
    "        if (x, y) == end:\n",
    "            min_cost = cost\n",
    "            continue\n",
    "            \n",
    "        state = (x, y, dir_idx)\n",
    "        if state in seen:\n",
    "            continue\n",
    "        seen.add(state)\n",
    "        best_paths[(x,y)].add(state)\n",
    "        \n",
    "        # Forward movement\n",
    "        dx, dy = DIRS[dir_idx]\n",
    "        new_x, new_y = x + dx, y + dy\n",
    "        if (0 <= new_x < len(maze[0]) and 0 <= new_y < len(maze) and \n",
    "            maze[new_y][new_x] != '#'):\n",
    "            heappush(queue, (cost + 1, new_x, new_y, dir_idx))\n",
    "        \n",
    "        # Rotations\n",
    "        for clockwise in [True, False]:\n",
    "            heappush(queue, (cost + 1000, x, y, rotate(dir_idx, clockwise)))\n",
    "    \n",
    "    return min_cost, best_paths\n",
    "\n",
    "min_score, paths = find_best_paths(maze)\n",
    "print(f\"Part 1 - Lowest score: {min_score}\")\n",
    "print(f\"Part 2 - Tiles in best paths: {len(paths)}\")"
   ]
  }
 ],
 "metadata": {
  "language_info": {
   "codemirror_mode": {
    "name": "ipython",
    "version": 3
   },
   "file_extension": ".py",
   "mimetype": "text/x-python",
   "name": "python",
   "nbconvert_exporter": "python",
   "pygments_lexer": "ipython3",
   "version": "3.12.8"
  }
 },
 "nbformat": 4,
 "nbformat_minor": 4
}
